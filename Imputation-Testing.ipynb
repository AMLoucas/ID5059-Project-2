{
 "cells": [
  {
   "cell_type": "markdown",
   "id": "widespread-function",
   "metadata": {},
   "source": [
    "# Imputation testing code\n",
    "\n",
    "### Before running code you must have :\n",
    " \n",
    " * train.csv in same directory.\n",
    " * python 3 installed\n",
    " * libraries used in code installed.\n",
    " \n",
    "\n",
    "\n",
    "##"
   ]
  },
  {
   "cell_type": "code",
   "execution_count": null,
   "id": "polar-maine",
   "metadata": {},
   "outputs": [],
   "source": []
  }
 ],
 "metadata": {
  "kernelspec": {
   "display_name": "Python 3",
   "language": "python",
   "name": "python3"
  },
  "language_info": {
   "codemirror_mode": {
    "name": "ipython",
    "version": 3
   },
   "file_extension": ".py",
   "mimetype": "text/x-python",
   "name": "python",
   "nbconvert_exporter": "python",
   "pygments_lexer": "ipython3",
   "version": "3.9.2"
  }
 },
 "nbformat": 4,
 "nbformat_minor": 5
}

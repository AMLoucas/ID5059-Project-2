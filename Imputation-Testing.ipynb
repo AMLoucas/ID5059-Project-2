{
 "cells": [
  {
   "cell_type": "markdown",
   "id": "vertical-fifteen",
   "metadata": {},
   "source": [
    "# Imputation testing code\n",
    "\n",
    "### Before running code you must have :\n",
    " \n",
    " * train.csv in same directory.\n",
    " * python 3 installed\n",
    " * libraries used in code installed.\n",
    " \n",
    "**Importing the libraries that will be used**"
   ]
  },
  {
   "cell_type": "code",
   "execution_count": 25,
   "id": "rising-killing",
   "metadata": {},
   "outputs": [],
   "source": [
    "import pandas as pd\n",
    "import numpy as np\n",
    "import sys as sys\n",
    "\n",
    "# for fitting a decision tree\n",
    "from sklearn.tree import DecisionTreeRegressor\n",
    "\n",
    "# this import an renaming is needed to import missforest\n",
    "import sklearn.neighbors._base\n",
    "sys.modules['sklearn.neighbors.base'] = sklearn.neighbors._base\n",
    "# Importing the library from python to impute the missing values with MissForest tactic.\n",
    "from missingpy import MissForest\n",
    "\n",
    "# Import the KNNImputer\n",
    "from sklearn.impute import KNNImputer\n",
    "\n",
    "# Can create a confusion matrix with accuracy to see how good model is.\n",
    "from sklearn import metrics"
   ]
  },
  {
   "cell_type": "markdown",
   "id": "interstate-latter",
   "metadata": {},
   "source": [
    "**Reading the train.csv in the code to use**"
   ]
  },
  {
   "cell_type": "code",
   "execution_count": 6,
   "id": "broad-consent",
   "metadata": {},
   "outputs": [
    {
     "data": {
      "text/html": [
       "<div>\n",
       "<style scoped>\n",
       "    .dataframe tbody tr th:only-of-type {\n",
       "        vertical-align: middle;\n",
       "    }\n",
       "\n",
       "    .dataframe tbody tr th {\n",
       "        vertical-align: top;\n",
       "    }\n",
       "\n",
       "    .dataframe thead th {\n",
       "        text-align: right;\n",
       "    }\n",
       "</style>\n",
       "<table border=\"1\" class=\"dataframe\">\n",
       "  <thead>\n",
       "    <tr style=\"text-align: right;\">\n",
       "      <th></th>\n",
       "      <th>id</th>\n",
       "      <th>cat0</th>\n",
       "      <th>cat1</th>\n",
       "      <th>cat2</th>\n",
       "      <th>cat3</th>\n",
       "      <th>cat4</th>\n",
       "      <th>cat5</th>\n",
       "      <th>cat6</th>\n",
       "      <th>cat7</th>\n",
       "      <th>cat8</th>\n",
       "      <th>...</th>\n",
       "      <th>cont2</th>\n",
       "      <th>cont3</th>\n",
       "      <th>cont4</th>\n",
       "      <th>cont5</th>\n",
       "      <th>cont6</th>\n",
       "      <th>cont7</th>\n",
       "      <th>cont8</th>\n",
       "      <th>cont9</th>\n",
       "      <th>cont10</th>\n",
       "      <th>target</th>\n",
       "    </tr>\n",
       "  </thead>\n",
       "  <tbody>\n",
       "    <tr>\n",
       "      <th>0</th>\n",
       "      <td>0</td>\n",
       "      <td>A</td>\n",
       "      <td>I</td>\n",
       "      <td>A</td>\n",
       "      <td>B</td>\n",
       "      <td>B</td>\n",
       "      <td>BI</td>\n",
       "      <td>A</td>\n",
       "      <td>S</td>\n",
       "      <td>Q</td>\n",
       "      <td>...</td>\n",
       "      <td>0.759439</td>\n",
       "      <td>0.795549</td>\n",
       "      <td>0.681917</td>\n",
       "      <td>0.621672</td>\n",
       "      <td>0.592184</td>\n",
       "      <td>0.791921</td>\n",
       "      <td>0.815254</td>\n",
       "      <td>0.965006</td>\n",
       "      <td>0.665915</td>\n",
       "      <td>0</td>\n",
       "    </tr>\n",
       "    <tr>\n",
       "      <th>1</th>\n",
       "      <td>1</td>\n",
       "      <td>A</td>\n",
       "      <td>I</td>\n",
       "      <td>A</td>\n",
       "      <td>A</td>\n",
       "      <td>E</td>\n",
       "      <td>BI</td>\n",
       "      <td>K</td>\n",
       "      <td>W</td>\n",
       "      <td>AD</td>\n",
       "      <td>...</td>\n",
       "      <td>0.386385</td>\n",
       "      <td>0.541366</td>\n",
       "      <td>0.388982</td>\n",
       "      <td>0.357778</td>\n",
       "      <td>0.600044</td>\n",
       "      <td>0.408701</td>\n",
       "      <td>0.399353</td>\n",
       "      <td>0.927406</td>\n",
       "      <td>0.493729</td>\n",
       "      <td>0</td>\n",
       "    </tr>\n",
       "    <tr>\n",
       "      <th>2</th>\n",
       "      <td>2</td>\n",
       "      <td>A</td>\n",
       "      <td>K</td>\n",
       "      <td>A</td>\n",
       "      <td>A</td>\n",
       "      <td>E</td>\n",
       "      <td>BI</td>\n",
       "      <td>A</td>\n",
       "      <td>E</td>\n",
       "      <td>BM</td>\n",
       "      <td>...</td>\n",
       "      <td>0.343255</td>\n",
       "      <td>0.616352</td>\n",
       "      <td>0.793687</td>\n",
       "      <td>0.552877</td>\n",
       "      <td>0.352113</td>\n",
       "      <td>0.388835</td>\n",
       "      <td>0.412303</td>\n",
       "      <td>0.292696</td>\n",
       "      <td>0.549452</td>\n",
       "      <td>0</td>\n",
       "    </tr>\n",
       "    <tr>\n",
       "      <th>3</th>\n",
       "      <td>3</td>\n",
       "      <td>A</td>\n",
       "      <td>K</td>\n",
       "      <td>A</td>\n",
       "      <td>C</td>\n",
       "      <td>E</td>\n",
       "      <td>BI</td>\n",
       "      <td>A</td>\n",
       "      <td>Y</td>\n",
       "      <td>AD</td>\n",
       "      <td>...</td>\n",
       "      <td>0.831147</td>\n",
       "      <td>0.807807</td>\n",
       "      <td>0.800032</td>\n",
       "      <td>0.619147</td>\n",
       "      <td>0.221789</td>\n",
       "      <td>0.897617</td>\n",
       "      <td>0.633669</td>\n",
       "      <td>0.760318</td>\n",
       "      <td>0.934242</td>\n",
       "      <td>0</td>\n",
       "    </tr>\n",
       "    <tr>\n",
       "      <th>4</th>\n",
       "      <td>4</td>\n",
       "      <td>A</td>\n",
       "      <td>I</td>\n",
       "      <td>G</td>\n",
       "      <td>B</td>\n",
       "      <td>E</td>\n",
       "      <td>BI</td>\n",
       "      <td>C</td>\n",
       "      <td>G</td>\n",
       "      <td>Q</td>\n",
       "      <td>...</td>\n",
       "      <td>0.338818</td>\n",
       "      <td>0.277308</td>\n",
       "      <td>0.610578</td>\n",
       "      <td>0.128291</td>\n",
       "      <td>0.578764</td>\n",
       "      <td>0.279167</td>\n",
       "      <td>0.351103</td>\n",
       "      <td>0.357084</td>\n",
       "      <td>0.328960</td>\n",
       "      <td>1</td>\n",
       "    </tr>\n",
       "    <tr>\n",
       "      <th>5</th>\n",
       "      <td>7</td>\n",
       "      <td>A</td>\n",
       "      <td>I</td>\n",
       "      <td>C</td>\n",
       "      <td>A</td>\n",
       "      <td>E</td>\n",
       "      <td>BI</td>\n",
       "      <td>C</td>\n",
       "      <td>AV</td>\n",
       "      <td>Y</td>\n",
       "      <td>...</td>\n",
       "      <td>0.524760</td>\n",
       "      <td>0.580085</td>\n",
       "      <td>0.301498</td>\n",
       "      <td>0.261055</td>\n",
       "      <td>0.193988</td>\n",
       "      <td>0.935688</td>\n",
       "      <td>0.685868</td>\n",
       "      <td>0.277694</td>\n",
       "      <td>0.428115</td>\n",
       "      <td>0</td>\n",
       "    </tr>\n",
       "  </tbody>\n",
       "</table>\n",
       "<p>6 rows × 32 columns</p>\n",
       "</div>"
      ],
      "text/plain": [
       "   id cat0 cat1 cat2 cat3 cat4 cat5 cat6 cat7 cat8  ...     cont2     cont3  \\\n",
       "0   0    A    I    A    B    B   BI    A    S    Q  ...  0.759439  0.795549   \n",
       "1   1    A    I    A    A    E   BI    K    W   AD  ...  0.386385  0.541366   \n",
       "2   2    A    K    A    A    E   BI    A    E   BM  ...  0.343255  0.616352   \n",
       "3   3    A    K    A    C    E   BI    A    Y   AD  ...  0.831147  0.807807   \n",
       "4   4    A    I    G    B    E   BI    C    G    Q  ...  0.338818  0.277308   \n",
       "5   7    A    I    C    A    E   BI    C   AV    Y  ...  0.524760  0.580085   \n",
       "\n",
       "      cont4     cont5     cont6     cont7     cont8     cont9    cont10 target  \n",
       "0  0.681917  0.621672  0.592184  0.791921  0.815254  0.965006  0.665915      0  \n",
       "1  0.388982  0.357778  0.600044  0.408701  0.399353  0.927406  0.493729      0  \n",
       "2  0.793687  0.552877  0.352113  0.388835  0.412303  0.292696  0.549452      0  \n",
       "3  0.800032  0.619147  0.221789  0.897617  0.633669  0.760318  0.934242      0  \n",
       "4  0.610578  0.128291  0.578764  0.279167  0.351103  0.357084  0.328960      1  \n",
       "5  0.301498  0.261055  0.193988  0.935688  0.685868  0.277694  0.428115      0  \n",
       "\n",
       "[6 rows x 32 columns]"
      ]
     },
     "execution_count": 6,
     "metadata": {},
     "output_type": "execute_result"
    }
   ],
   "source": [
    "original_df = pd.read_csv(\"train.csv\") \n",
    "original_df.head(6)"
   ]
  },
  {
   "cell_type": "markdown",
   "id": "unlike-thriller",
   "metadata": {},
   "source": [
    "### Comments (Tactic to follow Q):\n",
    "Should we use only one column for testing or the whole table?\n",
    "- Here we use only 3 columns cont0, cont1 and cont2 just for testing illustrations for now."
   ]
  },
  {
   "cell_type": "code",
   "execution_count": 7,
   "id": "suburban-surveillance",
   "metadata": {},
   "outputs": [
    {
     "data": {
      "text/html": [
       "<div>\n",
       "<style scoped>\n",
       "    .dataframe tbody tr th:only-of-type {\n",
       "        vertical-align: middle;\n",
       "    }\n",
       "\n",
       "    .dataframe tbody tr th {\n",
       "        vertical-align: top;\n",
       "    }\n",
       "\n",
       "    .dataframe thead th {\n",
       "        text-align: right;\n",
       "    }\n",
       "</style>\n",
       "<table border=\"1\" class=\"dataframe\">\n",
       "  <thead>\n",
       "    <tr style=\"text-align: right;\">\n",
       "      <th></th>\n",
       "      <th>cont0</th>\n",
       "      <th>cont1</th>\n",
       "      <th>cont2</th>\n",
       "      <th>target</th>\n",
       "    </tr>\n",
       "  </thead>\n",
       "  <tbody>\n",
       "    <tr>\n",
       "      <th>0</th>\n",
       "      <td>0.629858</td>\n",
       "      <td>0.855349</td>\n",
       "      <td>0.759439</td>\n",
       "      <td>0</td>\n",
       "    </tr>\n",
       "    <tr>\n",
       "      <th>1</th>\n",
       "      <td>0.370727</td>\n",
       "      <td>0.328929</td>\n",
       "      <td>0.386385</td>\n",
       "      <td>0</td>\n",
       "    </tr>\n",
       "    <tr>\n",
       "      <th>2</th>\n",
       "      <td>0.502272</td>\n",
       "      <td>0.322749</td>\n",
       "      <td>0.343255</td>\n",
       "      <td>0</td>\n",
       "    </tr>\n",
       "  </tbody>\n",
       "</table>\n",
       "</div>"
      ],
      "text/plain": [
       "      cont0     cont1     cont2  target\n",
       "0  0.629858  0.855349  0.759439       0\n",
       "1  0.370727  0.328929  0.386385       0\n",
       "2  0.502272  0.322749  0.343255       0"
      ]
     },
     "execution_count": 7,
     "metadata": {},
     "output_type": "execute_result"
    }
   ],
   "source": [
    "# Keeping columns interested.\n",
    "imputation_data = original_df[['cont0','cont1', 'cont2', 'target']].copy()\n",
    "# Keep original columns to compare with the imputed values.\n",
    "original_used_data = imputation_data.copy()\n",
    "imputation_data.head(3)"
   ]
  },
  {
   "cell_type": "code",
   "execution_count": 8,
   "id": "excellent-crowd",
   "metadata": {},
   "outputs": [
    {
     "data": {
      "text/html": [
       "<div>\n",
       "<style scoped>\n",
       "    .dataframe tbody tr th:only-of-type {\n",
       "        vertical-align: middle;\n",
       "    }\n",
       "\n",
       "    .dataframe tbody tr th {\n",
       "        vertical-align: top;\n",
       "    }\n",
       "\n",
       "    .dataframe thead th {\n",
       "        text-align: right;\n",
       "    }\n",
       "</style>\n",
       "<table border=\"1\" class=\"dataframe\">\n",
       "  <thead>\n",
       "    <tr style=\"text-align: right;\">\n",
       "      <th></th>\n",
       "      <th>cont0</th>\n",
       "      <th>cont1</th>\n",
       "      <th>cont2</th>\n",
       "    </tr>\n",
       "  </thead>\n",
       "  <tbody>\n",
       "    <tr>\n",
       "      <th>0</th>\n",
       "      <td>0.629858</td>\n",
       "      <td>0.855349</td>\n",
       "      <td>0.759439</td>\n",
       "    </tr>\n",
       "    <tr>\n",
       "      <th>1</th>\n",
       "      <td>0.370727</td>\n",
       "      <td>0.328929</td>\n",
       "      <td>0.386385</td>\n",
       "    </tr>\n",
       "    <tr>\n",
       "      <th>2</th>\n",
       "      <td>0.502272</td>\n",
       "      <td>0.322749</td>\n",
       "      <td>0.343255</td>\n",
       "    </tr>\n",
       "    <tr>\n",
       "      <th>3</th>\n",
       "      <td>0.934242</td>\n",
       "      <td>0.707663</td>\n",
       "      <td>0.831147</td>\n",
       "    </tr>\n",
       "    <tr>\n",
       "      <th>4</th>\n",
       "      <td>0.254427</td>\n",
       "      <td>0.274514</td>\n",
       "      <td>0.338818</td>\n",
       "    </tr>\n",
       "  </tbody>\n",
       "</table>\n",
       "</div>"
      ],
      "text/plain": [
       "      cont0     cont1     cont2\n",
       "0  0.629858  0.855349  0.759439\n",
       "1  0.370727  0.328929  0.386385\n",
       "2  0.502272  0.322749  0.343255\n",
       "3  0.934242  0.707663  0.831147\n",
       "4  0.254427  0.274514  0.338818"
      ]
     },
     "execution_count": 8,
     "metadata": {},
     "output_type": "execute_result"
    }
   ],
   "source": [
    "# Divide predictors from respond.\n",
    "imputation_predictors = imputation_data[['cont0', 'cont1', 'cont2']].copy()\n",
    "imputation_respond = imputation_data[['target']].copy()\n",
    "imputation_predictors.head(5)"
   ]
  },
  {
   "cell_type": "code",
   "execution_count": 9,
   "id": "dressed-possession",
   "metadata": {},
   "outputs": [
    {
     "data": {
      "text/html": [
       "<div>\n",
       "<style scoped>\n",
       "    .dataframe tbody tr th:only-of-type {\n",
       "        vertical-align: middle;\n",
       "    }\n",
       "\n",
       "    .dataframe tbody tr th {\n",
       "        vertical-align: top;\n",
       "    }\n",
       "\n",
       "    .dataframe thead th {\n",
       "        text-align: right;\n",
       "    }\n",
       "</style>\n",
       "<table border=\"1\" class=\"dataframe\">\n",
       "  <thead>\n",
       "    <tr style=\"text-align: right;\">\n",
       "      <th></th>\n",
       "      <th>target</th>\n",
       "    </tr>\n",
       "  </thead>\n",
       "  <tbody>\n",
       "    <tr>\n",
       "      <th>0</th>\n",
       "      <td>0</td>\n",
       "    </tr>\n",
       "    <tr>\n",
       "      <th>1</th>\n",
       "      <td>0</td>\n",
       "    </tr>\n",
       "    <tr>\n",
       "      <th>2</th>\n",
       "      <td>0</td>\n",
       "    </tr>\n",
       "    <tr>\n",
       "      <th>3</th>\n",
       "      <td>0</td>\n",
       "    </tr>\n",
       "    <tr>\n",
       "      <th>4</th>\n",
       "      <td>1</td>\n",
       "    </tr>\n",
       "  </tbody>\n",
       "</table>\n",
       "</div>"
      ],
      "text/plain": [
       "   target\n",
       "0       0\n",
       "1       0\n",
       "2       0\n",
       "3       0\n",
       "4       1"
      ]
     },
     "execution_count": 9,
     "metadata": {},
     "output_type": "execute_result"
    }
   ],
   "source": [
    "imputation_respond.head(5)"
   ]
  },
  {
   "cell_type": "code",
   "execution_count": 10,
   "id": "gorgeous-georgia",
   "metadata": {},
   "outputs": [
    {
     "data": {
      "text/plain": [
       "DecisionTreeRegressor(random_state=96)"
      ]
     },
     "execution_count": 10,
     "metadata": {},
     "output_type": "execute_result"
    }
   ],
   "source": [
    "### Fit a model to predict target using cont 2 with all the true values.\n",
    "\n",
    "# Initializing random-state for repsoducible reason.\n",
    "tree_reg = DecisionTreeRegressor(random_state=96)\n",
    "# Fitting a Decision Tree\n",
    "tree_reg.fit(imputation_predictors, imputation_respond)"
   ]
  },
  {
   "cell_type": "code",
   "execution_count": 11,
   "id": "charged-trigger",
   "metadata": {},
   "outputs": [
    {
     "name": "stdout",
     "output_type": "stream",
     "text": [
      "True values:  [[0]\n",
      " [0]\n",
      " [0]\n",
      " [0]\n",
      " [1]\n",
      " [0]\n",
      " [0]\n",
      " [1]\n",
      " [0]\n",
      " [1]]\n",
      "Predicted values:  [0. 0. 0. 0. 1. 0. 0. 1. 0. 1.]\n"
     ]
    }
   ],
   "source": [
    "# Making predictions with same data used to train model.\n",
    "predicted = tree_reg.predict(imputation_predictors)\n",
    "print(\"True values: \", imputation_respond.values[0:10])\n",
    "print(\"Predicted values: \", predicted[0:10])"
   ]
  },
  {
   "cell_type": "code",
   "execution_count": 12,
   "id": "fabulous-amplifier",
   "metadata": {},
   "outputs": [
    {
     "name": "stdout",
     "output_type": "stream",
     "text": [
      "[[220539      0]\n",
      " [     0  79461]]\n"
     ]
    }
   ],
   "source": [
    "# Can create a confusion matrix with accuracy to see how good model is.\n",
    "from sklearn import metrics\n",
    "print(metrics.confusion_matrix(imputation_respond, predicted))"
   ]
  },
  {
   "cell_type": "markdown",
   "id": "secondary-terry",
   "metadata": {},
   "source": [
    "We see a PERFECT accuracy prediction. Most likely is overfitting because memorising the data."
   ]
  },
  {
   "cell_type": "markdown",
   "id": "mediterranean-thousand",
   "metadata": {},
   "source": [
    "## Randomly Removing the values and making them null"
   ]
  },
  {
   "cell_type": "code",
   "execution_count": 13,
   "id": "following-publication",
   "metadata": {},
   "outputs": [
    {
     "data": {
      "text/plain": [
       "60000.0"
      ]
     },
     "execution_count": 13,
     "metadata": {},
     "output_type": "execute_result"
    }
   ],
   "source": [
    "len(imputation_predictors)*20/100"
   ]
  },
  {
   "cell_type": "code",
   "execution_count": 14,
   "id": "satisfactory-tournament",
   "metadata": {},
   "outputs": [],
   "source": [
    "# funtion the will remove values from column cont1 at random\n",
    "# replace the removed values with NaN which is null.\n",
    "import random\n",
    "def remove_random_values(df):\n",
    "    # Set seed for reproducible reasons. Achieving same modified set every run.\n",
    "    random.seed(5059)\n",
    "    \n",
    "    # Getting 20% of the data sample to remove values.\n",
    "    put_missing_values = df.sample(\n",
    "        int(len(df)*20/100))\n",
    "    \n",
    "    # Replacing all values with string nan because we cannot update data frame IF\n",
    "    # values are null. Python will keep old values in the update.\n",
    "    put_missing_values['cont0'] = 'nan'\n",
    "    \n",
    "    # Update data frame with new 'nan' values\n",
    "    df.update(put_missing_values)\n",
    "\n",
    "    # Replacing the 'nan' values to real nan values.\n",
    "    df = df.replace('nan', np.nan)\n",
    "    \n",
    "    return df"
   ]
  },
  {
   "cell_type": "code",
   "execution_count": 15,
   "id": "looking-checklist",
   "metadata": {},
   "outputs": [
    {
     "name": "stdout",
     "output_type": "stream",
     "text": [
      "<class 'pandas.core.frame.DataFrame'>\n",
      "RangeIndex: 300000 entries, 0 to 299999\n",
      "Data columns (total 3 columns):\n",
      " #   Column  Non-Null Count   Dtype  \n",
      "---  ------  --------------   -----  \n",
      " 0   cont0   240000 non-null  float64\n",
      " 1   cont1   300000 non-null  float64\n",
      " 2   cont2   300000 non-null  float64\n",
      "dtypes: float64(3)\n",
      "memory usage: 6.9 MB\n"
     ]
    }
   ],
   "source": [
    "# Calling function to remove randome values and replacing them with null.\n",
    "median_imputation = remove_random_values(imputation_predictors.copy())\n",
    "median_imputation.info()"
   ]
  },
  {
   "cell_type": "markdown",
   "id": "younger-crazy",
   "metadata": {},
   "source": [
    "From the above results we see we have 60 000 values as null in column 'cont0'"
   ]
  },
  {
   "cell_type": "markdown",
   "id": "requested-parker",
   "metadata": {},
   "source": [
    "## Imputing with median value."
   ]
  },
  {
   "cell_type": "code",
   "execution_count": 16,
   "id": "necessary-shade",
   "metadata": {},
   "outputs": [
    {
     "name": "stdout",
     "output_type": "stream",
     "text": [
      "<class 'pandas.core.frame.DataFrame'>\n",
      "RangeIndex: 300000 entries, 0 to 299999\n",
      "Data columns (total 3 columns):\n",
      " #   Column  Non-Null Count   Dtype  \n",
      "---  ------  --------------   -----  \n",
      " 0   cont0   300000 non-null  float64\n",
      " 1   cont1   300000 non-null  float64\n",
      " 2   cont2   300000 non-null  float64\n",
      "dtypes: float64(3)\n",
      "memory usage: 6.9 MB\n"
     ]
    }
   ],
   "source": [
    "from sklearn.impute import SimpleImputer\n",
    "\n",
    "imputer = SimpleImputer(strategy=\"median\")\n",
    "imputer.fit(median_imputation)\n",
    "\n",
    "RawOutput = imputer.transform(median_imputation) # the output is an array\n",
    "\n",
    "median_imputation = pd.DataFrame(RawOutput, \n",
    "                                 columns = median_imputation.columns,\n",
    "                                 index = median_imputation.index)\n",
    "\n",
    "median_imputation.info()"
   ]
  },
  {
   "cell_type": "code",
   "execution_count": 17,
   "id": "sexual-recommendation",
   "metadata": {},
   "outputs": [
    {
     "name": "stdout",
     "output_type": "stream",
     "text": [
      "True values:  [[0]\n",
      " [0]\n",
      " [0]\n",
      " [0]\n",
      " [1]\n",
      " [0]\n",
      " [0]\n",
      " [1]\n",
      " [0]\n",
      " [1]]\n",
      "Predicted values:  [0. 0. 0. 0. 1. 0. 0. 1. 0. 1.]\n"
     ]
    }
   ],
   "source": [
    "# Making predictions with same data used to train model.\n",
    "predicted_median = tree_reg.predict(median_imputation)\n",
    "print(\"True values: \", imputation_respond.values[0:10])\n",
    "print(\"Predicted values: \", predicted_median[0:10])"
   ]
  },
  {
   "cell_type": "code",
   "execution_count": 24,
   "id": "baking-tyler",
   "metadata": {},
   "outputs": [
    {
     "name": "stdout",
     "output_type": "stream",
     "text": [
      "[[208982  11557]\n",
      " [  9192  70269]]\n"
     ]
    }
   ],
   "source": [
    "# Can create a confusion matrix with accuracy to see how good model is.\n",
    "print(metrics.confusion_matrix(imputation_respond, predicted_median))"
   ]
  },
  {
   "cell_type": "markdown",
   "id": "dried-likelihood",
   "metadata": {},
   "source": [
    "## Imputing with MissForest\n",
    "\n",
    "imputing tactic found on youtube [press here to view](https://www.youtube.com/watch?v=WhUm9jCoYf4) and website ecplaining in text [press here](https://www.betterdatascience.com/python-missforest/)\n",
    "\n",
    "- We can write about it towards the end. We have the material here."
   ]
  },
  {
   "cell_type": "code",
   "execution_count": 35,
   "id": "attractive-gnome",
   "metadata": {},
   "outputs": [],
   "source": [
    "# Getting the data frame with missing values to impute.\n",
    "miss_forest_data = remove_random_values(imputation_predictors.copy())\n",
    "\n",
    "# Create imputation tactic.\n",
    "miss_forest_imputer = MissForest()"
   ]
  },
  {
   "cell_type": "code",
   "execution_count": 36,
   "id": "reported-plymouth",
   "metadata": {},
   "outputs": [
    {
     "name": "stdout",
     "output_type": "stream",
     "text": [
      "Iteration: 0\n",
      "Iteration: 1\n",
      "Iteration: 2\n",
      "Iteration: 3\n",
      "Iteration: 4\n",
      "Iteration: 5\n",
      "CPU times: user 12min 27s, sys: 14 s, total: 12min 41s\n",
      "Wall time: 3min 30s\n"
     ]
    }
   ],
   "source": [
    "%%time\n",
    "# Imputing the missing values.\n",
    "miss_forest_data = imputer.fit_transform(miss_forest_data)"
   ]
  },
  {
   "cell_type": "code",
   "execution_count": 21,
   "id": "vanilla-photograph",
   "metadata": {},
   "outputs": [
    {
     "name": "stdout",
     "output_type": "stream",
     "text": [
      "True values:  [[0]\n",
      " [0]\n",
      " [0]\n",
      " [0]\n",
      " [1]\n",
      " [0]\n",
      " [0]\n",
      " [1]\n",
      " [0]\n",
      " [1]]\n",
      "Predicted values:  [0. 0. 1. 0. 1. 0. 0. 1. 0. 1.]\n"
     ]
    }
   ],
   "source": [
    "# Making predictions with same data used to train model.\n",
    "predicted_missforest = tree_reg.predict(miss_forest_imputer)\n",
    "print(\"True values: \", imputation_respond.values[0:10])\n",
    "print(\"Predicted values: \", predicted_missforest[0:10])"
   ]
  },
  {
   "cell_type": "code",
   "execution_count": 23,
   "id": "civilian-stomach",
   "metadata": {},
   "outputs": [
    {
     "name": "stdout",
     "output_type": "stream",
     "text": [
      "[[210292  10247]\n",
      " [ 10065  69396]]\n"
     ]
    }
   ],
   "source": [
    "print(metrics.confusion_matrix(imputation_respond, predicted_missforest))"
   ]
  },
  {
   "cell_type": "markdown",
   "id": "molecular-brazil",
   "metadata": {},
   "source": [
    "## Impute with KNNImputer\n",
    "\n",
    "- We can research a bit more on the algorithm, for now we testing them to see how they work. I found this from : [press here](https://towardsdatascience.com/missing-value-imputation-with-python-and-k-nearest-neighbors-308e7abd273d)"
   ]
  },
  {
   "cell_type": "code",
   "execution_count": 37,
   "id": "arbitrary-lawsuit",
   "metadata": {},
   "outputs": [],
   "source": [
    "# Getting the data frame with missing values to impute.\n",
    "knn_imputer_data = remove_random_values(imputation_predictors.copy())\n",
    "\n",
    "# We can adjust hyperparameter n_neighbors.\n",
    "knn_imputer = KNNImputer(n_neighbors=3)"
   ]
  },
  {
   "cell_type": "code",
   "execution_count": 38,
   "id": "generic-mortality",
   "metadata": {},
   "outputs": [
    {
     "name": "stdout",
     "output_type": "stream",
     "text": [
      "Iteration: 0\n",
      "Iteration: 1\n",
      "Iteration: 2\n",
      "CPU times: user 6min 17s, sys: 5.9 s, total: 6min 23s\n",
      "Wall time: 1min 41s\n"
     ]
    }
   ],
   "source": [
    "%%time\n",
    "# Imputing values\n",
    "knn_imputer_data = imputer.fit_transform(knn_imputer_data)"
   ]
  },
  {
   "cell_type": "code",
   "execution_count": 27,
   "id": "august-automation",
   "metadata": {},
   "outputs": [
    {
     "name": "stdout",
     "output_type": "stream",
     "text": [
      "True values:  [[0]\n",
      " [0]\n",
      " [0]\n",
      " [0]\n",
      " [1]\n",
      " [0]\n",
      " [0]\n",
      " [1]\n",
      " [0]\n",
      " [1]]\n",
      "Predicted values:  [0. 0. 0. 0. 1. 1. 0. 1. 0. 1.]\n"
     ]
    }
   ],
   "source": [
    "# Making predictions with same data used to train model.\n",
    "predicted_knn = tree_reg.predict(knn_imputer_data)\n",
    "print(\"True values: \", imputation_respond.values[0:10])\n",
    "print(\"Predicted values: \", predicted_knn[0:10])"
   ]
  },
  {
   "cell_type": "code",
   "execution_count": 28,
   "id": "tired-coast",
   "metadata": {},
   "outputs": [
    {
     "name": "stdout",
     "output_type": "stream",
     "text": [
      "[[210203  10336]\n",
      " [ 10019  69442]]\n"
     ]
    }
   ],
   "source": [
    "print(metrics.confusion_matrix(imputation_respond, predicted_knn))"
   ]
  },
  {
   "cell_type": "code",
   "execution_count": null,
   "id": "attractive-headset",
   "metadata": {},
   "outputs": [],
   "source": []
  }
 ],
 "metadata": {
  "kernelspec": {
   "display_name": "Python 3",
   "language": "python",
   "name": "python3"
  },
  "language_info": {
   "codemirror_mode": {
    "name": "ipython",
    "version": 3
   },
   "file_extension": ".py",
   "mimetype": "text/x-python",
   "name": "python",
   "nbconvert_exporter": "python",
   "pygments_lexer": "ipython3",
   "version": "3.9.2"
  }
 },
 "nbformat": 4,
 "nbformat_minor": 5
}

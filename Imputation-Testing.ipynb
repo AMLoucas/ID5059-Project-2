{
 "cells": [
  {
   "cell_type": "markdown",
   "id": "vertical-fifteen",
   "metadata": {},
   "source": [
    "# Imputation testing code\n",
    "\n",
    "### Before running code you must have :\n",
    " \n",
    " * train.csv in same directory.\n",
    " * python 3 installed\n",
    " * libraries used in code installed.\n",
    " \n",
    "**Importing the libraries that will be used**"
   ]
  },
  {
   "cell_type": "code",
   "execution_count": 3,
   "id": "rising-killing",
   "metadata": {},
   "outputs": [],
   "source": [
    "import pandas as pd\n",
    "import numpy as np\n",
    "import sys as sys\n",
    "\n",
    "# for fitting a decision tree\n",
    "from sklearn.tree import DecisionTreeRegressor\n",
    "\n",
    "# this import an renaming is needed to import missforest\n",
    "import sklearn.neighbors._base\n",
    "sys.modules['sklearn.neighbors.base'] = sklearn.neighbors._base\n",
    "# Importing the library from python to impute the missing values with MissForest tactic.\n",
    "from missingpy import MissForest\n",
    "# Import the KNNImputer\n",
    "from sklearn.impute import KNNImputer\n",
    "# Import simpleimputer to import with median\n",
    "from sklearn.impute import SimpleImputer\n",
    "\n",
    "# Can create a confusion matrix with accuracy to see how good model is.\n",
    "from sklearn import metrics\n",
    "# Importing accuracy_score to auto calculate our classifiers accuracy\n",
    "from sklearn.metrics import accuracy_score\n",
    "\n",
    "# Importing so we can create confusion matrix images.\n",
    "import matplotlib.pyplot as plt\n",
    "import seaborn as sn\n",
    "\n",
    "# Imports for reproducible code and time-handling.\n",
    "import random\n",
    "import time"
   ]
  },
  {
   "cell_type": "markdown",
   "id": "interstate-latter",
   "metadata": {},
   "source": [
    "**Reading the train.csv in the code to use**"
   ]
  },
  {
   "cell_type": "code",
   "execution_count": 23,
   "id": "broad-consent",
   "metadata": {},
   "outputs": [
    {
     "data": {
      "text/html": [
       "<div>\n",
       "<style scoped>\n",
       "    .dataframe tbody tr th:only-of-type {\n",
       "        vertical-align: middle;\n",
       "    }\n",
       "\n",
       "    .dataframe tbody tr th {\n",
       "        vertical-align: top;\n",
       "    }\n",
       "\n",
       "    .dataframe thead th {\n",
       "        text-align: right;\n",
       "    }\n",
       "</style>\n",
       "<table border=\"1\" class=\"dataframe\">\n",
       "  <thead>\n",
       "    <tr style=\"text-align: right;\">\n",
       "      <th></th>\n",
       "      <th>id</th>\n",
       "      <th>cat0</th>\n",
       "      <th>cat1</th>\n",
       "      <th>cat2</th>\n",
       "      <th>cat3</th>\n",
       "      <th>cat4</th>\n",
       "      <th>cat5</th>\n",
       "      <th>cat6</th>\n",
       "      <th>cat7</th>\n",
       "      <th>cat8</th>\n",
       "      <th>...</th>\n",
       "      <th>cont2</th>\n",
       "      <th>cont3</th>\n",
       "      <th>cont4</th>\n",
       "      <th>cont5</th>\n",
       "      <th>cont6</th>\n",
       "      <th>cont7</th>\n",
       "      <th>cont8</th>\n",
       "      <th>cont9</th>\n",
       "      <th>cont10</th>\n",
       "      <th>target</th>\n",
       "    </tr>\n",
       "  </thead>\n",
       "  <tbody>\n",
       "    <tr>\n",
       "      <th>0</th>\n",
       "      <td>0</td>\n",
       "      <td>A</td>\n",
       "      <td>I</td>\n",
       "      <td>A</td>\n",
       "      <td>B</td>\n",
       "      <td>B</td>\n",
       "      <td>BI</td>\n",
       "      <td>A</td>\n",
       "      <td>S</td>\n",
       "      <td>Q</td>\n",
       "      <td>...</td>\n",
       "      <td>0.759439</td>\n",
       "      <td>0.795549</td>\n",
       "      <td>0.681917</td>\n",
       "      <td>0.621672</td>\n",
       "      <td>0.592184</td>\n",
       "      <td>0.791921</td>\n",
       "      <td>0.815254</td>\n",
       "      <td>0.965006</td>\n",
       "      <td>0.665915</td>\n",
       "      <td>0</td>\n",
       "    </tr>\n",
       "    <tr>\n",
       "      <th>1</th>\n",
       "      <td>1</td>\n",
       "      <td>A</td>\n",
       "      <td>I</td>\n",
       "      <td>A</td>\n",
       "      <td>A</td>\n",
       "      <td>E</td>\n",
       "      <td>BI</td>\n",
       "      <td>K</td>\n",
       "      <td>W</td>\n",
       "      <td>AD</td>\n",
       "      <td>...</td>\n",
       "      <td>0.386385</td>\n",
       "      <td>0.541366</td>\n",
       "      <td>0.388982</td>\n",
       "      <td>0.357778</td>\n",
       "      <td>0.600044</td>\n",
       "      <td>0.408701</td>\n",
       "      <td>0.399353</td>\n",
       "      <td>0.927406</td>\n",
       "      <td>0.493729</td>\n",
       "      <td>0</td>\n",
       "    </tr>\n",
       "    <tr>\n",
       "      <th>2</th>\n",
       "      <td>2</td>\n",
       "      <td>A</td>\n",
       "      <td>K</td>\n",
       "      <td>A</td>\n",
       "      <td>A</td>\n",
       "      <td>E</td>\n",
       "      <td>BI</td>\n",
       "      <td>A</td>\n",
       "      <td>E</td>\n",
       "      <td>BM</td>\n",
       "      <td>...</td>\n",
       "      <td>0.343255</td>\n",
       "      <td>0.616352</td>\n",
       "      <td>0.793687</td>\n",
       "      <td>0.552877</td>\n",
       "      <td>0.352113</td>\n",
       "      <td>0.388835</td>\n",
       "      <td>0.412303</td>\n",
       "      <td>0.292696</td>\n",
       "      <td>0.549452</td>\n",
       "      <td>0</td>\n",
       "    </tr>\n",
       "    <tr>\n",
       "      <th>3</th>\n",
       "      <td>3</td>\n",
       "      <td>A</td>\n",
       "      <td>K</td>\n",
       "      <td>A</td>\n",
       "      <td>C</td>\n",
       "      <td>E</td>\n",
       "      <td>BI</td>\n",
       "      <td>A</td>\n",
       "      <td>Y</td>\n",
       "      <td>AD</td>\n",
       "      <td>...</td>\n",
       "      <td>0.831147</td>\n",
       "      <td>0.807807</td>\n",
       "      <td>0.800032</td>\n",
       "      <td>0.619147</td>\n",
       "      <td>0.221789</td>\n",
       "      <td>0.897617</td>\n",
       "      <td>0.633669</td>\n",
       "      <td>0.760318</td>\n",
       "      <td>0.934242</td>\n",
       "      <td>0</td>\n",
       "    </tr>\n",
       "    <tr>\n",
       "      <th>4</th>\n",
       "      <td>4</td>\n",
       "      <td>A</td>\n",
       "      <td>I</td>\n",
       "      <td>G</td>\n",
       "      <td>B</td>\n",
       "      <td>E</td>\n",
       "      <td>BI</td>\n",
       "      <td>C</td>\n",
       "      <td>G</td>\n",
       "      <td>Q</td>\n",
       "      <td>...</td>\n",
       "      <td>0.338818</td>\n",
       "      <td>0.277308</td>\n",
       "      <td>0.610578</td>\n",
       "      <td>0.128291</td>\n",
       "      <td>0.578764</td>\n",
       "      <td>0.279167</td>\n",
       "      <td>0.351103</td>\n",
       "      <td>0.357084</td>\n",
       "      <td>0.328960</td>\n",
       "      <td>1</td>\n",
       "    </tr>\n",
       "  </tbody>\n",
       "</table>\n",
       "<p>5 rows × 32 columns</p>\n",
       "</div>"
      ],
      "text/plain": [
       "   id cat0 cat1 cat2 cat3 cat4 cat5 cat6 cat7 cat8  ...     cont2     cont3  \\\n",
       "0   0    A    I    A    B    B   BI    A    S    Q  ...  0.759439  0.795549   \n",
       "1   1    A    I    A    A    E   BI    K    W   AD  ...  0.386385  0.541366   \n",
       "2   2    A    K    A    A    E   BI    A    E   BM  ...  0.343255  0.616352   \n",
       "3   3    A    K    A    C    E   BI    A    Y   AD  ...  0.831147  0.807807   \n",
       "4   4    A    I    G    B    E   BI    C    G    Q  ...  0.338818  0.277308   \n",
       "\n",
       "      cont4     cont5     cont6     cont7     cont8     cont9    cont10 target  \n",
       "0  0.681917  0.621672  0.592184  0.791921  0.815254  0.965006  0.665915      0  \n",
       "1  0.388982  0.357778  0.600044  0.408701  0.399353  0.927406  0.493729      0  \n",
       "2  0.793687  0.552877  0.352113  0.388835  0.412303  0.292696  0.549452      0  \n",
       "3  0.800032  0.619147  0.221789  0.897617  0.633669  0.760318  0.934242      0  \n",
       "4  0.610578  0.128291  0.578764  0.279167  0.351103  0.357084  0.328960      1  \n",
       "\n",
       "[5 rows x 32 columns]"
      ]
     },
     "execution_count": 23,
     "metadata": {},
     "output_type": "execute_result"
    }
   ],
   "source": [
    "original_df = pd.read_csv(\"train.csv\") \n",
    "original_df.head(5)"
   ]
  },
  {
   "cell_type": "code",
   "execution_count": 21,
   "id": "optional-tamil",
   "metadata": {},
   "outputs": [
    {
     "name": "stdout",
     "output_type": "stream",
     "text": [
      "<class 'pandas.core.frame.DataFrame'>\n",
      "Int64Index: 60000 entries, 262799 to 299908\n",
      "Data columns (total 32 columns):\n",
      " #   Column  Non-Null Count  Dtype  \n",
      "---  ------  --------------  -----  \n",
      " 0   id      60000 non-null  int64  \n",
      " 1   cat0    60000 non-null  object \n",
      " 2   cat1    60000 non-null  object \n",
      " 3   cat2    60000 non-null  object \n",
      " 4   cat3    60000 non-null  object \n",
      " 5   cat4    60000 non-null  object \n",
      " 6   cat5    60000 non-null  object \n",
      " 7   cat6    60000 non-null  object \n",
      " 8   cat7    60000 non-null  object \n",
      " 9   cat8    60000 non-null  object \n",
      " 10  cat9    60000 non-null  object \n",
      " 11  cat10   60000 non-null  object \n",
      " 12  cat11   60000 non-null  object \n",
      " 13  cat12   60000 non-null  object \n",
      " 14  cat13   60000 non-null  object \n",
      " 15  cat14   60000 non-null  object \n",
      " 16  cat15   60000 non-null  object \n",
      " 17  cat16   60000 non-null  object \n",
      " 18  cat17   60000 non-null  object \n",
      " 19  cat18   60000 non-null  object \n",
      " 20  cont0   60000 non-null  float64\n",
      " 21  cont1   60000 non-null  float64\n",
      " 22  cont2   60000 non-null  float64\n",
      " 23  cont3   60000 non-null  float64\n",
      " 24  cont4   60000 non-null  float64\n",
      " 25  cont5   60000 non-null  float64\n",
      " 26  cont6   60000 non-null  float64\n",
      " 27  cont7   60000 non-null  float64\n",
      " 28  cont8   60000 non-null  float64\n",
      " 29  cont9   60000 non-null  float64\n",
      " 30  cont10  60000 non-null  float64\n",
      " 31  target  60000 non-null  int64  \n",
      "dtypes: float64(11), int64(2), object(19)\n",
      "memory usage: 15.1+ MB\n"
     ]
    }
   ],
   "source": []
  },
  {
   "cell_type": "markdown",
   "id": "unlike-thriller",
   "metadata": {},
   "source": [
    "### Choosing columns to apply imputation techniques\n",
    "\n",
    "We have a data frame that consists with 32 columns and 300K rows, \n",
    "- Here we use only 3 columns cont0, cont1 and cont2 just for testing illustrations for now."
   ]
  },
  {
   "cell_type": "code",
   "execution_count": 16,
   "id": "suburban-surveillance",
   "metadata": {},
   "outputs": [
    {
     "data": {
      "text/html": [
       "<div>\n",
       "<style scoped>\n",
       "    .dataframe tbody tr th:only-of-type {\n",
       "        vertical-align: middle;\n",
       "    }\n",
       "\n",
       "    .dataframe tbody tr th {\n",
       "        vertical-align: top;\n",
       "    }\n",
       "\n",
       "    .dataframe thead th {\n",
       "        text-align: right;\n",
       "    }\n",
       "</style>\n",
       "<table border=\"1\" class=\"dataframe\">\n",
       "  <thead>\n",
       "    <tr style=\"text-align: right;\">\n",
       "      <th></th>\n",
       "      <th>cat1</th>\n",
       "      <th>cont0</th>\n",
       "      <th>cont1</th>\n",
       "      <th>cont2</th>\n",
       "      <th>target</th>\n",
       "    </tr>\n",
       "  </thead>\n",
       "  <tbody>\n",
       "    <tr>\n",
       "      <th>0</th>\n",
       "      <td>I</td>\n",
       "      <td>0.629858</td>\n",
       "      <td>0.855349</td>\n",
       "      <td>0.759439</td>\n",
       "      <td>0</td>\n",
       "    </tr>\n",
       "    <tr>\n",
       "      <th>1</th>\n",
       "      <td>I</td>\n",
       "      <td>0.370727</td>\n",
       "      <td>0.328929</td>\n",
       "      <td>0.386385</td>\n",
       "      <td>0</td>\n",
       "    </tr>\n",
       "    <tr>\n",
       "      <th>2</th>\n",
       "      <td>K</td>\n",
       "      <td>0.502272</td>\n",
       "      <td>0.322749</td>\n",
       "      <td>0.343255</td>\n",
       "      <td>0</td>\n",
       "    </tr>\n",
       "  </tbody>\n",
       "</table>\n",
       "</div>"
      ],
      "text/plain": [
       "  cat1     cont0     cont1     cont2  target\n",
       "0    I  0.629858  0.855349  0.759439       0\n",
       "1    I  0.370727  0.328929  0.386385       0\n",
       "2    K  0.502272  0.322749  0.343255       0"
      ]
     },
     "execution_count": 16,
     "metadata": {},
     "output_type": "execute_result"
    }
   ],
   "source": [
    "# Separating and isolating the respond value from the rest dataset.\n",
    "true_values = original_df[['target']].copy()\n",
    "\n",
    "# Keeping columns interested.\n",
    "imputation_data = original_df[['cat1','cont0','cont1', 'cont2', 'target']].copy()\n",
    "# Keep original columns to compare with the imputed values.\n",
    "original_used_data = imputation_data.copy()\n",
    "imputation_data.head(3)"
   ]
  },
  {
   "cell_type": "code",
   "execution_count": 17,
   "id": "excellent-crowd",
   "metadata": {},
   "outputs": [
    {
     "data": {
      "text/html": [
       "<div>\n",
       "<style scoped>\n",
       "    .dataframe tbody tr th:only-of-type {\n",
       "        vertical-align: middle;\n",
       "    }\n",
       "\n",
       "    .dataframe tbody tr th {\n",
       "        vertical-align: top;\n",
       "    }\n",
       "\n",
       "    .dataframe thead th {\n",
       "        text-align: right;\n",
       "    }\n",
       "</style>\n",
       "<table border=\"1\" class=\"dataframe\">\n",
       "  <thead>\n",
       "    <tr style=\"text-align: right;\">\n",
       "      <th></th>\n",
       "      <th>cat1</th>\n",
       "      <th>cont0</th>\n",
       "      <th>cont1</th>\n",
       "      <th>cont2</th>\n",
       "    </tr>\n",
       "  </thead>\n",
       "  <tbody>\n",
       "    <tr>\n",
       "      <th>0</th>\n",
       "      <td>I</td>\n",
       "      <td>0.629858</td>\n",
       "      <td>0.855349</td>\n",
       "      <td>0.759439</td>\n",
       "    </tr>\n",
       "    <tr>\n",
       "      <th>1</th>\n",
       "      <td>I</td>\n",
       "      <td>0.370727</td>\n",
       "      <td>0.328929</td>\n",
       "      <td>0.386385</td>\n",
       "    </tr>\n",
       "    <tr>\n",
       "      <th>2</th>\n",
       "      <td>K</td>\n",
       "      <td>0.502272</td>\n",
       "      <td>0.322749</td>\n",
       "      <td>0.343255</td>\n",
       "    </tr>\n",
       "    <tr>\n",
       "      <th>3</th>\n",
       "      <td>K</td>\n",
       "      <td>0.934242</td>\n",
       "      <td>0.707663</td>\n",
       "      <td>0.831147</td>\n",
       "    </tr>\n",
       "    <tr>\n",
       "      <th>4</th>\n",
       "      <td>I</td>\n",
       "      <td>0.254427</td>\n",
       "      <td>0.274514</td>\n",
       "      <td>0.338818</td>\n",
       "    </tr>\n",
       "  </tbody>\n",
       "</table>\n",
       "</div>"
      ],
      "text/plain": [
       "  cat1     cont0     cont1     cont2\n",
       "0    I  0.629858  0.855349  0.759439\n",
       "1    I  0.370727  0.328929  0.386385\n",
       "2    K  0.502272  0.322749  0.343255\n",
       "3    K  0.934242  0.707663  0.831147\n",
       "4    I  0.254427  0.274514  0.338818"
      ]
     },
     "execution_count": 17,
     "metadata": {},
     "output_type": "execute_result"
    }
   ],
   "source": [
    "# Divide predictors from respond.\n",
    "imputation_predictors = imputation_data[['cat1', 'cont0', 'cont1', 'cont2']].copy()\n",
    "imputation_respond = imputation_data[['target']].copy()\n",
    "imputation_predictors.head(5)"
   ]
  },
  {
   "cell_type": "code",
   "execution_count": 18,
   "id": "dressed-possession",
   "metadata": {},
   "outputs": [
    {
     "data": {
      "text/html": [
       "<div>\n",
       "<style scoped>\n",
       "    .dataframe tbody tr th:only-of-type {\n",
       "        vertical-align: middle;\n",
       "    }\n",
       "\n",
       "    .dataframe tbody tr th {\n",
       "        vertical-align: top;\n",
       "    }\n",
       "\n",
       "    .dataframe thead th {\n",
       "        text-align: right;\n",
       "    }\n",
       "</style>\n",
       "<table border=\"1\" class=\"dataframe\">\n",
       "  <thead>\n",
       "    <tr style=\"text-align: right;\">\n",
       "      <th></th>\n",
       "      <th>target</th>\n",
       "    </tr>\n",
       "  </thead>\n",
       "  <tbody>\n",
       "    <tr>\n",
       "      <th>0</th>\n",
       "      <td>0</td>\n",
       "    </tr>\n",
       "    <tr>\n",
       "      <th>1</th>\n",
       "      <td>0</td>\n",
       "    </tr>\n",
       "    <tr>\n",
       "      <th>2</th>\n",
       "      <td>0</td>\n",
       "    </tr>\n",
       "    <tr>\n",
       "      <th>3</th>\n",
       "      <td>0</td>\n",
       "    </tr>\n",
       "    <tr>\n",
       "      <th>4</th>\n",
       "      <td>1</td>\n",
       "    </tr>\n",
       "  </tbody>\n",
       "</table>\n",
       "</div>"
      ],
      "text/plain": [
       "   target\n",
       "0       0\n",
       "1       0\n",
       "2       0\n",
       "3       0\n",
       "4       1"
      ]
     },
     "execution_count": 18,
     "metadata": {},
     "output_type": "execute_result"
    }
   ],
   "source": [
    "imputation_respond.head(5)"
   ]
  },
  {
   "cell_type": "code",
   "execution_count": 19,
   "id": "gorgeous-georgia",
   "metadata": {},
   "outputs": [
    {
     "ename": "ValueError",
     "evalue": "could not convert string to float: 'I'",
     "output_type": "error",
     "traceback": [
      "\u001b[0;31m---------------------------------------------------------------------------\u001b[0m",
      "\u001b[0;31mValueError\u001b[0m                                Traceback (most recent call last)",
      "\u001b[0;32m<ipython-input-19-94ca8e598a95>\u001b[0m in \u001b[0;36m<module>\u001b[0;34m\u001b[0m\n\u001b[1;32m      4\u001b[0m \u001b[0mtree_reg\u001b[0m \u001b[0;34m=\u001b[0m \u001b[0mDecisionTreeRegressor\u001b[0m\u001b[0;34m(\u001b[0m\u001b[0mrandom_state\u001b[0m\u001b[0;34m=\u001b[0m\u001b[0;36m96\u001b[0m\u001b[0;34m)\u001b[0m\u001b[0;34m\u001b[0m\u001b[0;34m\u001b[0m\u001b[0m\n\u001b[1;32m      5\u001b[0m \u001b[0;31m# Fitting a Decision Tree\u001b[0m\u001b[0;34m\u001b[0m\u001b[0;34m\u001b[0m\u001b[0;34m\u001b[0m\u001b[0m\n\u001b[0;32m----> 6\u001b[0;31m \u001b[0mtree_reg\u001b[0m\u001b[0;34m.\u001b[0m\u001b[0mfit\u001b[0m\u001b[0;34m(\u001b[0m\u001b[0mimputation_predictors\u001b[0m\u001b[0;34m,\u001b[0m \u001b[0mimputation_respond\u001b[0m\u001b[0;34m)\u001b[0m\u001b[0;34m\u001b[0m\u001b[0;34m\u001b[0m\u001b[0m\n\u001b[0m",
      "\u001b[0;32m/usr/local/Cellar/jupyterlab/3.0.9/libexec/lib/python3.9/site-packages/sklearn/tree/_classes.py\u001b[0m in \u001b[0;36mfit\u001b[0;34m(self, X, y, sample_weight, check_input, X_idx_sorted)\u001b[0m\n\u001b[1;32m   1245\u001b[0m         \"\"\"\n\u001b[1;32m   1246\u001b[0m \u001b[0;34m\u001b[0m\u001b[0m\n\u001b[0;32m-> 1247\u001b[0;31m         super().fit(\n\u001b[0m\u001b[1;32m   1248\u001b[0m             \u001b[0mX\u001b[0m\u001b[0;34m,\u001b[0m \u001b[0my\u001b[0m\u001b[0;34m,\u001b[0m\u001b[0;34m\u001b[0m\u001b[0;34m\u001b[0m\u001b[0m\n\u001b[1;32m   1249\u001b[0m             \u001b[0msample_weight\u001b[0m\u001b[0;34m=\u001b[0m\u001b[0msample_weight\u001b[0m\u001b[0;34m,\u001b[0m\u001b[0;34m\u001b[0m\u001b[0;34m\u001b[0m\u001b[0m\n",
      "\u001b[0;32m/usr/local/Cellar/jupyterlab/3.0.9/libexec/lib/python3.9/site-packages/sklearn/tree/_classes.py\u001b[0m in \u001b[0;36mfit\u001b[0;34m(self, X, y, sample_weight, check_input, X_idx_sorted)\u001b[0m\n\u001b[1;32m    154\u001b[0m             \u001b[0mcheck_X_params\u001b[0m \u001b[0;34m=\u001b[0m \u001b[0mdict\u001b[0m\u001b[0;34m(\u001b[0m\u001b[0mdtype\u001b[0m\u001b[0;34m=\u001b[0m\u001b[0mDTYPE\u001b[0m\u001b[0;34m,\u001b[0m \u001b[0maccept_sparse\u001b[0m\u001b[0;34m=\u001b[0m\u001b[0;34m\"csc\"\u001b[0m\u001b[0;34m)\u001b[0m\u001b[0;34m\u001b[0m\u001b[0;34m\u001b[0m\u001b[0m\n\u001b[1;32m    155\u001b[0m             \u001b[0mcheck_y_params\u001b[0m \u001b[0;34m=\u001b[0m \u001b[0mdict\u001b[0m\u001b[0;34m(\u001b[0m\u001b[0mensure_2d\u001b[0m\u001b[0;34m=\u001b[0m\u001b[0;32mFalse\u001b[0m\u001b[0;34m,\u001b[0m \u001b[0mdtype\u001b[0m\u001b[0;34m=\u001b[0m\u001b[0;32mNone\u001b[0m\u001b[0;34m)\u001b[0m\u001b[0;34m\u001b[0m\u001b[0;34m\u001b[0m\u001b[0m\n\u001b[0;32m--> 156\u001b[0;31m             X, y = self._validate_data(X, y,\n\u001b[0m\u001b[1;32m    157\u001b[0m                                        validate_separately=(check_X_params,\n\u001b[1;32m    158\u001b[0m                                                             check_y_params))\n",
      "\u001b[0;32m/usr/local/Cellar/jupyterlab/3.0.9/libexec/lib/python3.9/site-packages/sklearn/base.py\u001b[0m in \u001b[0;36m_validate_data\u001b[0;34m(self, X, y, reset, validate_separately, **check_params)\u001b[0m\n\u001b[1;32m    428\u001b[0m                 \u001b[0;31m# :(\u001b[0m\u001b[0;34m\u001b[0m\u001b[0;34m\u001b[0m\u001b[0;34m\u001b[0m\u001b[0m\n\u001b[1;32m    429\u001b[0m                 \u001b[0mcheck_X_params\u001b[0m\u001b[0;34m,\u001b[0m \u001b[0mcheck_y_params\u001b[0m \u001b[0;34m=\u001b[0m \u001b[0mvalidate_separately\u001b[0m\u001b[0;34m\u001b[0m\u001b[0;34m\u001b[0m\u001b[0m\n\u001b[0;32m--> 430\u001b[0;31m                 \u001b[0mX\u001b[0m \u001b[0;34m=\u001b[0m \u001b[0mcheck_array\u001b[0m\u001b[0;34m(\u001b[0m\u001b[0mX\u001b[0m\u001b[0;34m,\u001b[0m \u001b[0;34m**\u001b[0m\u001b[0mcheck_X_params\u001b[0m\u001b[0;34m)\u001b[0m\u001b[0;34m\u001b[0m\u001b[0;34m\u001b[0m\u001b[0m\n\u001b[0m\u001b[1;32m    431\u001b[0m                 \u001b[0my\u001b[0m \u001b[0;34m=\u001b[0m \u001b[0mcheck_array\u001b[0m\u001b[0;34m(\u001b[0m\u001b[0my\u001b[0m\u001b[0;34m,\u001b[0m \u001b[0;34m**\u001b[0m\u001b[0mcheck_y_params\u001b[0m\u001b[0;34m)\u001b[0m\u001b[0;34m\u001b[0m\u001b[0;34m\u001b[0m\u001b[0m\n\u001b[1;32m    432\u001b[0m             \u001b[0;32melse\u001b[0m\u001b[0;34m:\u001b[0m\u001b[0;34m\u001b[0m\u001b[0;34m\u001b[0m\u001b[0m\n",
      "\u001b[0;32m/usr/local/Cellar/jupyterlab/3.0.9/libexec/lib/python3.9/site-packages/sklearn/utils/validation.py\u001b[0m in \u001b[0;36minner_f\u001b[0;34m(*args, **kwargs)\u001b[0m\n\u001b[1;32m     61\u001b[0m             \u001b[0mextra_args\u001b[0m \u001b[0;34m=\u001b[0m \u001b[0mlen\u001b[0m\u001b[0;34m(\u001b[0m\u001b[0margs\u001b[0m\u001b[0;34m)\u001b[0m \u001b[0;34m-\u001b[0m \u001b[0mlen\u001b[0m\u001b[0;34m(\u001b[0m\u001b[0mall_args\u001b[0m\u001b[0;34m)\u001b[0m\u001b[0;34m\u001b[0m\u001b[0;34m\u001b[0m\u001b[0m\n\u001b[1;32m     62\u001b[0m             \u001b[0;32mif\u001b[0m \u001b[0mextra_args\u001b[0m \u001b[0;34m<=\u001b[0m \u001b[0;36m0\u001b[0m\u001b[0;34m:\u001b[0m\u001b[0;34m\u001b[0m\u001b[0;34m\u001b[0m\u001b[0m\n\u001b[0;32m---> 63\u001b[0;31m                 \u001b[0;32mreturn\u001b[0m \u001b[0mf\u001b[0m\u001b[0;34m(\u001b[0m\u001b[0;34m*\u001b[0m\u001b[0margs\u001b[0m\u001b[0;34m,\u001b[0m \u001b[0;34m**\u001b[0m\u001b[0mkwargs\u001b[0m\u001b[0;34m)\u001b[0m\u001b[0;34m\u001b[0m\u001b[0;34m\u001b[0m\u001b[0m\n\u001b[0m\u001b[1;32m     64\u001b[0m \u001b[0;34m\u001b[0m\u001b[0m\n\u001b[1;32m     65\u001b[0m             \u001b[0;31m# extra_args > 0\u001b[0m\u001b[0;34m\u001b[0m\u001b[0;34m\u001b[0m\u001b[0;34m\u001b[0m\u001b[0m\n",
      "\u001b[0;32m/usr/local/Cellar/jupyterlab/3.0.9/libexec/lib/python3.9/site-packages/sklearn/utils/validation.py\u001b[0m in \u001b[0;36mcheck_array\u001b[0;34m(array, accept_sparse, accept_large_sparse, dtype, order, copy, force_all_finite, ensure_2d, allow_nd, ensure_min_samples, ensure_min_features, estimator)\u001b[0m\n\u001b[1;32m    614\u001b[0m                     \u001b[0marray\u001b[0m \u001b[0;34m=\u001b[0m \u001b[0marray\u001b[0m\u001b[0;34m.\u001b[0m\u001b[0mastype\u001b[0m\u001b[0;34m(\u001b[0m\u001b[0mdtype\u001b[0m\u001b[0;34m,\u001b[0m \u001b[0mcasting\u001b[0m\u001b[0;34m=\u001b[0m\u001b[0;34m\"unsafe\"\u001b[0m\u001b[0;34m,\u001b[0m \u001b[0mcopy\u001b[0m\u001b[0;34m=\u001b[0m\u001b[0;32mFalse\u001b[0m\u001b[0;34m)\u001b[0m\u001b[0;34m\u001b[0m\u001b[0;34m\u001b[0m\u001b[0m\n\u001b[1;32m    615\u001b[0m                 \u001b[0;32melse\u001b[0m\u001b[0;34m:\u001b[0m\u001b[0;34m\u001b[0m\u001b[0;34m\u001b[0m\u001b[0m\n\u001b[0;32m--> 616\u001b[0;31m                     \u001b[0marray\u001b[0m \u001b[0;34m=\u001b[0m \u001b[0mnp\u001b[0m\u001b[0;34m.\u001b[0m\u001b[0masarray\u001b[0m\u001b[0;34m(\u001b[0m\u001b[0marray\u001b[0m\u001b[0;34m,\u001b[0m \u001b[0morder\u001b[0m\u001b[0;34m=\u001b[0m\u001b[0morder\u001b[0m\u001b[0;34m,\u001b[0m \u001b[0mdtype\u001b[0m\u001b[0;34m=\u001b[0m\u001b[0mdtype\u001b[0m\u001b[0;34m)\u001b[0m\u001b[0;34m\u001b[0m\u001b[0;34m\u001b[0m\u001b[0m\n\u001b[0m\u001b[1;32m    617\u001b[0m             \u001b[0;32mexcept\u001b[0m \u001b[0mComplexWarning\u001b[0m \u001b[0;32mas\u001b[0m \u001b[0mcomplex_warning\u001b[0m\u001b[0;34m:\u001b[0m\u001b[0;34m\u001b[0m\u001b[0;34m\u001b[0m\u001b[0m\n\u001b[1;32m    618\u001b[0m                 raise ValueError(\"Complex data not supported\\n\"\n",
      "\u001b[0;32m/usr/local/Cellar/jupyterlab/3.0.9/libexec/lib/python3.9/site-packages/numpy/core/_asarray.py\u001b[0m in \u001b[0;36masarray\u001b[0;34m(a, dtype, order, like)\u001b[0m\n\u001b[1;32m    100\u001b[0m         \u001b[0;32mreturn\u001b[0m \u001b[0m_asarray_with_like\u001b[0m\u001b[0;34m(\u001b[0m\u001b[0ma\u001b[0m\u001b[0;34m,\u001b[0m \u001b[0mdtype\u001b[0m\u001b[0;34m=\u001b[0m\u001b[0mdtype\u001b[0m\u001b[0;34m,\u001b[0m \u001b[0morder\u001b[0m\u001b[0;34m=\u001b[0m\u001b[0morder\u001b[0m\u001b[0;34m,\u001b[0m \u001b[0mlike\u001b[0m\u001b[0;34m=\u001b[0m\u001b[0mlike\u001b[0m\u001b[0;34m)\u001b[0m\u001b[0;34m\u001b[0m\u001b[0;34m\u001b[0m\u001b[0m\n\u001b[1;32m    101\u001b[0m \u001b[0;34m\u001b[0m\u001b[0m\n\u001b[0;32m--> 102\u001b[0;31m     \u001b[0;32mreturn\u001b[0m \u001b[0marray\u001b[0m\u001b[0;34m(\u001b[0m\u001b[0ma\u001b[0m\u001b[0;34m,\u001b[0m \u001b[0mdtype\u001b[0m\u001b[0;34m,\u001b[0m \u001b[0mcopy\u001b[0m\u001b[0;34m=\u001b[0m\u001b[0;32mFalse\u001b[0m\u001b[0;34m,\u001b[0m \u001b[0morder\u001b[0m\u001b[0;34m=\u001b[0m\u001b[0morder\u001b[0m\u001b[0;34m)\u001b[0m\u001b[0;34m\u001b[0m\u001b[0;34m\u001b[0m\u001b[0m\n\u001b[0m\u001b[1;32m    103\u001b[0m \u001b[0;34m\u001b[0m\u001b[0m\n\u001b[1;32m    104\u001b[0m \u001b[0;34m\u001b[0m\u001b[0m\n",
      "\u001b[0;32m/usr/local/Cellar/jupyterlab/3.0.9/libexec/lib/python3.9/site-packages/pandas/core/generic.py\u001b[0m in \u001b[0;36m__array__\u001b[0;34m(self, dtype)\u001b[0m\n\u001b[1;32m   1896\u001b[0m \u001b[0;34m\u001b[0m\u001b[0m\n\u001b[1;32m   1897\u001b[0m     \u001b[0;32mdef\u001b[0m \u001b[0m__array__\u001b[0m\u001b[0;34m(\u001b[0m\u001b[0mself\u001b[0m\u001b[0;34m,\u001b[0m \u001b[0mdtype\u001b[0m\u001b[0;34m=\u001b[0m\u001b[0;32mNone\u001b[0m\u001b[0;34m)\u001b[0m \u001b[0;34m->\u001b[0m \u001b[0mnp\u001b[0m\u001b[0;34m.\u001b[0m\u001b[0mndarray\u001b[0m\u001b[0;34m:\u001b[0m\u001b[0;34m\u001b[0m\u001b[0;34m\u001b[0m\u001b[0m\n\u001b[0;32m-> 1898\u001b[0;31m         \u001b[0;32mreturn\u001b[0m \u001b[0mnp\u001b[0m\u001b[0;34m.\u001b[0m\u001b[0masarray\u001b[0m\u001b[0;34m(\u001b[0m\u001b[0mself\u001b[0m\u001b[0;34m.\u001b[0m\u001b[0m_values\u001b[0m\u001b[0;34m,\u001b[0m \u001b[0mdtype\u001b[0m\u001b[0;34m=\u001b[0m\u001b[0mdtype\u001b[0m\u001b[0;34m)\u001b[0m\u001b[0;34m\u001b[0m\u001b[0;34m\u001b[0m\u001b[0m\n\u001b[0m\u001b[1;32m   1899\u001b[0m \u001b[0;34m\u001b[0m\u001b[0m\n\u001b[1;32m   1900\u001b[0m     def __array_wrap__(\n",
      "\u001b[0;32m/usr/local/Cellar/jupyterlab/3.0.9/libexec/lib/python3.9/site-packages/numpy/core/_asarray.py\u001b[0m in \u001b[0;36masarray\u001b[0;34m(a, dtype, order, like)\u001b[0m\n\u001b[1;32m    100\u001b[0m         \u001b[0;32mreturn\u001b[0m \u001b[0m_asarray_with_like\u001b[0m\u001b[0;34m(\u001b[0m\u001b[0ma\u001b[0m\u001b[0;34m,\u001b[0m \u001b[0mdtype\u001b[0m\u001b[0;34m=\u001b[0m\u001b[0mdtype\u001b[0m\u001b[0;34m,\u001b[0m \u001b[0morder\u001b[0m\u001b[0;34m=\u001b[0m\u001b[0morder\u001b[0m\u001b[0;34m,\u001b[0m \u001b[0mlike\u001b[0m\u001b[0;34m=\u001b[0m\u001b[0mlike\u001b[0m\u001b[0;34m)\u001b[0m\u001b[0;34m\u001b[0m\u001b[0;34m\u001b[0m\u001b[0m\n\u001b[1;32m    101\u001b[0m \u001b[0;34m\u001b[0m\u001b[0m\n\u001b[0;32m--> 102\u001b[0;31m     \u001b[0;32mreturn\u001b[0m \u001b[0marray\u001b[0m\u001b[0;34m(\u001b[0m\u001b[0ma\u001b[0m\u001b[0;34m,\u001b[0m \u001b[0mdtype\u001b[0m\u001b[0;34m,\u001b[0m \u001b[0mcopy\u001b[0m\u001b[0;34m=\u001b[0m\u001b[0;32mFalse\u001b[0m\u001b[0;34m,\u001b[0m \u001b[0morder\u001b[0m\u001b[0;34m=\u001b[0m\u001b[0morder\u001b[0m\u001b[0;34m)\u001b[0m\u001b[0;34m\u001b[0m\u001b[0;34m\u001b[0m\u001b[0m\n\u001b[0m\u001b[1;32m    103\u001b[0m \u001b[0;34m\u001b[0m\u001b[0m\n\u001b[1;32m    104\u001b[0m \u001b[0;34m\u001b[0m\u001b[0m\n",
      "\u001b[0;31mValueError\u001b[0m: could not convert string to float: 'I'"
     ]
    }
   ],
   "source": [
    "### Fit a model to predict target using cont 2 with all the true values.\n",
    "\n",
    "# Initializing random-state for repsoducible reason.\n",
    "tree_reg = DecisionTreeRegressor(random_state=96)\n",
    "# Fitting a Decision Tree\n",
    "tree_reg.fit(imputation_predictors, imputation_respond)"
   ]
  },
  {
   "cell_type": "code",
   "execution_count": 9,
   "id": "charged-trigger",
   "metadata": {},
   "outputs": [
    {
     "name": "stdout",
     "output_type": "stream",
     "text": [
      "True values:  [[0]\n",
      " [0]\n",
      " [0]\n",
      " [0]\n",
      " [1]\n",
      " [0]\n",
      " [0]\n",
      " [1]\n",
      " [0]\n",
      " [1]]\n",
      "Predicted values:  [0. 0. 0. 0. 1. 0. 0. 1. 0. 1.]\n"
     ]
    }
   ],
   "source": [
    "# Making predictions with same data used to train model.\n",
    "predicted = tree_reg.predict(imputation_predictors)\n",
    "print(\"True values: \", imputation_respond.values[0:10])\n",
    "print(\"Predicted values: \", predicted[0:10])"
   ]
  },
  {
   "cell_type": "code",
   "execution_count": 10,
   "id": "fabulous-amplifier",
   "metadata": {},
   "outputs": [
    {
     "name": "stdout",
     "output_type": "stream",
     "text": [
      "[[220539      0]\n",
      " [     0  79461]]\n"
     ]
    }
   ],
   "source": [
    "# Can create a confusion matrix with accuracy to see how good model is.\n",
    "print(metrics.confusion_matrix(imputation_respond, predicted))"
   ]
  },
  {
   "cell_type": "markdown",
   "id": "secondary-terry",
   "metadata": {},
   "source": [
    "We see a PERFECT accuracy prediction. Most likely is overfitting because memorising the data."
   ]
  },
  {
   "cell_type": "markdown",
   "id": "mediterranean-thousand",
   "metadata": {},
   "source": [
    "## Randomly Removing the values and making them null"
   ]
  },
  {
   "cell_type": "code",
   "execution_count": 11,
   "id": "following-publication",
   "metadata": {},
   "outputs": [
    {
     "data": {
      "text/plain": [
       "60000.0"
      ]
     },
     "execution_count": 11,
     "metadata": {},
     "output_type": "execute_result"
    }
   ],
   "source": [
    "len(imputation_predictors)*20/100"
   ]
  },
  {
   "cell_type": "code",
   "execution_count": 12,
   "id": "satisfactory-tournament",
   "metadata": {},
   "outputs": [],
   "source": [
    "# funtion the will remove values from column cont1 at random\n",
    "# replace the removed values with NaN which is null.\n",
    "def remove_random_values(df):\n",
    "    # Set seed for reproducible reasons. Achieving same modified set every run.\n",
    "    random.seed(5059)\n",
    "    \n",
    "    # Getting 20% of the data sample to remove values.\n",
    "    put_missing_values = df.sample(\n",
    "        int(len(df)*20/100))\n",
    "    \n",
    "    # Replacing all values with string nan because we cannot update data frame IF\n",
    "    # values are null. Python will keep old values in the update.\n",
    "    put_missing_values['cont0'] = 'nan'\n",
    "    \n",
    "    # Update data frame with new 'nan' values\n",
    "    df.update(put_missing_values)\n",
    "\n",
    "    # Replacing the 'nan' values to real nan values.\n",
    "    df = df.replace('nan', np.nan)\n",
    "    \n",
    "    return df"
   ]
  },
  {
   "cell_type": "code",
   "execution_count": 13,
   "id": "mature-render",
   "metadata": {},
   "outputs": [],
   "source": [
    "# function that will create confusion matrix plot.\n",
    "# Coded in function for less clatter in latter code and more reproducible.\n",
    "def plot_confusion_matrix(cm):\n",
    "    data_for_confusion = pd.DataFrame(cm,\n",
    "                                  index = [[\"0\", \"1\"]],\n",
    "                                  columns = [[\"0\", \"1\"]])\n",
    "    plt.figure(figsize = (10,7))\n",
    "    confusion_matrix = sn.heatmap(data_for_confusion,\n",
    "                              annot=True, \n",
    "                              fmt='d', annot_kws={\"size\": 16},\n",
    "                              cbar=False)\n",
    "\n",
    "    plt.xlabel(\"Predicted Values\") \n",
    "    plt.ylabel(\"True Values\") \n",
    "    plt.show()"
   ]
  },
  {
   "cell_type": "code",
   "execution_count": 14,
   "id": "looking-checklist",
   "metadata": {},
   "outputs": [
    {
     "name": "stdout",
     "output_type": "stream",
     "text": [
      "<class 'pandas.core.frame.DataFrame'>\n",
      "RangeIndex: 300000 entries, 0 to 299999\n",
      "Data columns (total 3 columns):\n",
      " #   Column  Non-Null Count   Dtype  \n",
      "---  ------  --------------   -----  \n",
      " 0   cont0   240000 non-null  float64\n",
      " 1   cont1   300000 non-null  float64\n",
      " 2   cont2   300000 non-null  float64\n",
      "dtypes: float64(3)\n",
      "memory usage: 6.9 MB\n"
     ]
    }
   ],
   "source": [
    "# Calling function to remove randome values and replacing them with null.\n",
    "# Same exact set will be used across all datasets.\n",
    "ready_for_imputation = remove_random_values(imputation_predictors.copy())\n",
    "ready_for_imputation.info()"
   ]
  },
  {
   "cell_type": "markdown",
   "id": "younger-crazy",
   "metadata": {},
   "source": [
    "From the above results we see we have 60 000 values as null in column 'cont0'"
   ]
  },
  {
   "cell_type": "markdown",
   "id": "requested-parker",
   "metadata": {},
   "source": [
    "## Imputing with median value."
   ]
  },
  {
   "cell_type": "code",
   "execution_count": 13,
   "id": "immune-lewis",
   "metadata": {},
   "outputs": [
    {
     "name": "stdout",
     "output_type": "stream",
     "text": [
      "<class 'pandas.core.frame.DataFrame'>\n",
      "RangeIndex: 300000 entries, 0 to 299999\n",
      "Data columns (total 3 columns):\n",
      " #   Column  Non-Null Count   Dtype  \n",
      "---  ------  --------------   -----  \n",
      " 0   cont0   240000 non-null  float64\n",
      " 1   cont1   300000 non-null  float64\n",
      " 2   cont2   300000 non-null  float64\n",
      "dtypes: float64(3)\n",
      "memory usage: 6.9 MB\n"
     ]
    }
   ],
   "source": [
    "# Copying set to impute with median\n",
    "median_imputation = ready_for_imputation.copy()\n",
    "median_imputation.info()"
   ]
  },
  {
   "cell_type": "code",
   "execution_count": 14,
   "id": "necessary-shade",
   "metadata": {},
   "outputs": [
    {
     "name": "stdout",
     "output_type": "stream",
     "text": [
      "<class 'pandas.core.frame.DataFrame'>\n",
      "RangeIndex: 300000 entries, 0 to 299999\n",
      "Data columns (total 3 columns):\n",
      " #   Column  Non-Null Count   Dtype  \n",
      "---  ------  --------------   -----  \n",
      " 0   cont0   300000 non-null  float64\n",
      " 1   cont1   300000 non-null  float64\n",
      " 2   cont2   300000 non-null  float64\n",
      "dtypes: float64(3)\n",
      "memory usage: 6.9 MB\n"
     ]
    }
   ],
   "source": [
    "# Imputing with 'median' strategy on data.\n",
    "median_imputer = SimpleImputer(strategy=\"median\")\n",
    "median_imputer.fit(median_imputation)\n",
    "# Once the data has been impute is outputs in an array\n",
    "RawOutput = median_imputer.transform(median_imputation)\n",
    "\n",
    "# We want to convert the array back to data frame now for further computations.\n",
    "median_imputation = pd.DataFrame(RawOutput, \n",
    "                                 columns = median_imputation.columns,\n",
    "                                 index = median_imputation.index)\n",
    "\n",
    "median_imputation.info()"
   ]
  },
  {
   "cell_type": "code",
   "execution_count": 15,
   "id": "sexual-recommendation",
   "metadata": {},
   "outputs": [
    {
     "name": "stdout",
     "output_type": "stream",
     "text": [
      "True values:  [[0]\n",
      " [0]\n",
      " [0]\n",
      " [0]\n",
      " [1]\n",
      " [0]\n",
      " [0]\n",
      " [1]\n",
      " [0]\n",
      " [1]]\n",
      "Predicted values:  [0. 0. 0. 0. 0. 0. 0. 1. 0. 1.]\n"
     ]
    }
   ],
   "source": [
    "# Making predictions with same data used to train model.\n",
    "predicted_median = tree_reg.predict(median_imputation)\n",
    "print(\"True values: \", imputation_respond.values[0:10])\n",
    "print(\"Predicted values: \", predicted_median[0:10])"
   ]
  },
  {
   "cell_type": "code",
   "execution_count": 16,
   "id": "baking-tyler",
   "metadata": {},
   "outputs": [
    {
     "data": {
      "image/png": "[encoded data removed]",
      "text/plain": [
       "<Figure size 720x504 with 1 Axes>"
      ]
     },
     "metadata": {
      "needs_background": "light"
     },
     "output_type": "display_data"
    }
   ],
   "source": [
    "# Can create a confusion matrix with accuracy to see how good model is.\n",
    "# Calling function to create the confusion matrix and plot\n",
    "plot_confusion_matrix(metrics.confusion_matrix(imputation_respond, predicted_median))"
   ]
  },
  {
   "cell_type": "code",
   "execution_count": 17,
   "id": "animated-bahrain",
   "metadata": {},
   "outputs": [
    {
     "name": "stdout",
     "output_type": "stream",
     "text": [
      "When imputing using the simple 'median' imputer we get :  0.9308533333333333 accuracy score\n"
     ]
    }
   ],
   "source": [
    "print(\"When imputing using the simple 'median' imputer we get : \", \n",
    "      accuracy_score(imputation_respond, predicted_median, normalize=True),\n",
    "     \"accuracy score\")"
   ]
  },
  {
   "cell_type": "markdown",
   "id": "dried-likelihood",
   "metadata": {},
   "source": [
    "## Imputing with MissForest\n",
    "\n",
    "imputing tactic found on youtube [press here to view](https://www.youtube.com/watch?v=WhUm9jCoYf4) and website ecplaining in text [press here](https://www.betterdatascience.com/python-missforest/)\n",
    "\n",
    "- We can write about it towards the end. We have the material here."
   ]
  },
  {
   "cell_type": "code",
   "execution_count": 32,
   "id": "undefined-enforcement",
   "metadata": {},
   "outputs": [
    {
     "name": "stdout",
     "output_type": "stream",
     "text": [
      "<class 'pandas.core.frame.DataFrame'>\n",
      "RangeIndex: 300000 entries, 0 to 299999\n",
      "Data columns (total 3 columns):\n",
      " #   Column  Non-Null Count   Dtype  \n",
      "---  ------  --------------   -----  \n",
      " 0   cont0   240000 non-null  float64\n",
      " 1   cont1   300000 non-null  float64\n",
      " 2   cont2   300000 non-null  float64\n",
      "dtypes: float64(3)\n",
      "memory usage: 6.9 MB\n"
     ]
    }
   ],
   "source": [
    "# Getting the data frame with missing values to impute.\n",
    "miss_forest_data = ready_for_imputation.copy()\n",
    "miss_forest_data.info()"
   ]
  },
  {
   "cell_type": "code",
   "execution_count": 33,
   "id": "attractive-gnome",
   "metadata": {},
   "outputs": [],
   "source": [
    "# Create imputation tactic.\n",
    "miss_forest_imputer = MissForest()"
   ]
  },
  {
   "cell_type": "code",
   "execution_count": 34,
   "id": "reported-plymouth",
   "metadata": {},
   "outputs": [
    {
     "name": "stdout",
     "output_type": "stream",
     "text": [
      "Iteration: 0\n",
      "Iteration: 1\n",
      "Iteration: 2\n",
      "Iteration: 3\n",
      "Iteration: 4\n",
      "CPU times: user 10min 30s, sys: 13.1 s, total: 10min 43s\n",
      "Wall time: 3min 9s\n"
     ]
    }
   ],
   "source": [
    "%%time\n",
    "# Once the data has been impute is outputs in an array\n",
    "RawOutput = miss_forest_imputer.fit_transform(miss_forest_data)"
   ]
  },
  {
   "cell_type": "code",
   "execution_count": 35,
   "id": "blank-element",
   "metadata": {},
   "outputs": [
    {
     "name": "stdout",
     "output_type": "stream",
     "text": [
      "<class 'pandas.core.frame.DataFrame'>\n",
      "RangeIndex: 300000 entries, 0 to 299999\n",
      "Data columns (total 3 columns):\n",
      " #   Column  Non-Null Count   Dtype  \n",
      "---  ------  --------------   -----  \n",
      " 0   cont0   300000 non-null  float64\n",
      " 1   cont1   300000 non-null  float64\n",
      " 2   cont2   300000 non-null  float64\n",
      "dtypes: float64(3)\n",
      "memory usage: 6.9 MB\n"
     ]
    }
   ],
   "source": [
    "# We want to convert the array back to data frame now for further computations.\n",
    "miss_forest_data = pd.DataFrame(RawOutput, \n",
    "                                 columns = miss_forest_data.columns,\n",
    "                                 index = miss_forest_data.index)\n",
    "\n",
    "miss_forest_data.info()"
   ]
  },
  {
   "cell_type": "code",
   "execution_count": 36,
   "id": "vanilla-photograph",
   "metadata": {},
   "outputs": [
    {
     "name": "stdout",
     "output_type": "stream",
     "text": [
      "True values:  [[0]\n",
      " [0]\n",
      " [0]\n",
      " [0]\n",
      " [1]\n",
      " [0]\n",
      " [0]\n",
      " [1]\n",
      " [0]\n",
      " [1]]\n",
      "Predicted values:  [0. 0. 0. 0. 1. 0. 0. 1. 0. 1.]\n"
     ]
    }
   ],
   "source": [
    "# Making predictions with same data used to train model.\n",
    "predicted_missforest = tree_reg.predict(miss_forest_data)\n",
    "print(\"True values: \", imputation_respond.values[0:10])\n",
    "print(\"Predicted values: \", predicted_missforest[0:10])"
   ]
  },
  {
   "cell_type": "code",
   "execution_count": 37,
   "id": "civilian-stomach",
   "metadata": {},
   "outputs": [
    {
     "data": {
      "image/png": "[encoded data removed]",
      "text/plain": [
       "<Figure size 720x504 with 1 Axes>"
      ]
     },
     "metadata": {
      "needs_background": "light"
     },
     "output_type": "display_data"
    }
   ],
   "source": [
    "# Can create a confusion matrix with accuracy to see how good model is.\n",
    "# Calling function to create the confusion matrix and plot\n",
    "plot_confusion_matrix(metrics.confusion_matrix(imputation_respond, predicted_missforest))"
   ]
  },
  {
   "cell_type": "code",
   "execution_count": 38,
   "id": "selective-fight",
   "metadata": {},
   "outputs": [
    {
     "name": "stdout",
     "output_type": "stream",
     "text": [
      "When imputing using the simple 'median' imputer we get :  0.9318233333333333 accuracy score\n"
     ]
    }
   ],
   "source": [
    "print(\"When imputing using the simple 'median' imputer we get : \", \n",
    "      accuracy_score(imputation_respond, predicted_missforest, normalize=True),\n",
    "     \"accuracy score\")"
   ]
  },
  {
   "cell_type": "markdown",
   "id": "molecular-brazil",
   "metadata": {},
   "source": [
    "## Impute with KNNImputer\n",
    "\n",
    "- We can research a bit more on the algorithm, for now we testing them to see how they work. I found this from : [press here](https://towardsdatascience.com/missing-value-imputation-with-python-and-k-nearest-neighbors-308e7abd273d)"
   ]
  },
  {
   "cell_type": "code",
   "execution_count": 39,
   "id": "arbitrary-lawsuit",
   "metadata": {},
   "outputs": [
    {
     "name": "stdout",
     "output_type": "stream",
     "text": [
      "<class 'pandas.core.frame.DataFrame'>\n",
      "RangeIndex: 300000 entries, 0 to 299999\n",
      "Data columns (total 3 columns):\n",
      " #   Column  Non-Null Count   Dtype  \n",
      "---  ------  --------------   -----  \n",
      " 0   cont0   240000 non-null  float64\n",
      " 1   cont1   300000 non-null  float64\n",
      " 2   cont2   300000 non-null  float64\n",
      "dtypes: float64(3)\n",
      "memory usage: 6.9 MB\n"
     ]
    }
   ],
   "source": [
    "# Getting the data frame with missing values to impute.\n",
    "knn_imputer_data = ready_for_imputation.copy()\n",
    "knn_imputer_data.info()"
   ]
  },
  {
   "cell_type": "code",
   "execution_count": 40,
   "id": "smoking-hospital",
   "metadata": {},
   "outputs": [],
   "source": [
    "# We can adjust hyperparameter n_neighbors.\n",
    "knn_imputer = KNNImputer(n_neighbors=3)"
   ]
  },
  {
   "cell_type": "code",
   "execution_count": 41,
   "id": "generic-mortality",
   "metadata": {},
   "outputs": [
    {
     "name": "stdout",
     "output_type": "stream",
     "text": [
      "CPU times: user 16min 43s, sys: 4min 36s, total: 21min 19s\n",
      "Wall time: 19min 20s\n"
     ]
    }
   ],
   "source": [
    "%%time\n",
    "# Imputing values\n",
    "RawOutput = knn_imputer.fit_transform(knn_imputer_data)"
   ]
  },
  {
   "cell_type": "code",
   "execution_count": 42,
   "id": "subjective-making",
   "metadata": {},
   "outputs": [
    {
     "name": "stdout",
     "output_type": "stream",
     "text": [
      "<class 'pandas.core.frame.DataFrame'>\n",
      "RangeIndex: 300000 entries, 0 to 299999\n",
      "Data columns (total 3 columns):\n",
      " #   Column  Non-Null Count   Dtype  \n",
      "---  ------  --------------   -----  \n",
      " 0   cont0   300000 non-null  float64\n",
      " 1   cont1   300000 non-null  float64\n",
      " 2   cont2   300000 non-null  float64\n",
      "dtypes: float64(3)\n",
      "memory usage: 6.9 MB\n"
     ]
    }
   ],
   "source": [
    "# We want to convert the array back to data frame now for further computations.\n",
    "knn_imputer_data = pd.DataFrame(RawOutput, \n",
    "                                 columns = knn_imputer_data.columns,\n",
    "                                 index = knn_imputer_data.index)\n",
    "\n",
    "knn_imputer_data.info()"
   ]
  },
  {
   "cell_type": "code",
   "execution_count": 43,
   "id": "august-automation",
   "metadata": {},
   "outputs": [
    {
     "name": "stdout",
     "output_type": "stream",
     "text": [
      "True values:  [[0]\n",
      " [0]\n",
      " [0]\n",
      " [0]\n",
      " [1]\n",
      " [0]\n",
      " [0]\n",
      " [1]\n",
      " [0]\n",
      " [1]]\n",
      "Predicted values:  [0. 0. 0. 0. 0. 0. 0. 1. 0. 1.]\n"
     ]
    }
   ],
   "source": [
    "# Making predictions with same data used to train model.\n",
    "predicted_knn = tree_reg.predict(knn_imputer_data)\n",
    "print(\"True values: \", imputation_respond.values[0:10])\n",
    "print(\"Predicted values: \", predicted_knn[0:10])"
   ]
  },
  {
   "cell_type": "code",
   "execution_count": 44,
   "id": "tired-coast",
   "metadata": {},
   "outputs": [
    {
     "data": {
      "image/png": "[encoded data removed]",
      "text/plain": [
       "<Figure size 720x504 with 1 Axes>"
      ]
     },
     "metadata": {
      "needs_background": "light"
     },
     "output_type": "display_data"
    }
   ],
   "source": [
    "# Can create a confusion matrix with accuracy to see how good model is.\n",
    "# Calling function to create the confusion matrix and plot\n",
    "plot_confusion_matrix(metrics.confusion_matrix(imputation_respond, predicted_knn))"
   ]
  },
  {
   "cell_type": "code",
   "execution_count": 45,
   "id": "attractive-headset",
   "metadata": {},
   "outputs": [
    {
     "name": "stdout",
     "output_type": "stream",
     "text": [
      "When imputing using the simple 'median' imputer we get :  0.93161 accuracy score\n"
     ]
    }
   ],
   "source": [
    "print(\"When imputing using the simple 'median' imputer we get : \", \n",
    "      accuracy_score(imputation_respond, predicted_knn, normalize=True),\n",
    "     \"accuracy score\")"
   ]
  },
  {
   "cell_type": "markdown",
   "id": "lyric-september",
   "metadata": {},
   "source": [
    "From the accuracy scores we obtained, we conclude the best imputation method is the MissForest one. => However how do we kno it was not only by luck? Only good for the specific imputation set?\n",
    " - We need further investgation to explore on this. Maybe k-fold CV but knn takes too long to input it in a cross validation..\n",
    " "
   ]
  },
  {
   "cell_type": "code",
   "execution_count": null,
   "id": "turned-equivalent",
   "metadata": {},
   "outputs": [],
   "source": []
  },
  {
   "cell_type": "code",
   "execution_count": null,
   "id": "entire-applicant",
   "metadata": {},
   "outputs": [],
   "source": []
  },
  {
   "cell_type": "code",
   "execution_count": null,
   "id": "signed-factor",
   "metadata": {},
   "outputs": [],
   "source": []
  },
  {
   "cell_type": "code",
   "execution_count": null,
   "id": "divided-messenger",
   "metadata": {},
   "outputs": [],
   "source": []
  },
  {
   "cell_type": "code",
   "execution_count": null,
   "id": "accredited-involvement",
   "metadata": {},
   "outputs": [],
   "source": []
  },
  {
   "cell_type": "code",
   "execution_count": null,
   "id": "demographic-occupation",
   "metadata": {},
   "outputs": [],
   "source": []
  },
  {
   "cell_type": "code",
   "execution_count": null,
   "id": "hundred-detective",
   "metadata": {},
   "outputs": [],
   "source": []
  },
  {
   "cell_type": "code",
   "execution_count": null,
   "id": "reported-pilot",
   "metadata": {
    "scrolled": false
   },
   "outputs": [
    {
     "name": "stdout",
     "output_type": "stream",
     "text": [
      "11111111111111111111111111111111111111111111\n",
      "2222222222222222222222222222222222222222222222222\n",
      "Time Elapsed :  4.551301956176758\n",
      "<class 'pandas.core.frame.DataFrame'>\n",
      "RangeIndex: 300000 entries, 0 to 299999\n",
      "Data columns (total 32 columns):\n",
      " #   Column  Non-Null Count   Dtype  \n",
      "---  ------  --------------   -----  \n",
      " 0   id      300000 non-null  int64  \n",
      " 1   cat0    271452 non-null  object \n",
      " 2   cat1    271459 non-null  object \n",
      " 3   cat2    300000 non-null  object \n",
      " 4   cat3    300000 non-null  object \n",
      " 5   cat4    300000 non-null  object \n",
      " 6   cat5    300000 non-null  object \n",
      " 7   cat6    300000 non-null  object \n",
      " 8   cat7    300000 non-null  object \n",
      " 9   cat8    300000 non-null  object \n",
      " 10  cat9    300000 non-null  object \n",
      " 11  cat10   300000 non-null  object \n",
      " 12  cat11   300000 non-null  object \n",
      " 13  cat12   300000 non-null  object \n",
      " 14  cat13   300000 non-null  object \n",
      " 15  cat14   300000 non-null  object \n",
      " 16  cat15   300000 non-null  object \n",
      " 17  cat16   300000 non-null  object \n",
      " 18  cat17   300000 non-null  object \n",
      " 19  cat18   300000 non-null  object \n",
      " 20  cont0   300000 non-null  float64\n",
      " 21  cont1   300000 non-null  float64\n",
      " 22  cont2   300000 non-null  float64\n",
      " 23  cont3   300000 non-null  float64\n",
      " 24  cont4   300000 non-null  float64\n",
      " 25  cont5   300000 non-null  float64\n",
      " 26  cont6   300000 non-null  float64\n",
      " 27  cont7   300000 non-null  float64\n",
      " 28  cont8   300000 non-null  float64\n",
      " 29  cont9   300000 non-null  float64\n",
      " 30  cont10  300000 non-null  float64\n",
      " 31  target  300000 non-null  int64  \n",
      "dtypes: float64(11), int64(2), object(19)\n",
      "memory usage: 73.2+ MB\n",
      "11111111111111111111111111111111111111111111\n",
      "2222222222222222222222222222222222222222222222222\n",
      "Time Elapsed :  5.592638969421387\n",
      "<class 'pandas.core.frame.DataFrame'>\n",
      "RangeIndex: 300000 entries, 0 to 299999\n",
      "Data columns (total 32 columns):\n",
      " #   Column  Non-Null Count   Dtype  \n",
      "---  ------  --------------   -----  \n",
      " 0   id      300000 non-null  int64  \n",
      " 1   cat0    300000 non-null  object \n",
      " 2   cat1    300000 non-null  object \n",
      " 3   cat2    300000 non-null  object \n",
      " 4   cat3    300000 non-null  object \n",
      " 5   cat4    300000 non-null  object \n",
      " 6   cat5    300000 non-null  object \n",
      " 7   cat6    300000 non-null  object \n",
      " 8   cat7    300000 non-null  object \n",
      " 9   cat8    300000 non-null  object \n",
      " 10  cat9    300000 non-null  object \n",
      " 11  cat10   300000 non-null  object \n",
      " 12  cat11   300000 non-null  object \n",
      " 13  cat12   300000 non-null  object \n",
      " 14  cat13   300000 non-null  object \n",
      " 15  cat14   300000 non-null  object \n",
      " 16  cat15   300000 non-null  object \n",
      " 17  cat16   300000 non-null  object \n",
      " 18  cat17   300000 non-null  object \n",
      " 19  cat18   300000 non-null  object \n",
      " 20  cont0   271496 non-null  float64\n",
      " 21  cont1   271376 non-null  float64\n",
      " 22  cont2   300000 non-null  float64\n",
      " 23  cont3   300000 non-null  float64\n",
      " 24  cont4   300000 non-null  float64\n",
      " 25  cont5   300000 non-null  float64\n",
      " 26  cont6   300000 non-null  float64\n",
      " 27  cont7   300000 non-null  float64\n",
      " 28  cont8   300000 non-null  float64\n",
      " 29  cont9   300000 non-null  float64\n",
      " 30  cont10  300000 non-null  float64\n",
      " 31  target  300000 non-null  int64  \n",
      "dtypes: float64(11), int64(2), object(19)\n",
      "memory usage: 73.2+ MB\n"
     ]
    }
   ],
   "source": [
    "# - - - - - - - - - - - - - - - - - - - - - - - - - - - - - - - - - - -\n",
    "### IMPORT LIBRARIES\n",
    "\n",
    "import pandas as pd\n",
    "import matplotlib.pyplot as plt\n",
    "import numpy as np\n",
    "import sys as sys\n",
    "\n",
    "# for fitting a decision tree\n",
    "from sklearn.tree import DecisionTreeRegressor\n",
    "\n",
    "# this import an renaming is needed to import missforest\n",
    "import sklearn.neighbors._base\n",
    "sys.modules['sklearn.neighbors.base'] = sklearn.neighbors._base\n",
    "# Importing the library from python to impute the missing values with MissForest tactic.\n",
    "from missingpy import MissForest\n",
    "# Import the KNNImputer\n",
    "from sklearn.impute import KNNImputer\n",
    "# Import simpleimputer to import with median\n",
    "from sklearn.impute import SimpleImputer\n",
    "\n",
    "# Can create a confusion matrix with accuracy to see how good model is.\n",
    "from sklearn import metrics\n",
    "# Importing accuracy_score to auto calculate our classifiers accuracy\n",
    "from sklearn.metrics import accuracy_score\n",
    "\n",
    "# Importing so we can create confusion matrix images.\n",
    "import matplotlib.pyplot as plt\n",
    "import seaborn as sn\n",
    "\n",
    "# - - - - - - - - - - - - - - - - - - - - - - - - - - - - - - - - - - -\n",
    "# Set seed for reproducible reasons. Achieving same modified set every run.\n",
    "# todo: check if the same seed works from python to R, hence avoid storing data and just running same analysis on R.\n",
    "\n",
    "import random\n",
    "import time\n",
    "# random.seed(5059)\n",
    "\n",
    "# - - - - - - - - - - - - - - - - - - - - - - - - - - - - - - - - - - -\n",
    "### IMPORT DATA\n",
    "\n",
    "original_df = pd.read_csv(\"train.csv\")\n",
    "original_df.head(6)\n",
    "\n",
    "# - - - - - - - - - - - - - - - - - - - - - - - - - - - - - - - - - - -\n",
    "### FUNCTION TO REMOVE DATA\n",
    "\n",
    "def remove_random_values(df, columns, percentage):\n",
    "    \"\"\"\n",
    "    Funtion the will remove values from the selected columns at random,\n",
    "    then replace the removed values with np.nan which is NaN.\n",
    "\n",
    "    PSEUDOCODE:\n",
    "\n",
    "    1. Random sample row indexes (with replacement)\n",
    "    2. Random sample column labels (with replacement)\n",
    "    3. Extract random entry and replace with np.nan\n",
    "    4. Repeat (1-3) until total proportion of data has been extracted\n",
    "\n",
    "    :param df: pandas DataFrame\n",
    "    :param columns: list of columns to 'drop' values from. Note: must be string name of columns\n",
    "    :param percentage: float input such as 0.20 (i.e. 20%)\n",
    "    :return: DataFrame with NaN entries\n",
    "    \"\"\"\n",
    "\n",
    "    start = time.time()\n",
    "    # Set up: Focus on subset of data dependent on columns,\n",
    "    #         hence extract information about subset and number of values to drop\n",
    "    # df = df.copy()\n",
    "    subset = df[columns].copy()\n",
    "    nrow, ncol = subset.shape\n",
    "    n_samples = int(percentage*nrow)\n",
    "\n",
    "    # 1. Pick out a vector of random samples (row indexes)\n",
    "    row_indexes = np.arange(0, nrow, 1).tolist()\n",
    "\n",
    "    # 2. Sample with replacement from the list of possible indexes\n",
    "    #    note, `choices` is used to sample with replacement\n",
    "    sampled_row_indexes = random.choices(row_indexes, k = n_samples)\n",
    "    sampled_columns = random.choices(columns, k = n_samples)\n",
    "\n",
    "    # true_value = []\n",
    "    # 3. Replace all entries with NaN\n",
    "    \n",
    "    for i in range(0, n_samples):\n",
    "        # true_value.append([subset.loc[sampled_row_indexes[i], sampled_columns[i]], sampled_row_indexes[i], sampled_columns[i]])\n",
    "        \n",
    "        ################\n",
    "        # MODIFIED\n",
    "        # The problem with time was we changing the float cell to string explicitily but the column was of \n",
    "        # type float. (I think this was the issue). Now i basically put null\n",
    "        # then replace null to 'nan' -> update -> replace 'nan' to null\n",
    "        # IT IS VERY stupid and repeating tasks but it seems to do the trick.\n",
    "        # I also checked final data frame structure and the data types are correct\n",
    "        #  with correct null values (you can double check tho)\n",
    "\n",
    "        subset.loc[sampled_row_indexes[i], sampled_columns[i]] = np.nan\n",
    "\n",
    "    print(\"11111111111111111111111111111111111111111111\")\n",
    "    # Replacing the null to 'nan' so we can update.\n",
    "    subset = subset.fillna(value=np.nan)\n",
    "    subset = subset.replace(np.nan,'nan')\n",
    "    print(\"2222222222222222222222222222222222222222222222222\")\n",
    "    # MODIFY END\n",
    "    ######################\n",
    "\n",
    "    # note having it as a loop ensures we are not holding a massive dataframe in memory so its a lot faster.\n",
    "    # e.g. the vectorised version subset.loc[sampled_row_indexes, sampled_columns] = np.nan is too expensive\n",
    "\n",
    "    # 4. Update data frame with new NaN values\n",
    "    df.update(subset)\n",
    "    # replacing 'nan' in whole dataframe back to null\n",
    "    df = df.replace('nan', np.nan)\n",
    "\n",
    "    end = time.time()\n",
    "    print(\"Time Elapsed : \", end - start)\n",
    "    \n",
    "    df.info()\n",
    "\n",
    "    return(df)\n",
    "\n",
    "### Sample runs using the entire dataset:\n",
    "\n",
    "########################\n",
    "# MODIFIED\n",
    "# you had all 3 method calls in value df -> you were replacing the old df with new df\n",
    "# every time so in the end we only had saved the one scenario\n",
    "# dont know if this was done on purpose or by mistake.\n",
    "\n",
    "# discrete only case\n",
    "df_cat = remove_random_values(original_df.copy(), ['cat0', 'cat1'], 0.2)\n",
    "# Time Elapsed : 4.55 seconds\n",
    "\n",
    "# continuous only case\n",
    "df_cont = remove_random_values(original_df.copy(), ['cont0', 'cont1'], 0.2)\n",
    "# Time Elapsed : 250.5184588432312/60 = 4 minutes ??\n",
    "\n",
    "# both discrete and continuous cases\n",
    "df_both = remove_random_values(original_df.copy(), ['cat1', 'cont2'], 0.2)\n",
    "# Time Elapsed : 96.34 seconds ( why so long? )\n",
    "# Bizzare\n",
    "\n",
    "# Time fixed (i think ahaha)\n",
    "# MODIFIED DONE\n",
    "###########################\n",
    "\n",
    "# - - - - - - - - - - - - - - - - - - - - - - - - - - - - - - - - - - -\n",
    "### FUNCTION TO RUN MODELS\n",
    "\n",
    "# todo: this only currently works for continuous features - none of the methods support categorical features\n",
    "#       need to look into setting up a pipeline which supports both.\n",
    "#       Look into `FeatureUnion` it is sort of like a Pipeline thing but suitable for imputations.\n",
    "\n",
    "def imputation_methods(df, complete_df, columns):\n",
    "    \"\"\"\n",
    "    Function which runs through our chosen three methods: Median Imputation, MissForest and KNNImputer.\n",
    "\n",
    "    :param df: dataframe which has missing data - subset on the columns to impute only\n",
    "    :param complete_df: dataframe which has the complete data\n",
    "    :param columns: list of columns strings used in the remove_random_values() function.\n",
    "    :return: the three imputed datasets (for now)\n",
    "    \"\"\"\n",
    "\n",
    "    start = time.time()\n",
    "\n",
    "    ##### DEPLOY METHODS:\n",
    "\n",
    "    ### STRATEGY 1: MEDIAN IMPUTATION\n",
    "\n",
    "    # Impute Data\n",
    "    median_imputation = df.copy()\n",
    "    median_imputer = SimpleImputer(strategy = \"median\")\n",
    "    median_imputer.fit(median_imputation)\n",
    "\n",
    "    # Once the data has been impute is outputs in an array\n",
    "    RawOutput = median_imputer.transform(median_imputation)\n",
    "\n",
    "    # We want to convert the array back to data frame now for further computations.\n",
    "    median_imputation_data = pd.DataFrame(RawOutput,\n",
    "                                     columns = median_imputation.columns,\n",
    "                                     index = median_imputation.index)\n",
    "\n",
    "    del median_imputation\n",
    "    del RawOutput\n",
    "\n",
    "    middle1 = time.time()\n",
    "\n",
    "    print(\"Median Imputation Complete - Time Elapsed :\", middle1 - start)\n",
    "\n",
    "    ### STRATEGY 2: MissForest\n",
    "\n",
    "    miss_forest_data = df.copy()\n",
    "\n",
    "    # Create imputation tactic.\n",
    "    miss_forest_imputer = MissForest()\n",
    "    # Once the data has been impute is outputs in an array\n",
    "    RawOutput = miss_forest_imputer.fit_transform(miss_forest_data)\n",
    "\n",
    "    # We want to convert the array back to data frame now for further computations.\n",
    "    miss_forest_data = pd.DataFrame(RawOutput,\n",
    "                                     columns = miss_forest_data.columns,\n",
    "                                     index = miss_forest_data.index)\n",
    "\n",
    "    middle2 = time.time()\n",
    "\n",
    "    print(\"MissForest Imputation Complete - Time Elapsed :\", middle2 - start)\n",
    "\n",
    "    ### STRATEGY 3: KNNImputer\n",
    "\n",
    "    knn_imputer_data = df.copy()\n",
    "\n",
    "    # We can adjust hyperparameter n_neighbors.\n",
    "    knn_imputer = KNNImputer(n_neighbors = 2, weights = \"uniform\")\n",
    "\n",
    "    # Imputing values\n",
    "    RawOutput = knn_imputer.fit_transform(knn_imputer_data)\n",
    "\n",
    "    # We want to convert the array back to data frame now for further computations.\n",
    "    knn_imputation_data = pd.DataFrame(RawOutput,\n",
    "                                     columns = knn_imputer_data.columns,\n",
    "                                     index = knn_imputer_data.index)\n",
    "\n",
    "    middle3 = time.time()\n",
    "\n",
    "    del knn_imputer_data\n",
    "    del RawOutput\n",
    "\n",
    "    print(\"KNN Imputation Complete - Time Elapsed :\", middle3 - middle2)\n",
    "\n",
    "    ##### FOCUS ON PERFORMANCE METRICS:\n",
    "\n",
    "    ### EXTRACT A LIST OF ORIGINAL DATA WHICH BECAME NaN ENTRIES\n",
    "\n",
    "    # todo: finish function including evaluating performance metrics for each list of imputed data vs true data\n",
    "\n",
    "    \"\"\"\n",
    "    \n",
    "    # true_values = []\n",
    "    # true_values_boolean = []\n",
    "    for column in columns:\n",
    "\n",
    "        # 1. Extract boolean vector (True/False) to identify Imputed True Data Vectors\n",
    "        boolean_values = (complete_df != df)[column].to_numpy().tolist()\n",
    "        values = original_df[column][boolean_values]\n",
    "        # print(\"for column\", column, \"we have :\", len(values), \"true values which were dropped\")\n",
    "\n",
    "        # 2. Store away true value and boolean vector\n",
    "        # true_values.append(values)\n",
    "        # true_values_boolean.append(boolean_values)\n",
    "\n",
    "        # 3. Extract Imputed Data Vectors\n",
    "        values_median_imputation = median_imputation_data[column][boolean_values]\n",
    "        values_knn_imputation = knn_imputation_data[column][boolean_values]\n",
    "\n",
    "        # 4. Evaluate performance metrics \n",
    "        # need to do some adjusting of the input of the function.\n",
    "\n",
    "    end = time.time()\n",
    "\n",
    "    print(\"Performance Metrics Computed - Time Elapsed :\", end - middle2)\n",
    "    \n",
    "    \"\"\"\n",
    "\n",
    "    return(median_imputation_data, miss_forest_data, knn_imputation_data)\n",
    "\n",
    "results = imputation_methods(df[['cont0', 'cont1']], None, None)\n",
    "\n",
    "# - - - - - - - - - - - - - - - - - - - - - - - - - - - - - - - - - - -\n",
    "### PERFORMANCE METRICS FUNCTION\n",
    "\n",
    "def performance_metrics(imputed_values, true_values):\n",
    "    \"\"\"\n",
    "    Function to calculate all performance metrics of interest for each list of imputed vs true values.\n",
    "\n",
    "    VERY IMPORTANT: **each list for now is specific to each column**.\n",
    "    todo: add a layer to this function for which you can input a list of lists (i.e. a list of columns essentially)\n",
    "          and hence calculate the performance metric for the a flattened list (i.e. merging all the columns into an\n",
    "          ordered list such that the order of imputed_values and true_values is matched parfectly).\n",
    "\n",
    "    :param imputed_values: list of imputed values\n",
    "    :param true_values: list of true values\n",
    "    :return:\n",
    "    \"\"\"\n",
    "\n",
    "    # If Categorical Feature\n",
    "    if isinstance(imputed_values[0], str):\n",
    "\n",
    "        # Confusion Matrix\n",
    "        conf_matrix = metrics.confusion_matrix(true_values, imputed_values)\n",
    "\n",
    "        # Accuracy\n",
    "        accuracy = metrics.accuracy_score(true_values, imputed_values)\n",
    "\n",
    "        # Precision\n",
    "        # precision = metrics.precision_score(true_values, imputed_values)\n",
    "        # todo: fix - precision not working as it requires a 'positive' label, it could work better if I encoded the categories\n",
    "\n",
    "        return(conf_matrix, accuracy)\n",
    "\n",
    "    # If Numerical Feature\n",
    "    elif isinstance(imputed_values[0], float):\n",
    "\n",
    "        # Difference Metric D for all values\n",
    "        D = np.array(true_values) - np.array(imputed_values)\n",
    "\n",
    "        sample_mean = np.mean(D)\n",
    "        sample_sd = np.sqrt(np.var(D))\n",
    "\n",
    "        plt.hist(D)\n",
    "\n",
    "        return(D, sample_mean, sample_sd)\n",
    "\n",
    "    else:\n",
    "\n",
    "        return(None)\n",
    "\n",
    "# - - - - - - - - - - - - - - - - - - - - - - - - - - - - - - - - - - -\n",
    "### EXTRACT A LIST OF ORIGINAL DATA TO COMPARE WITH IMPUTED DATA\n",
    "\n",
    "# todo: need to make this into a stand-alone function or incorporate into imputation_methods()\n",
    "#       the work has started to incorporate it into imputation_methods()\n",
    "\n",
    "# In order to extract the true dropped data, this loop goes through each column and using a vector\n",
    "# of boolean inputs slices the dataframe.\n",
    "columns = ['cat0', 'cat1']\n",
    "# columns = ['cont0', 'cont1']\n",
    "\n",
    "true_values = []\n",
    "for column in columns:\n",
    "    truefalse_list = (original_df != df)[column].to_numpy().tolist()\n",
    "    values = original_df[column][truefalse_list]\n",
    "    print(\"for column\", column, \"we have :\", len(values), \"true values which were dropped\")\n",
    "    true_values.append(values)\n",
    "\n",
    "# Sample Run of Performance metrics function\n",
    "results = []\n",
    "\n",
    "# using true values as imputed as well just as a sanity check\n",
    "for index, column in enumerate(columns):\n",
    "    conf_matrix, accuracy = performance_metrics(true_values[index].tolist(), true_values[index].tolist())\n",
    "    results.append([conf_matrix, accuracy])\n",
    "    # returns, as expected accuracy 1. and all accurate predicitons.\n",
    "\n",
    "# - - - - - - - - - - - - - - - - - - - - - - - - - - - - - - - - - - -\n",
    "### SIMULATION STUDY FUNCTION\n",
    "\n"
   ]
  },
  {
   "cell_type": "code",
   "execution_count": null,
   "id": "pressing-warrant",
   "metadata": {},
   "outputs": [],
   "source": []
  }
 ],
 "metadata": {
  "kernelspec": {
   "display_name": "Python 3",
   "language": "python",
   "name": "python3"
  },
  "language_info": {
   "codemirror_mode": {
    "name": "ipython",
    "version": 3
   },
   "file_extension": ".py",
   "mimetype": "text/x-python",
   "name": "python",
   "nbconvert_exporter": "python",
   "pygments_lexer": "ipython3",
   "version": "3.9.2"
  }
 },
 "nbformat": 4,
 "nbformat_minor": 5
}

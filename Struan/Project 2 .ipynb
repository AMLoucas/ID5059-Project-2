{
 "cells": [
  {
   "cell_type": "markdown",
   "metadata": {},
   "source": [
    "Glenys Code"
   ]
  },
  {
   "cell_type": "code",
   "execution_count": null,
   "metadata": {},
   "outputs": [],
   "source": [
    "import pandas as pd\n",
    "import numpy as np\n",
    "import matplotlib.pyplot as plt\n",
    "\n",
    "train_set = pd.read_csv(\"/Users\\strua\\Downloads\\Train.csv\")\n",
    "\n",
    "train_set_copy = train_set\n",
    "\n",
    "y_train = train_set_copy[[\"target\"]]\n",
    "\n",
    "X_train = train_set_copy\n",
    "\n",
    "X_train.drop('target', axis=1, inplace=True) \n",
    "X_train.drop('id', axis=1, inplace=True)\n",
    "\n",
    "for col in ['cat0','cat1','cat2','cat3','cat4','cat5','cat6','cat7','cat8','cat9', 'cat11', 'cat12', 'cat13', 'cat14', 'cat15', 'cat16', 'cat17', 'cat18']:\n",
    "    X_train = pd.concat([X_train,pd.get_dummies(X_train[col], prefix=col)],axis=1)\n",
    "    X_train.drop(col, axis = 1, inplace = True)\n",
    "    \n",
    "test_set = pd.read_csv(\"/Users\\strua\\Downloads\\Test.csv\")\n",
    "\n",
    "test_set_copy = test_set\n",
    "\n",
    "X_test = test_set_copy                       \n",
    "X_test.drop('id', axis = 1, inplace = True)  \n",
    "X_test.head()\n",
    "\n",
    "for col in ['cat0','cat1','cat2','cat3','cat4','cat5','cat6','cat7','cat8','cat9','cat11', 'cat12', 'cat13', 'cat14', 'cat15', 'cat16', 'cat17', 'cat18']:\n",
    "    X_test = pd.concat([X_test,pd.get_dummies(X_test[col], prefix=col)],axis=1)\n",
    "    X_test.drop(col, axis = 1, inplace = True)\n",
    "    \n",
    "cat10_train = X_train['cat10']\n",
    "\n",
    "cat10_test = X_test['cat10']\n",
    "\n",
    "after_merge = test_set_copy.iloc[0:1, :]\n",
    "\n",
    "for col in ['cat0','cat1','cat2','cat3','cat4','cat5','cat6','cat7','cat8','cat9','cat10', 'cat11', 'cat12', 'cat13', 'cat14', 'cat15', 'cat16', 'cat17', 'cat18']:\n",
    "    after_merge = pd.concat([after_merge,pd.get_dummies(after_merge[col], prefix=col)],axis=1)\n",
    "    after_merge.drop(col, axis = 1, inplace = True)\n",
    "    \n",
    "cat10_combined = pd.concat([cat10_train, cat10_test])\n",
    "\n",
    "cat10_encoded = pd.get_dummies(cat10_combined, prefix='cat10') \n",
    "\n",
    "new_cat10_train = cat10_encoded.iloc[0:300000,:]   \n",
    "new_cat10_test = cat10_encoded.iloc[300000:,:]\n",
    "\n",
    "X_train.drop('cat10', axis = 1, inplace = True)\n",
    "\n",
    "X_train_final = pd.concat([X_train, new_cat10_train], axis = 1)\n",
    "\n",
    "X_test.drop('cat10', axis = 1, inplace = True)\n",
    "\n",
    "X_test_final = pd.concat([X_test, new_cat10_test], axis = 1)"
   ]
  },
  {
   "cell_type": "markdown",
   "metadata": {},
   "source": [
    "Random Forest Classifier\n",
    "\n",
    "A random forest classifier is an estimator that fit numerous decission trees on subset of the training data and then averages  them to improve its predictive accuracy. The number of these trees can we edited to give a better prediction.\n",
    "\n",
    "Firstly we start by importing the classifier."
   ]
  },
  {
   "cell_type": "code",
   "execution_count": null,
   "metadata": {},
   "outputs": [],
   "source": [
    "from sklearn.ensemble import RandomForestClassifier"
   ]
  },
  {
   "cell_type": "markdown",
   "metadata": {},
   "source": [
    "We will run this classifier with n_estimators = 100, this means that there will be 100 decission trees that this classifier will base its results off. Our random_state ensures this classifer will remain consistent in any future runs. \n",
    "\n",
    "Once we make our model we will fit it on our training data."
   ]
  },
  {
   "cell_type": "code",
   "execution_count": null,
   "metadata": {},
   "outputs": [],
   "source": [
    "rnd_clf = RandomForestClassifier(n_estimators=100, random_state=42)\n",
    "rnd_clf.fit(X_train_final, np.ravel(y_train))"
   ]
  },
  {
   "cell_type": "markdown",
   "metadata": {},
   "source": [
    "Now we want to see how well the predictive quality of our model is for this we will import a function called accuracy_score"
   ]
  },
  {
   "cell_type": "code",
   "execution_count": null,
   "metadata": {},
   "outputs": [],
   "source": [
    "from sklearn.metrics import accuracy_score"
   ]
  },
  {
   "cell_type": "markdown",
   "metadata": {},
   "source": [
    "Since we don't have actual data for our test data we will see how well the model will predict the training data since we have that information available to us. "
   ]
  },
  {
   "cell_type": "code",
   "execution_count": null,
   "metadata": {},
   "outputs": [],
   "source": [
    "yt_pred_rf = rnd_clf.predict(X_train_final)\n",
    "accuracy_score( y_train,yt_pred_rf) # returns 0.9999833333333333"
   ]
  },
  {
   "cell_type": "markdown",
   "metadata": {},
   "source": [
    "This accuracy score is very high which could mean that our model might not be fit for use as it possibly will overfit our test data. We will save our training predictions incase we want to see the areas where it has not fitted"
   ]
  },
  {
   "cell_type": "code",
   "execution_count": null,
   "metadata": {},
   "outputs": [],
   "source": [
    "np.savetxt('RandomForestTrainingPreds.csv',yt_pred_rf,delimiter=\",\")"
   ]
  },
  {
   "cell_type": "markdown",
   "metadata": {},
   "source": [
    "Now we will run our model on the test data."
   ]
  },
  {
   "cell_type": "code",
   "execution_count": null,
   "metadata": {},
   "outputs": [],
   "source": [
    "y_pred_rf = rnd_clf.predict(X_test_final)"
   ]
  },
  {
   "cell_type": "markdown",
   "metadata": {},
   "source": [
    "and then once again save our predictions of our test data"
   ]
  },
  {
   "cell_type": "code",
   "execution_count": null,
   "metadata": {},
   "outputs": [],
   "source": [
    "np.savetxt(\"RandomForestTestPreds.csv\",y_pred_rf,delimiter=',')"
   ]
  },
  {
   "cell_type": "markdown",
   "metadata": {},
   "source": [
    "Bagging Classifier\n",
    "\n",
    "A bagging classifier is a classifier that fits its data on subsets of the training data and the"
   ]
  },
  {
   "cell_type": "code",
   "execution_count": null,
   "metadata": {},
   "outputs": [],
   "source": [
    "from sklearn.ensemble import BaggingClassifier\n",
    "from sklearn.tree import DecisionTreeClassifier"
   ]
  },
  {
   "cell_type": "markdown",
   "metadata": {},
   "source": []
  },
  {
   "cell_type": "code",
   "execution_count": null,
   "metadata": {},
   "outputs": [],
   "source": [
    "bagT_clf = BaggingClassifier(\n",
    "   DecisionTreeClassifier(random_state=42), n_estimators=500,\n",
    "    max_samples=100, bootstrap=True, random_state=42)\n",
    "bagT_clf.fit(X_train_final, np.ravel(y_train))"
   ]
  },
  {
   "cell_type": "markdown",
   "metadata": {},
   "source": []
  },
  {
   "cell_type": "code",
   "execution_count": null,
   "metadata": {},
   "outputs": [],
   "source": [
    "yt_pred_bagT = bagT_clf.predict(X_train_final)\n",
    "accuracy_score(y_train,yt_pred_bagT) #returns 0.8351866666666666"
   ]
  },
  {
   "cell_type": "markdown",
   "metadata": {},
   "source": []
  },
  {
   "cell_type": "code",
   "execution_count": null,
   "metadata": {},
   "outputs": [],
   "source": [
    "np.savetxt(\"BaggingTreeTrainingPreds.csv\",yt_pred_bagT,delimiter=',')"
   ]
  },
  {
   "cell_type": "markdown",
   "metadata": {},
   "source": []
  },
  {
   "cell_type": "code",
   "execution_count": null,
   "metadata": {},
   "outputs": [],
   "source": [
    "y_pred_bagT = bagT_clf.predict(X_test_final)"
   ]
  },
  {
   "cell_type": "markdown",
   "metadata": {},
   "source": []
  },
  {
   "cell_type": "code",
   "execution_count": null,
   "metadata": {},
   "outputs": [],
   "source": [
    "np.savetxt(\"BaggingTreePreds.csv\",y_pred_bagT,delimiter=',')"
   ]
  },
  {
   "cell_type": "markdown",
   "metadata": {},
   "source": []
  },
  {
   "cell_type": "code",
   "execution_count": null,
   "metadata": {},
   "outputs": [],
   "source": [
    "bagF_clf = BaggingClassifier(\n",
    "    RandomForestClassifier(random_state=42), n_estimators=500,\n",
    "    max_samples=100, bootstrap=True, random_state=42)\n",
    "bagF_clf.fit(X_train_final, np.ravel(y_train))"
   ]
  },
  {
   "cell_type": "markdown",
   "metadata": {},
   "source": []
  },
  {
   "cell_type": "code",
   "execution_count": null,
   "metadata": {},
   "outputs": [],
   "source": [
    "yt_pred_bagF = bagF_clf.predict(X_train_final)\n",
    "accuracy_score(y_train,yt_pred_bagF) #returns 0.8257533333333333"
   ]
  },
  {
   "cell_type": "markdown",
   "metadata": {},
   "source": []
  },
  {
   "cell_type": "code",
   "execution_count": null,
   "metadata": {},
   "outputs": [],
   "source": [
    "np.savetxt(\"BaggingForestTrainingPreds.csv\",yt_pred_bagF,delimiter=',')"
   ]
  },
  {
   "cell_type": "markdown",
   "metadata": {},
   "source": []
  },
  {
   "cell_type": "code",
   "execution_count": null,
   "metadata": {},
   "outputs": [],
   "source": [
    "y_pred_bagF = bagF_clf.predict(X_test_final)"
   ]
  },
  {
   "cell_type": "markdown",
   "metadata": {},
   "source": []
  },
  {
   "cell_type": "code",
   "execution_count": null,
   "metadata": {},
   "outputs": [],
   "source": [
    "np.savetxt(\"BaggingForestPreds.csv\",y_pred_bagF,delimiter=',')"
   ]
  },
  {
   "cell_type": "markdown",
   "metadata": {},
   "source": []
  },
  {
   "cell_type": "code",
   "execution_count": null,
   "metadata": {},
   "outputs": [],
   "source": [
    "from sklearn.ensemble import AdaBoostClassifier"
   ]
  },
  {
   "cell_type": "markdown",
   "metadata": {},
   "source": []
  },
  {
   "cell_type": "code",
   "execution_count": null,
   "metadata": {},
   "outputs": [],
   "source": [
    "ada_clf=AdaBoostClassifier(\n",
    "    DecisionTreeClassifier(max_depth=1), n_estimators=200,\n",
    "    algorithm=\"SAMME.R\", learning_rate=0.5, random_state=42)\n",
    "ada_clf.fit(X_train_final, np.ravel(y_train))"
   ]
  },
  {
   "cell_type": "markdown",
   "metadata": {},
   "source": []
  },
  {
   "cell_type": "code",
   "execution_count": null,
   "metadata": {},
   "outputs": [],
   "source": [
    "yt_pred_Ada = ada_clf.predict(X_train_final)\n",
    "accuracy_score(y_train,yt_pred_Ada) #returns 0.8434366666666666"
   ]
  },
  {
   "cell_type": "markdown",
   "metadata": {},
   "source": []
  },
  {
   "cell_type": "code",
   "execution_count": null,
   "metadata": {},
   "outputs": [],
   "source": [
    "np.savetxt(\"AdaBoostTrainingPreds.csv\",yt_pred_Ada,delimiter=',')"
   ]
  },
  {
   "cell_type": "markdown",
   "metadata": {},
   "source": []
  },
  {
   "cell_type": "code",
   "execution_count": null,
   "metadata": {},
   "outputs": [],
   "source": [
    "y_pred_Ada = ada_clf.predict(X_test_final)"
   ]
  },
  {
   "cell_type": "markdown",
   "metadata": {},
   "source": []
  },
  {
   "cell_type": "code",
   "execution_count": null,
   "metadata": {},
   "outputs": [],
   "source": [
    "np.savetxt(\"AdaBoostPreds.csv\",y_pred_Ada,delimiter=',')"
   ]
  },
  {
   "cell_type": "markdown",
   "metadata": {},
   "source": []
  },
  {
   "cell_type": "code",
   "execution_count": null,
   "metadata": {},
   "outputs": [],
   "source": [
    "from sklearn.ensemble import GradientBoostingClassifier"
   ]
  },
  {
   "cell_type": "markdown",
   "metadata": {},
   "source": []
  },
  {
   "cell_type": "code",
   "execution_count": null,
   "metadata": {},
   "outputs": [],
   "source": [
    "Grd_clf = GradientBoostingClassifier(n_estimators=100, learning_rate=1.0,\n",
    "        max_depth=1, random_state=42)\n",
    "Grd_clf.fit(X_train_final,np.ravel(y_train))"
   ]
  },
  {
   "cell_type": "markdown",
   "metadata": {},
   "source": []
  },
  {
   "cell_type": "code",
   "execution_count": null,
   "metadata": {},
   "outputs": [],
   "source": [
    "yt_pred_Grad = Grd_clf.predict(X_train_final)\n",
    "accuracy_score(y_train,yt_pred_Grad) #return 0.8439566666666667"
   ]
  },
  {
   "cell_type": "markdown",
   "metadata": {},
   "source": []
  },
  {
   "cell_type": "code",
   "execution_count": null,
   "metadata": {},
   "outputs": [],
   "source": [
    "np.savetxt(\"GradientBoostTrainingPreds.csv\",yt_pred_Grad,delimiter=',')"
   ]
  },
  {
   "cell_type": "markdown",
   "metadata": {},
   "source": []
  },
  {
   "cell_type": "code",
   "execution_count": null,
   "metadata": {},
   "outputs": [],
   "source": [
    "y_pred_Grad = Grd_clf.predict(X_test_final)"
   ]
  },
  {
   "cell_type": "markdown",
   "metadata": {},
   "source": []
  },
  {
   "cell_type": "code",
   "execution_count": null,
   "metadata": {},
   "outputs": [],
   "source": [
    "np.savetxt(\"GradientBoostPreds.csv\",y_pred_Grad,delimiter=',')"
   ]
  }
 ],
 "metadata": {
  "kernelspec": {
   "display_name": "Python 3",
   "language": "python",
   "name": "python3"
  },
  "language_info": {
   "codemirror_mode": {
    "name": "ipython",
    "version": 3
   },
   "file_extension": ".py",
   "mimetype": "text/x-python",
   "name": "python",
   "nbconvert_exporter": "python",
   "pygments_lexer": "ipython3",
   "version": "3.7.0"
  }
 },
 "nbformat": 4,
 "nbformat_minor": 2
}

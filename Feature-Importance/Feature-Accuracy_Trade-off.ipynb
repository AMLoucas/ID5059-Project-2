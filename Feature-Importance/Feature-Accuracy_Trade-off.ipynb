{
 "cells": [
  {
   "cell_type": "markdown",
   "id": "comparative-chase",
   "metadata": {},
   "source": [
    "# Feature Importance in detail\n",
    "\n",
    "## Are all features needed?\n",
    "\n",
    "This notebook will examine in depth if all the data being collected is needed to predict the clients target. We will be using a XGBoost classifier to predict the the target and obtain our accuracy scores from.\n",
    "\n",
    "### Workflow of the process\n",
    "\n",
    " 1. Import data and libraries\n",
    " 2. Wrangle data and compute feature importance\n",
    " 3. Re-construct beginning state of data with 'covariate importance'\n",
    " 4. Fit XGBoost Classifier with different number of covariates\n",
    "  * With 5 most feature important\n",
    "  * With 10 most feature important\n",
    "  * With 15 most feature important\n",
    "  * With 20 most feature important\n",
    "  * With 25 most feature important\n",
    "  * With 30 most feature important\n",
    " 5. Plot the Acuuracy with Number of covariates trade-off\n",
    " \n",
    "To run the notebook, make sure you all the appropriate software and libraries downloaded on your local machine.\n",
    "\n",
    "# Import libraries and data"
   ]
  },
  {
   "cell_type": "code",
   "execution_count": 1,
   "id": "velvet-injury",
   "metadata": {},
   "outputs": [],
   "source": [
    "# Important libraries for data frame manipulations.\n",
    "import pandas as pd\n",
    "import numpy as np\n",
    "import sys as sys\n",
    "\n",
    "from sklearn.tree import DecisionTreeClassifier\n",
    "\n",
    "# For fitting a XGBClassifier\n",
    "from xgboost import XGBClassifier\n",
    "\n",
    "# To create graphs/plots to visualisation feature relations.\n",
    "import matplotlib.pyplot as plt\n",
    "import seaborn as sns\n",
    "\n"
   ]
  },
  {
   "cell_type": "code",
   "execution_count": 2,
   "id": "affecting-plastic",
   "metadata": {},
   "outputs": [],
   "source": [
    "# Reading in the training and testing set already provided.\n",
    "training_data = pd.read_csv(\"data/train.csv\")\n",
    "testing_data = pd.read_csv(\"data/test.csv\")\n",
    "submit_file = pd.read_csv(\"data/sample_submission.csv\", index_col='id')\n",
    "\n",
    "# Isolating the response value.\n",
    "trainY_response = training_data['target'].copy()\n",
    "\n",
    "# Dropping the values not needed in the datasets\n",
    "# From training = [targer, id]\n",
    "# From tesitng = [id]\n",
    "training_data.drop('target', axis = 1, inplace = True)\n",
    "testing_data.drop('id', axis = 1, inplace = True)"
   ]
  },
  {
   "cell_type": "markdown",
   "id": "funded-parks",
   "metadata": {},
   "source": [
    "We need to One-Hote-Encode the training and testing set with the same structure to find the feature importance of each feature in the dataset.\n",
    "\n",
    "### [2] Wrangle Data and compute importance value of covariates"
   ]
  },
  {
   "cell_type": "code",
   "execution_count": 3,
   "id": "referenced-business",
   "metadata": {},
   "outputs": [],
   "source": [
    "### FUNCTION that one hot encodes the 2 datasets together.\n",
    "## Merged dataset will be send and it will be returned 1-Hot-Encoded\n",
    "def find_one_encoder(train, test):\n",
    "    ## MERGED DATA\n",
    "    # This will concatenate the test data rows below the train data\n",
    "    # The first 300K rows will be the train.\n",
    "    # The last 200K rows will be the testing.\n",
    "    merged_encoder = pd.concat([train, test])\n",
    "\n",
    "\n",
    "    # Using get_dummies() which is the same thing as 1-hot-encoder but ignores numerical values.\n",
    "    merged_encoder = pd.get_dummies(merged_encoder)\n",
    "    return(merged_encoder)\n",
    "\n",
    "\n",
    "# First 300K rows is our training set.\n",
    "full_train_X_data = find_one_encoder(training_data.copy(),testing_data.copy()).iloc[:300000,:]\n",
    "# Last 200K rows is our testing set.\n",
    "full_test_X_data = find_one_encoder(training_data.copy(),testing_data.copy()).iloc[300000:,:]"
   ]
  },
  {
   "cell_type": "code",
   "execution_count": 4,
   "id": "appointed-bahamas",
   "metadata": {},
   "outputs": [
    {
     "name": "stdout",
     "output_type": "stream",
     "text": [
      "<class 'pandas.core.frame.DataFrame'>\n",
      "Int64Index: 300000 entries, 0 to 299999\n",
      "Columns: 643 entries, id to cat18_D\n",
      "dtypes: float64(12), uint8(631)\n",
      "memory usage: 210.3 MB\n"
     ]
    }
   ],
   "source": [
    "# Checking if the computation was done correctly.\n",
    "full_train_X_data.info()"
   ]
  },
  {
   "cell_type": "code",
   "execution_count": 5,
   "id": "generous-charter",
   "metadata": {},
   "outputs": [
    {
     "name": "stdout",
     "output_type": "stream",
     "text": [
      "<class 'pandas.core.frame.DataFrame'>\n",
      "Int64Index: 200000 entries, 0 to 199999\n",
      "Columns: 643 entries, id to cat18_D\n",
      "dtypes: float64(12), uint8(631)\n",
      "memory usage: 140.2 MB\n"
     ]
    }
   ],
   "source": [
    "full_test_X_data.info()"
   ]
  },
  {
   "cell_type": "markdown",
   "id": "artificial-vitamin",
   "metadata": {},
   "source": [
    "Feature importance will be found using a decision tree. The covariates used to split the data closest to the root have the highest info gain. This means there are more important than others in predicting our target goal."
   ]
  },
  {
   "cell_type": "code",
   "execution_count": 6,
   "id": "moral-projection",
   "metadata": {},
   "outputs": [
    {
     "name": "stdout",
     "output_type": "stream",
     "text": [
      "CPU times: user 35 s, sys: 1.49 s, total: 36.5 s\n",
      "Wall time: 37.9 s\n"
     ]
    },
    {
     "data": {
      "text/plain": [
       "DecisionTreeClassifier(criterion='entropy', random_state=5059)"
      ]
     },
     "execution_count": 6,
     "metadata": {},
     "output_type": "execute_result"
    }
   ],
   "source": [
    "%%time\n",
    "# Fitting a random forest with only 5 trees to get feature importance.\n",
    "DT_feature_importance = DecisionTreeClassifier(criterion='entropy', random_state=5059)\n",
    "DT_feature_importance.fit(full_train_X_data, trainY_response)"
   ]
  },
  {
   "cell_type": "code",
   "execution_count": 7,
   "id": "artificial-lobby",
   "metadata": {},
   "outputs": [
    {
     "data": {
      "text/html": [
       "<div>\n",
       "<style scoped>\n",
       "    .dataframe tbody tr th:only-of-type {\n",
       "        vertical-align: middle;\n",
       "    }\n",
       "\n",
       "    .dataframe tbody tr th {\n",
       "        vertical-align: top;\n",
       "    }\n",
       "\n",
       "    .dataframe thead th {\n",
       "        text-align: right;\n",
       "    }\n",
       "</style>\n",
       "<table border=\"1\" class=\"dataframe\">\n",
       "  <thead>\n",
       "    <tr style=\"text-align: right;\">\n",
       "      <th></th>\n",
       "      <th>index</th>\n",
       "      <th>Feature</th>\n",
       "      <th>Feature Score</th>\n",
       "    </tr>\n",
       "  </thead>\n",
       "  <tbody>\n",
       "    <tr>\n",
       "      <th>0</th>\n",
       "      <td>632</td>\n",
       "      <td>cat16_B</td>\n",
       "      <td>0.222815</td>\n",
       "    </tr>\n",
       "    <tr>\n",
       "      <th>1</th>\n",
       "      <td>6</td>\n",
       "      <td>cont5</td>\n",
       "      <td>0.064849</td>\n",
       "    </tr>\n",
       "    <tr>\n",
       "      <th>2</th>\n",
       "      <td>2</td>\n",
       "      <td>cont1</td>\n",
       "      <td>0.048936</td>\n",
       "    </tr>\n",
       "    <tr>\n",
       "      <th>3</th>\n",
       "      <td>7</td>\n",
       "      <td>cont6</td>\n",
       "      <td>0.047512</td>\n",
       "    </tr>\n",
       "    <tr>\n",
       "      <th>4</th>\n",
       "      <td>5</td>\n",
       "      <td>cont4</td>\n",
       "      <td>0.043646</td>\n",
       "    </tr>\n",
       "    <tr>\n",
       "      <th>...</th>\n",
       "      <td>...</td>\n",
       "      <td>...</td>\n",
       "      <td>...</td>\n",
       "    </tr>\n",
       "    <tr>\n",
       "      <th>638</th>\n",
       "      <td>383</td>\n",
       "      <td>cat10_DH</td>\n",
       "      <td>0.000000</td>\n",
       "    </tr>\n",
       "    <tr>\n",
       "      <th>639</th>\n",
       "      <td>382</td>\n",
       "      <td>cat10_DG</td>\n",
       "      <td>0.000000</td>\n",
       "    </tr>\n",
       "    <tr>\n",
       "      <th>640</th>\n",
       "      <td>380</td>\n",
       "      <td>cat10_DE</td>\n",
       "      <td>0.000000</td>\n",
       "    </tr>\n",
       "    <tr>\n",
       "      <th>641</th>\n",
       "      <td>379</td>\n",
       "      <td>cat10_DD</td>\n",
       "      <td>0.000000</td>\n",
       "    </tr>\n",
       "    <tr>\n",
       "      <th>642</th>\n",
       "      <td>359</td>\n",
       "      <td>cat10_CH</td>\n",
       "      <td>0.000000</td>\n",
       "    </tr>\n",
       "  </tbody>\n",
       "</table>\n",
       "<p>643 rows × 3 columns</p>\n",
       "</div>"
      ],
      "text/plain": [
       "     index   Feature  Feature Score\n",
       "0      632   cat16_B       0.222815\n",
       "1        6     cont5       0.064849\n",
       "2        2     cont1       0.048936\n",
       "3        7     cont6       0.047512\n",
       "4        5     cont4       0.043646\n",
       "..     ...       ...            ...\n",
       "638    383  cat10_DH       0.000000\n",
       "639    382  cat10_DG       0.000000\n",
       "640    380  cat10_DE       0.000000\n",
       "641    379  cat10_DD       0.000000\n",
       "642    359  cat10_CH       0.000000\n",
       "\n",
       "[643 rows x 3 columns]"
      ]
     },
     "execution_count": 7,
     "metadata": {},
     "output_type": "execute_result"
    }
   ],
   "source": [
    "# Finding the features that are important.\n",
    "features = []\n",
    "feature_score = []\n",
    "# Appenind all scores in arrays to create a data frame.\n",
    "for i, column in enumerate(full_train_X_data):\n",
    "    features.append(column)\n",
    "    feature_score.append(DT_feature_importance.feature_importances_[i])\n",
    "    \n",
    "# Create a dataframe with these arrays.\n",
    "feature_score_df = zip(features, feature_score)\n",
    "feature_score_df = pd.DataFrame(feature_score_df, columns = ['Feature', 'Feature Score'])\n",
    "\n",
    "# Sort the data frame according to feature score.\n",
    "feature_score_df = feature_score_df.sort_values('Feature Score', ascending=False).reset_index()\n",
    "feature_score_df"
   ]
  },
  {
   "cell_type": "markdown",
   "id": "furnished-validation",
   "metadata": {},
   "source": [
    "### [3] Re-construct and find covariate importance\n",
    "\n",
    "We will find the whole column(covariate) importance of the starting by summing all levels feature importance. We will then subset the datasts, in terms of whole most important covariates for prediction."
   ]
  },
  {
   "cell_type": "code",
   "execution_count": 8,
   "id": "verbal-anthropology",
   "metadata": {},
   "outputs": [
    {
     "name": "stdout",
     "output_type": "stream",
     "text": [
      "('cat16', 0.22486957172363686)\n",
      "('cont5', 0.0648488148141639)\n",
      "('cont1', 0.04893635600156071)\n",
      "('cont6', 0.04751204536228715)\n",
      "('cont4', 0.04364580514968128)\n",
      "('cont2', 0.042974862608814786)\n",
      "('cont8', 0.042876331017358466)\n",
      "('cont3', 0.04280314254448044)\n",
      "('id', 0.041575329457989973)\n",
      "('cont9', 0.04005312493535506)\n",
      "('cont0', 0.039723254284598074)\n",
      "('cont10', 0.039454475015376037)\n",
      "('cont7', 0.03807500891209623)\n",
      "('cat7', 0.02662767003316534)\n",
      "('cat10', 0.02529424803206638)\n",
      "('cat8', 0.02382813025380267)\n",
      "('cat1', 0.0221210901136999)\n",
      "('cat18', 0.02107364327017766)\n",
      "('cat0', 0.016921551114809995)\n",
      "('cat2', 0.015969833618716168)\n",
      "('cat15', 0.015574059413575325)\n",
      "('cat14', 0.011888233523265191)\n",
      "('cat4', 0.011651864598939141)\n",
      "('cat6', 0.009872855879651707)\n",
      "('cat11', 0.00881436395636135)\n",
      "('cat9', 0.008797914696591885)\n",
      "('cat3', 0.008405162821917571)\n",
      "('cat17', 0.0067234093454962285)\n",
      "('cat5', 0.0043530158132720565)\n",
      "('cat12', 0.0024455332120263858)\n",
      "('cat13', 0.0022892984750661734)\n"
     ]
    }
   ],
   "source": [
    "# Creating a dictionary to find sum of feature importance scores for each full covariate\n",
    "covariate_importance = {}\n",
    "# Loop through all the features\n",
    "for index, row in feature_score_df.iterrows():\n",
    "    # Capture only covariate name\n",
    "    col = row['Feature'].split('_')[0]\n",
    "    # Capture feature importance score\n",
    "    score = row['Feature Score']\n",
    "    # Add the feature importance score with the name in dictionary and append.\n",
    "    if col in covariate_importance:\n",
    "        covariate_importance[col] += score\n",
    "    else:\n",
    "        covariate_importance[col] = score\n",
    "\n",
    "# Sort the dictionary according to the dictionary values.\n",
    "sorted_by_value = sorted(covariate_importance.items(),key=lambda x: x[1], reverse=True)\n",
    "\n",
    "# Print the dictionary in a presentable way.\n",
    "for covariate in sorted_by_value:\n",
    "    print(covariate)  "
   ]
  },
  {
   "cell_type": "code",
   "execution_count": 9,
   "id": "ranking-period",
   "metadata": {},
   "outputs": [],
   "source": [
    "# Taking the top most important covariates in arrays.\n",
    "top5 = ['cat16','cont5', 'cont1', 'cont6', 'cont4']\n",
    "top10 = ['cat16','cont5', 'cont1', 'cont6', 'cont4', 'cont2', 'cont3','cont8', 'cont9', 'cont10']\n",
    "top15 = ['cat16','cont5', 'cont1', 'cont6', 'cont4', 'cont2', 'cont3','cont8', 'cont9', 'cont10', 'cont0', 'cont7',\n",
    "        'cat7','cat10', 'cat8' ] \n",
    "top20 = ['cat16','cont5', 'cont1', 'cont6', 'cont4', 'cont2', 'cont3','cont8', 'cont9', 'cont10', 'cont0', 'cont7',\n",
    "        'cat7','cat10', 'cat8', 'cat1','cat18','cat2','cat0','cat15'] \n",
    "top25 = ['cat16','cont5', 'cont1', 'cont6', 'cont4', 'cont2', 'cont3','cont8', 'cont9', 'cont10', 'cont0', 'cont7',\n",
    "        'cat7','cat10', 'cat8', 'cat1','cat18','cat2','cat0','cat15','cat14','cat4', 'cat6','cat9', 'cat3']\n",
    "\n",
    "# Subseting data to top5 cov\n",
    "training_5 = training_data[top5].copy()\n",
    "testing_5 = testing_data[top5].copy()\n",
    "\n",
    "# Subseting data to top10 cov\n",
    "training_10 = training_data[top10].copy()\n",
    "testing_10 = testing_data[top10].copy()\n",
    "\n",
    "# Subseting data to top15 cov\n",
    "training_15 = training_data[top15].copy()\n",
    "testing_15 = testing_data[top15].copy()\n",
    "\n",
    "# Subseting data to top20 cov\n",
    "training_20 = training_data[top20].copy()\n",
    "testing_20 = testing_data[top20].copy()\n",
    "\n",
    "# Subseting to top25 cov\n",
    "training_25 = training_data[top25].copy()\n",
    "testing_25 = testing_data[top25].copy()"
   ]
  },
  {
   "cell_type": "markdown",
   "id": "unsigned-impact",
   "metadata": {},
   "source": [
    "### [4] Start trainign XGBoost with different datasets\n",
    "\n",
    "### For top 5 Covariates\n"
   ]
  },
  {
   "cell_type": "code",
   "execution_count": 10,
   "id": "technological-turner",
   "metadata": {},
   "outputs": [
    {
     "name": "stderr",
     "output_type": "stream",
     "text": [
      "/usr/local/Cellar/jupyterlab/3.0.9/libexec/lib/python3.9/site-packages/xgboost/sklearn.py:1146: UserWarning: The use of label encoder in XGBClassifier is deprecated and will be removed in a future release. To remove this warning, do the following: 1) Pass option use_label_encoder=False when constructing XGBClassifier object; and 2) Encode your labels (y) as integers starting with 0, i.e. 0, 1, 2, ..., [num_class - 1].\n",
      "  warnings.warn(label_encoder_deprecation_msg, UserWarning)\n"
     ]
    },
    {
     "name": "stdout",
     "output_type": "stream",
     "text": [
      "[21:10:20] WARNING: /Users/travis/build/dmlc/xgboost/src/learner.cc:1095: Starting in XGBoost 1.3.0, the default evaluation metric used with the objective 'binary:logistic' was changed from 'error' to 'logloss'. Explicitly set eval_metric if you'd like to restore the old behavior.\n",
      "CPU times: user 1min 5s, sys: 126 ms, total: 1min 5s\n",
      "Wall time: 16.7 s\n"
     ]
    },
    {
     "data": {
      "text/plain": [
       "XGBClassifier(base_score=0.5, booster='gbtree', colsample_bylevel=1,\n",
       "              colsample_bynode=1, colsample_bytree=1, gamma=0, gpu_id=-1,\n",
       "              importance_type='gain', interaction_constraints='',\n",
       "              learning_rate=0.300000012, max_delta_step=0, max_depth=6,\n",
       "              min_child_weight=1, missing=nan, monotone_constraints='()',\n",
       "              n_estimators=100, n_jobs=4, num_parallel_tree=1, random_state=42,\n",
       "              reg_alpha=0, reg_lambda=1, scale_pos_weight=1, subsample=1,\n",
       "              tree_method='exact', validate_parameters=1, verbosity=None)"
      ]
     },
     "execution_count": 10,
     "metadata": {},
     "output_type": "execute_result"
    }
   ],
   "source": [
    "%%time\n",
    "# First 300K rows is our training set.\n",
    "top5_train_X_data = find_one_encoder(training_5,testing_5).iloc[:300000,:]\n",
    "# Last 200K rows is our testing set.\n",
    "top5_test_X_data = find_one_encoder(training_5,testing_5).iloc[300000:,:]\n",
    " \n",
    "# Constructing the XGBClassifier \n",
    "xgb_model = XGBClassifier(random_state = 42)\n",
    "# Fitting the XGBClassifier on full dataset.\n",
    "xgb_model.fit(top5_train_X_data, trainY_response)"
   ]
  },
  {
   "cell_type": "code",
   "execution_count": 11,
   "id": "chief-amber",
   "metadata": {},
   "outputs": [
    {
     "name": "stderr",
     "output_type": "stream",
     "text": [
      "/usr/local/Cellar/jupyterlab/3.0.9/libexec/lib/python3.9/site-packages/xgboost/data.py:112: UserWarning: Use subset (sliced data) of np.ndarray is not recommended because it will generate extra copies and increase memory consumption\n",
      "  warnings.warn(\n"
     ]
    }
   ],
   "source": [
    "# Predicting values using the test X matrix\n",
    "y_predicted = xgb_model.predict_proba(top5_test_X_data)[:,1]\n",
    "# Calling function to write the csv file\n",
    "submit_file['target'] = y_predicted\n",
    "submit_file.to_csv('top5-xgboost.csv')"
   ]
  },
  {
   "cell_type": "markdown",
   "id": "involved-dealing",
   "metadata": {},
   "source": [
    "**Accuracy Score from Kaggle = 84.741%**"
   ]
  },
  {
   "cell_type": "markdown",
   "id": "norman-witch",
   "metadata": {},
   "source": [
    "### For top 10 Covariates"
   ]
  },
  {
   "cell_type": "code",
   "execution_count": 12,
   "id": "registered-defendant",
   "metadata": {},
   "outputs": [
    {
     "name": "stdout",
     "output_type": "stream",
     "text": [
      "[21:12:38] WARNING: /Users/travis/build/dmlc/xgboost/src/learner.cc:1095: Starting in XGBoost 1.3.0, the default evaluation metric used with the objective 'binary:logistic' was changed from 'error' to 'logloss'. Explicitly set eval_metric if you'd like to restore the old behavior.\n",
      "CPU times: user 2min 9s, sys: 750 ms, total: 2min 10s\n",
      "Wall time: 38.5 s\n"
     ]
    },
    {
     "data": {
      "text/plain": [
       "XGBClassifier(base_score=0.5, booster='gbtree', colsample_bylevel=1,\n",
       "              colsample_bynode=1, colsample_bytree=1, gamma=0, gpu_id=-1,\n",
       "              importance_type='gain', interaction_constraints='',\n",
       "              learning_rate=0.300000012, max_delta_step=0, max_depth=6,\n",
       "              min_child_weight=1, missing=nan, monotone_constraints='()',\n",
       "              n_estimators=100, n_jobs=4, num_parallel_tree=1, random_state=42,\n",
       "              reg_alpha=0, reg_lambda=1, scale_pos_weight=1, subsample=1,\n",
       "              tree_method='exact', validate_parameters=1, verbosity=None)"
      ]
     },
     "execution_count": 12,
     "metadata": {},
     "output_type": "execute_result"
    }
   ],
   "source": [
    "%%time\n",
    "# First 300K rows is our training set.\n",
    "top10_train_X_data = find_one_encoder(training_10.copy(),testing_10.copy()).iloc[:300000,:]\n",
    "# Last 200K rows is our testing set.\n",
    "top10_test_X_data = find_one_encoder(training_10.copy(),testing_10.copy()).iloc[300000:,:]\n",
    " \n",
    "# Constructing the XGBClassifier \n",
    "xgb_model = XGBClassifier(random_state = 42)\n",
    "# Fitting the XGBClassifier on full dataset.\n",
    "xgb_model.fit(top10_train_X_data, trainY_response)"
   ]
  },
  {
   "cell_type": "code",
   "execution_count": 13,
   "id": "twenty-liability",
   "metadata": {},
   "outputs": [],
   "source": [
    "# Predicting values using the test X matrix\n",
    "y_predicted = xgb_model.predict_proba(top10_test_X_data)[:,1]\n",
    "# Calling function to write the csv file\n",
    "submit_file['target'] = y_predicted\n",
    "submit_file.to_csv('top10-xgboost.csv')"
   ]
  },
  {
   "cell_type": "markdown",
   "id": "composed-anaheim",
   "metadata": {},
   "source": [
    "**Accuracy Score from Kaggle = 85.562%**"
   ]
  },
  {
   "cell_type": "markdown",
   "id": "departmental-mambo",
   "metadata": {},
   "source": [
    "### For top 15 Covariates"
   ]
  },
  {
   "cell_type": "code",
   "execution_count": 14,
   "id": "monetary-computer",
   "metadata": {},
   "outputs": [
    {
     "name": "stdout",
     "output_type": "stream",
     "text": [
      "[21:14:20] WARNING: /Users/travis/build/dmlc/xgboost/src/learner.cc:1095: Starting in XGBoost 1.3.0, the default evaluation metric used with the objective 'binary:logistic' was changed from 'error' to 'logloss'. Explicitly set eval_metric if you'd like to restore the old behavior.\n",
      "CPU times: user 18min 25s, sys: 4.42 s, total: 18min 29s\n",
      "Wall time: 5min\n"
     ]
    },
    {
     "data": {
      "text/plain": [
       "XGBClassifier(base_score=0.5, booster='gbtree', colsample_bylevel=1,\n",
       "              colsample_bynode=1, colsample_bytree=1, gamma=0, gpu_id=-1,\n",
       "              importance_type='gain', interaction_constraints='',\n",
       "              learning_rate=0.300000012, max_delta_step=0, max_depth=6,\n",
       "              min_child_weight=1, missing=nan, monotone_constraints='()',\n",
       "              n_estimators=100, n_jobs=4, num_parallel_tree=1, random_state=42,\n",
       "              reg_alpha=0, reg_lambda=1, scale_pos_weight=1, subsample=1,\n",
       "              tree_method='exact', validate_parameters=1, verbosity=None)"
      ]
     },
     "execution_count": 14,
     "metadata": {},
     "output_type": "execute_result"
    }
   ],
   "source": [
    "%%time\n",
    "# First 300K rows is our training set.\n",
    "top15_train_X_data = find_one_encoder(training_15.copy(),testing_15.copy()).iloc[:300000,:]\n",
    "# Last 200K rows is our testing set.\n",
    "top15_test_X_data = find_one_encoder(training_15.copy(),testing_15.copy()).iloc[300000:,:]\n",
    " \n",
    "# Constructing the XGBClassifier \n",
    "xgb_model = XGBClassifier(random_state = 42)\n",
    "# Fitting the XGBClassifier on full dataset.\n",
    "xgb_model.fit(top15_train_X_data, trainY_response)"
   ]
  },
  {
   "cell_type": "code",
   "execution_count": 15,
   "id": "extra-microwave",
   "metadata": {},
   "outputs": [],
   "source": [
    "# Predicting values using the test X matrix\n",
    "y_predicted = xgb_model.predict_proba(top15_test_X_data)[:,1]\n",
    "# Calling function to write the csv file\n",
    "submit_file['target'] = y_predicted\n",
    "submit_file.to_csv('top15-xgboost.csv')"
   ]
  },
  {
   "cell_type": "markdown",
   "id": "numeric-involvement",
   "metadata": {},
   "source": [
    "**Accuracy Score from Kaggle = 86.683%**"
   ]
  },
  {
   "cell_type": "markdown",
   "id": "welsh-antigua",
   "metadata": {},
   "source": [
    "### For top 20 Covariates"
   ]
  },
  {
   "cell_type": "code",
   "execution_count": 16,
   "id": "english-insulation",
   "metadata": {},
   "outputs": [
    {
     "name": "stdout",
     "output_type": "stream",
     "text": [
      "[21:20:19] WARNING: /Users/travis/build/dmlc/xgboost/src/learner.cc:1095: Starting in XGBoost 1.3.0, the default evaluation metric used with the objective 'binary:logistic' was changed from 'error' to 'logloss'. Explicitly set eval_metric if you'd like to restore the old behavior.\n",
      "CPU times: user 20min 6s, sys: 4.8 s, total: 20min 10s\n",
      "Wall time: 5min 25s\n"
     ]
    },
    {
     "data": {
      "text/plain": [
       "XGBClassifier(base_score=0.5, booster='gbtree', colsample_bylevel=1,\n",
       "              colsample_bynode=1, colsample_bytree=1, gamma=0, gpu_id=-1,\n",
       "              importance_type='gain', interaction_constraints='',\n",
       "              learning_rate=0.300000012, max_delta_step=0, max_depth=6,\n",
       "              min_child_weight=1, missing=nan, monotone_constraints='()',\n",
       "              n_estimators=100, n_jobs=4, num_parallel_tree=1, random_state=42,\n",
       "              reg_alpha=0, reg_lambda=1, scale_pos_weight=1, subsample=1,\n",
       "              tree_method='exact', validate_parameters=1, verbosity=None)"
      ]
     },
     "execution_count": 16,
     "metadata": {},
     "output_type": "execute_result"
    }
   ],
   "source": [
    "%%time\n",
    "# First 300K rows is our training set.\n",
    "top20_train_X_data = find_one_encoder(training_20.copy(),testing_20.copy()).iloc[:300000,:]\n",
    "# Last 200K rows is our testing set.\n",
    "top20_test_X_data = find_one_encoder(training_20.copy(),testing_20.copy()).iloc[300000:,:]\n",
    " \n",
    "# Constructing the XGBClassifier \n",
    "xgb_model = XGBClassifier(random_state = 42)\n",
    "# Fitting the XGBClassifier on full dataset.\n",
    "xgb_model.fit(top20_train_X_data, trainY_response)"
   ]
  },
  {
   "cell_type": "code",
   "execution_count": 17,
   "id": "alternate-baltimore",
   "metadata": {},
   "outputs": [],
   "source": [
    "# Predicting values using the test X matrix\n",
    "y_predicted = xgb_model.predict_proba(top20_test_X_data)[:,1]\n",
    "# Calling function to write the csv file\n",
    "submit_file['target'] = y_predicted\n",
    "submit_file.to_csv('top20-xgboost.csv')"
   ]
  },
  {
   "cell_type": "markdown",
   "id": "wound-nylon",
   "metadata": {},
   "source": [
    "**Accuracy Score from Kaggle = 88.104%**"
   ]
  },
  {
   "cell_type": "markdown",
   "id": "proper-question",
   "metadata": {},
   "source": [
    "### For top 25 Covariates"
   ]
  },
  {
   "cell_type": "code",
   "execution_count": 18,
   "id": "stopped-mentor",
   "metadata": {},
   "outputs": [
    {
     "name": "stdout",
     "output_type": "stream",
     "text": [
      "[21:26:24] WARNING: /Users/travis/build/dmlc/xgboost/src/learner.cc:1095: Starting in XGBoost 1.3.0, the default evaluation metric used with the objective 'binary:logistic' was changed from 'error' to 'logloss'. Explicitly set eval_metric if you'd like to restore the old behavior.\n",
      "CPU times: user 22min 20s, sys: 8.12 s, total: 22min 28s\n",
      "Wall time: 6min 37s\n"
     ]
    },
    {
     "data": {
      "text/plain": [
       "XGBClassifier(base_score=0.5, booster='gbtree', colsample_bylevel=1,\n",
       "              colsample_bynode=1, colsample_bytree=1, gamma=0, gpu_id=-1,\n",
       "              importance_type='gain', interaction_constraints='',\n",
       "              learning_rate=0.300000012, max_delta_step=0, max_depth=6,\n",
       "              min_child_weight=1, missing=nan, monotone_constraints='()',\n",
       "              n_estimators=100, n_jobs=4, num_parallel_tree=1, random_state=42,\n",
       "              reg_alpha=0, reg_lambda=1, scale_pos_weight=1, subsample=1,\n",
       "              tree_method='exact', validate_parameters=1, verbosity=None)"
      ]
     },
     "execution_count": 18,
     "metadata": {},
     "output_type": "execute_result"
    }
   ],
   "source": [
    "%%time\n",
    "# First 300K rows is our training set.\n",
    "top25_train_X_data = find_one_encoder(training_25.copy(),testing_25.copy()).iloc[:300000,:]\n",
    "# Last 200K rows is our testing set.\n",
    "top25_test_X_data = find_one_encoder(training_25.copy(),testing_25.copy()).iloc[300000:,:]\n",
    " \n",
    "# Constructing the XGBClassifier \n",
    "xgb_model = XGBClassifier(random_state = 42)\n",
    "# Fitting the XGBClassifier on full dataset.\n",
    "xgb_model.fit(top25_train_X_data, trainY_response)"
   ]
  },
  {
   "cell_type": "code",
   "execution_count": 20,
   "id": "shared-skirt",
   "metadata": {},
   "outputs": [],
   "source": [
    "# Predicting values using the test X matrix\n",
    "y_predicted = xgb_model.predict_proba(top25_test_X_data)[:,1]\n",
    "# Calling function to write the csv file\n",
    "submit_file['target'] = y_predicted\n",
    "submit_file.to_csv('top25-xgboost.csv')"
   ]
  },
  {
   "cell_type": "markdown",
   "id": "macro-communist",
   "metadata": {},
   "source": [
    "**Accuracy Score from Kaggle = 88.357%**"
   ]
  },
  {
   "cell_type": "markdown",
   "id": "fixed-hobby",
   "metadata": {},
   "source": [
    "### For top 30 Covariates"
   ]
  },
  {
   "cell_type": "code",
   "execution_count": null,
   "id": "italic-detail",
   "metadata": {},
   "outputs": [],
   "source": [
    "%%time \n",
    "# Constructing the XGBClassifier \n",
    "xgb_model = XGBClassifier(random_state = 42)\n",
    "# Fitting the XGBClassifier on full dataset.\n",
    "xgb_model.fit(full_train_X_data, trainY_response)"
   ]
  },
  {
   "cell_type": "code",
   "execution_count": null,
   "id": "frozen-miami",
   "metadata": {},
   "outputs": [],
   "source": [
    "# Predicting values using the test X matrix\n",
    "y_predicted = xgb_model.predict_proba(full_test_X_data)[:,1]\n",
    "# Calling function to write the csv file\n",
    "submit_file['target'] = y_predicted\n",
    "submit_file.to_csv('top30-xgboost.csv')"
   ]
  },
  {
   "cell_type": "markdown",
   "id": "occupied-algebra",
   "metadata": {},
   "source": [
    "**Accuracy Score from Kaggle = 88.564%**"
   ]
  },
  {
   "cell_type": "code",
   "execution_count": 29,
   "id": "amber-guidance",
   "metadata": {},
   "outputs": [
    {
     "data": {
      "image/png": "[encoded data removed]",
      "text/plain": [
       "<Figure size 432x288 with 1 Axes>"
      ]
     },
     "metadata": {
      "needs_background": "light"
     },
     "output_type": "display_data"
    }
   ],
   "source": [
    "# Putting results in data frame to plot the trade-off.\n",
    "data = {'Number Of Covariates':  [5, 10, 15, 20, 25, 30],\n",
    "        'Accuracy Score': [84.741, 85.562, 86.683, 88.104, 88.357,88.564]\n",
    "        }\n",
    "\n",
    "trade_off = pd.DataFrame (data, columns = ['Number Of Covariates','Accuracy Score'])\n",
    "\n",
    "# Plotting data\n",
    "trade_off_plot = sns.lineplot(data=trade_off, x=\"Number Of Covariates\", y=\"Accuracy Score\")\n",
    "trade_off_plot.set_title(\"Number covariate-accuracy tradeoff\")\n",
    "# Saving plot\n",
    "figure_save = trade_off_plot.get_figure()\n",
    "figure_save.savefig(\"trade-off.png\")\n",
    "\n",
    "# Previewing plot\n",
    "plt.show()"
   ]
  }
 ],
 "metadata": {
  "kernelspec": {
   "display_name": "Python 3",
   "language": "python",
   "name": "python3"
  },
  "language_info": {
   "codemirror_mode": {
    "name": "ipython",
    "version": 3
   },
   "file_extension": ".py",
   "mimetype": "text/x-python",
   "name": "python",
   "nbconvert_exporter": "python",
   "pygments_lexer": "ipython3",
   "version": "3.9.2"
  }
 },
 "nbformat": 4,
 "nbformat_minor": 5
}

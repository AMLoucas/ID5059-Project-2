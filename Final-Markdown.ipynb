{
 "cells": [
  {
   "cell_type": "markdown",
   "id": "musical-botswana",
   "metadata": {},
   "source": [
    "# Classification Assesment Technical Report\n",
    "\n",
    "\n",
    "## To run the code:\n",
    "\n",
    " * Make sure all data being used is in the appropriate path(data/..)\n",
    " * Using the correct python version (>3) \n",
    " * Make sure all the libraries being used are installed on your machine.\n",
    "\n",
    "## Workflow implemented for this assesment :\n",
    "        \n",
    " 1. Import data in the enviroment\n",
    " 2. Exploration analysis and summary statistics\n",
    "  * Structure Checking\n",
    "  * Features correlated with respone ('target')\n",
    "  * Feature Visualisation Overview\n",
    " 3. Explore 3 candidate models\n",
    "  * Fit models on full dataset\n",
    "  * Reduce dimnesions of training\n",
    "  * Fit models on reduced dimensions\n",
    "  * Reduced Dimensions further explored\n",
    "  * Hyperparameter tuning\n",
    " 4. Compare final results\n",
    " 5. Number of covariate with Accuracy trade-off\n",
    "  * Fit XGBoost Classifier with different number of covariates\n",
    "  * Plot the Acuuracy with Number of covariates trade-off"
   ]
  },
  {
   "cell_type": "markdown",
   "id": "occupied-glossary",
   "metadata": {},
   "source": [
    "## [1] Importing the dataset into the python enviroment\n",
    "\n",
    "In this section, the appropriate libraries that will be used in the following process and the datasets used are imported. Please note that all the libraries being imported must be installed on the local machines for the following import statements to be executed successfully."
   ]
  },
  {
   "cell_type": "code",
   "execution_count": 1,
   "id": "deluxe-impossible",
   "metadata": {},
   "outputs": [],
   "source": [
    "# Important libraries for data frame manipulations.\n",
    "import pandas as pd\n",
    "import numpy as np\n",
    "import sys as sys\n",
    "\n",
    "# For fitting logistic regression.\n",
    "from sklearn.linear_model import LogisticRegression\n",
    "\n",
    "# For fitting a random forest.\n",
    "from sklearn.ensemble import RandomForestClassifier\n",
    "\n",
    "# For fitting a decision tree.\n",
    "from sklearn.tree import DecisionTreeClassifier\n",
    "\n",
    "# For fitting a XGBClassifier\n",
    "from xgboost import XGBClassifier\n",
    "\n",
    "# Importing accuracy_score to auto calculate our classifiers accuracy.\n",
    "from sklearn.metrics import accuracy_score\n",
    "\n",
    "# Finding static metrics.\n",
    "import statistics\n",
    "\n",
    "# To apply a gridsearch in hyperparameters for random forest.\n",
    "from sklearn.model_selection import GridSearchCV\n",
    "\n",
    "# To create graphs/plots to visualisation feature relations.\n",
    "import matplotlib.pyplot as plt\n",
    "import seaborn as sns\n"
   ]
  },
  {
   "cell_type": "code",
   "execution_count": 2,
   "id": "relative-commercial",
   "metadata": {},
   "outputs": [],
   "source": [
    "# Reading in the training and testing set already provided.\n",
    "training_data = pd.read_csv(\"data/train.csv\")\n",
    "testing_data = pd.read_csv(\"data/test.csv\")"
   ]
  },
  {
   "cell_type": "markdown",
   "id": "frequent-insurance",
   "metadata": {},
   "source": [
    "## [2] Exploration Analysis (applied on the data)\n",
    "\n",
    "### [2.1] Structure checking of training and test\n",
    "\n",
    "This step is fundamental for the construction of our candidate (models) classifiers. It is also important to help confirm that the two datasets we are working on have the same strucuture (covariates). However, this step is undertaken with extreme caution, as the test data must not be viewed."
   ]
  },
  {
   "cell_type": "code",
   "execution_count": 3,
   "id": "micro-violence",
   "metadata": {},
   "outputs": [
    {
     "name": "stdout",
     "output_type": "stream",
     "text": [
      "<class 'pandas.core.frame.DataFrame'>\n",
      "RangeIndex: 300000 entries, 0 to 299999\n",
      "Data columns (total 32 columns):\n",
      " #   Column  Non-Null Count   Dtype  \n",
      "---  ------  --------------   -----  \n",
      " 0   id      300000 non-null  int64  \n",
      " 1   cat0    300000 non-null  object \n",
      " 2   cat1    300000 non-null  object \n",
      " 3   cat2    300000 non-null  object \n",
      " 4   cat3    300000 non-null  object \n",
      " 5   cat4    300000 non-null  object \n",
      " 6   cat5    300000 non-null  object \n",
      " 7   cat6    300000 non-null  object \n",
      " 8   cat7    300000 non-null  object \n",
      " 9   cat8    300000 non-null  object \n",
      " 10  cat9    300000 non-null  object \n",
      " 11  cat10   300000 non-null  object \n",
      " 12  cat11   300000 non-null  object \n",
      " 13  cat12   300000 non-null  object \n",
      " 14  cat13   300000 non-null  object \n",
      " 15  cat14   300000 non-null  object \n",
      " 16  cat15   300000 non-null  object \n",
      " 17  cat16   300000 non-null  object \n",
      " 18  cat17   300000 non-null  object \n",
      " 19  cat18   300000 non-null  object \n",
      " 20  cont0   300000 non-null  float64\n",
      " 21  cont1   300000 non-null  float64\n",
      " 22  cont2   300000 non-null  float64\n",
      " 23  cont3   300000 non-null  float64\n",
      " 24  cont4   300000 non-null  float64\n",
      " 25  cont5   300000 non-null  float64\n",
      " 26  cont6   300000 non-null  float64\n",
      " 27  cont7   300000 non-null  float64\n",
      " 28  cont8   300000 non-null  float64\n",
      " 29  cont9   300000 non-null  float64\n",
      " 30  cont10  300000 non-null  float64\n",
      " 31  target  300000 non-null  int64  \n",
      "dtypes: float64(11), int64(2), object(19)\n",
      "memory usage: 73.2+ MB\n"
     ]
    }
   ],
   "source": [
    "# Having info analysis on the training dataset.\n",
    "training_data.info()"
   ]
  },
  {
   "cell_type": "code",
   "execution_count": 4,
   "id": "coastal-salmon",
   "metadata": {},
   "outputs": [
    {
     "name": "stdout",
     "output_type": "stream",
     "text": [
      "<class 'pandas.core.frame.DataFrame'>\n",
      "RangeIndex: 200000 entries, 0 to 199999\n",
      "Data columns (total 31 columns):\n",
      " #   Column  Non-Null Count   Dtype  \n",
      "---  ------  --------------   -----  \n",
      " 0   id      200000 non-null  int64  \n",
      " 1   cat0    200000 non-null  object \n",
      " 2   cat1    200000 non-null  object \n",
      " 3   cat2    200000 non-null  object \n",
      " 4   cat3    200000 non-null  object \n",
      " 5   cat4    200000 non-null  object \n",
      " 6   cat5    200000 non-null  object \n",
      " 7   cat6    200000 non-null  object \n",
      " 8   cat7    200000 non-null  object \n",
      " 9   cat8    200000 non-null  object \n",
      " 10  cat9    200000 non-null  object \n",
      " 11  cat10   200000 non-null  object \n",
      " 12  cat11   200000 non-null  object \n",
      " 13  cat12   200000 non-null  object \n",
      " 14  cat13   200000 non-null  object \n",
      " 15  cat14   200000 non-null  object \n",
      " 16  cat15   200000 non-null  object \n",
      " 17  cat16   200000 non-null  object \n",
      " 18  cat17   200000 non-null  object \n",
      " 19  cat18   200000 non-null  object \n",
      " 20  cont0   200000 non-null  float64\n",
      " 21  cont1   200000 non-null  float64\n",
      " 22  cont2   200000 non-null  float64\n",
      " 23  cont3   200000 non-null  float64\n",
      " 24  cont4   200000 non-null  float64\n",
      " 25  cont5   200000 non-null  float64\n",
      " 26  cont6   200000 non-null  float64\n",
      " 27  cont7   200000 non-null  float64\n",
      " 28  cont8   200000 non-null  float64\n",
      " 29  cont9   200000 non-null  float64\n",
      " 30  cont10  200000 non-null  float64\n",
      "dtypes: float64(11), int64(1), object(19)\n",
      "memory usage: 47.3+ MB\n"
     ]
    }
   ],
   "source": [
    "# Having info analysis on the testing dataset\n",
    "testing_data.info()"
   ]
  },
  {
   "cell_type": "markdown",
   "id": "utility-equation",
   "metadata": {},
   "source": [
    "From the results displayed in the above cells, we can confirm that the two datasets do not hold any null values and they are of the same design and structure.\n",
    "\n",
    "<br>\n",
    "\n",
    "Following are the insights gathered from this initial analysis:\n",
    " * Both datasets contain 19 factor type covariates\n",
    " * Both datasets contain 11 float type covariates\n",
    " * The training dataset has 1 extra column of type int which is the response variable of our training dataset\n",
    " * The training set consists of 300K rows\n",
    " * The testing set consists of 200K rows\n",
    " \n"
   ]
  },
  {
   "cell_type": "markdown",
   "id": "exceptional-california",
   "metadata": {},
   "source": [
    "Our next step is to check the different levels for each factor covariate. The reason behind this action is that in Python the testing and training set must have the exact number of factor levels for the identical covariate. When we apply 1-hot-encoder, each level will act as a unique covariate. With this being said if one factor covariate has different number of levels between the two sets, the design structure will not be correct.\n",
    "\n",
    "**1-Hot-Encoder** is a method used in Python to overcome the different levels of the categorical (string) columns of the data. Given that Python models only understand numerical values, we need to convert the string data to numerical without implementing a mathematical meaning to them. This technique creates a new column for **each** different level and fills the cells with **binary values** (1 = true, 0 = false). "
   ]
  },
  {
   "cell_type": "code",
   "execution_count": 5,
   "id": "returning-purpose",
   "metadata": {},
   "outputs": [
    {
     "data": {
      "text/html": [
       "<div>\n",
       "<style scoped>\n",
       "    .dataframe tbody tr th:only-of-type {\n",
       "        vertical-align: middle;\n",
       "    }\n",
       "\n",
       "    .dataframe tbody tr th {\n",
       "        vertical-align: top;\n",
       "    }\n",
       "\n",
       "    .dataframe thead th {\n",
       "        text-align: right;\n",
       "    }\n",
       "</style>\n",
       "<table border=\"1\" class=\"dataframe\">\n",
       "  <thead>\n",
       "    <tr style=\"text-align: right;\">\n",
       "      <th></th>\n",
       "      <th>cat0</th>\n",
       "      <th>cat1</th>\n",
       "      <th>cat2</th>\n",
       "      <th>cat3</th>\n",
       "      <th>cat4</th>\n",
       "      <th>cat5</th>\n",
       "      <th>cat6</th>\n",
       "      <th>cat7</th>\n",
       "      <th>cat8</th>\n",
       "      <th>cat9</th>\n",
       "      <th>cat10</th>\n",
       "      <th>cat11</th>\n",
       "      <th>cat12</th>\n",
       "      <th>cat13</th>\n",
       "      <th>cat14</th>\n",
       "      <th>cat15</th>\n",
       "      <th>cat16</th>\n",
       "      <th>cat17</th>\n",
       "      <th>cat18</th>\n",
       "    </tr>\n",
       "  </thead>\n",
       "  <tbody>\n",
       "    <tr>\n",
       "      <th>count</th>\n",
       "      <td>300000</td>\n",
       "      <td>300000</td>\n",
       "      <td>300000</td>\n",
       "      <td>300000</td>\n",
       "      <td>300000</td>\n",
       "      <td>300000</td>\n",
       "      <td>300000</td>\n",
       "      <td>300000</td>\n",
       "      <td>300000</td>\n",
       "      <td>300000</td>\n",
       "      <td>300000</td>\n",
       "      <td>300000</td>\n",
       "      <td>300000</td>\n",
       "      <td>300000</td>\n",
       "      <td>300000</td>\n",
       "      <td>300000</td>\n",
       "      <td>300000</td>\n",
       "      <td>300000</td>\n",
       "      <td>300000</td>\n",
       "    </tr>\n",
       "    <tr>\n",
       "      <th>unique</th>\n",
       "      <td>2</td>\n",
       "      <td>15</td>\n",
       "      <td>19</td>\n",
       "      <td>13</td>\n",
       "      <td>20</td>\n",
       "      <td>84</td>\n",
       "      <td>16</td>\n",
       "      <td>51</td>\n",
       "      <td>61</td>\n",
       "      <td>19</td>\n",
       "      <td>299</td>\n",
       "      <td>2</td>\n",
       "      <td>2</td>\n",
       "      <td>2</td>\n",
       "      <td>2</td>\n",
       "      <td>4</td>\n",
       "      <td>4</td>\n",
       "      <td>4</td>\n",
       "      <td>4</td>\n",
       "    </tr>\n",
       "    <tr>\n",
       "      <th>top</th>\n",
       "      <td>A</td>\n",
       "      <td>I</td>\n",
       "      <td>A</td>\n",
       "      <td>A</td>\n",
       "      <td>E</td>\n",
       "      <td>BI</td>\n",
       "      <td>A</td>\n",
       "      <td>AH</td>\n",
       "      <td>BM</td>\n",
       "      <td>A</td>\n",
       "      <td>DJ</td>\n",
       "      <td>A</td>\n",
       "      <td>A</td>\n",
       "      <td>A</td>\n",
       "      <td>A</td>\n",
       "      <td>B</td>\n",
       "      <td>D</td>\n",
       "      <td>D</td>\n",
       "      <td>B</td>\n",
       "    </tr>\n",
       "    <tr>\n",
       "      <th>freq</th>\n",
       "      <td>223525</td>\n",
       "      <td>90809</td>\n",
       "      <td>168694</td>\n",
       "      <td>187251</td>\n",
       "      <td>129385</td>\n",
       "      <td>238563</td>\n",
       "      <td>187896</td>\n",
       "      <td>45818</td>\n",
       "      <td>42380</td>\n",
       "      <td>201945</td>\n",
       "      <td>31584</td>\n",
       "      <td>258932</td>\n",
       "      <td>257139</td>\n",
       "      <td>292712</td>\n",
       "      <td>160166</td>\n",
       "      <td>203574</td>\n",
       "      <td>206906</td>\n",
       "      <td>247125</td>\n",
       "      <td>255482</td>\n",
       "    </tr>\n",
       "  </tbody>\n",
       "</table>\n",
       "</div>"
      ],
      "text/plain": [
       "          cat0    cat1    cat2    cat3    cat4    cat5    cat6    cat7  \\\n",
       "count   300000  300000  300000  300000  300000  300000  300000  300000   \n",
       "unique       2      15      19      13      20      84      16      51   \n",
       "top          A       I       A       A       E      BI       A      AH   \n",
       "freq    223525   90809  168694  187251  129385  238563  187896   45818   \n",
       "\n",
       "          cat8    cat9   cat10   cat11   cat12   cat13   cat14   cat15  \\\n",
       "count   300000  300000  300000  300000  300000  300000  300000  300000   \n",
       "unique      61      19     299       2       2       2       2       4   \n",
       "top         BM       A      DJ       A       A       A       A       B   \n",
       "freq     42380  201945   31584  258932  257139  292712  160166  203574   \n",
       "\n",
       "         cat16   cat17   cat18  \n",
       "count   300000  300000  300000  \n",
       "unique       4       4       4  \n",
       "top          D       D       B  \n",
       "freq    206906  247125  255482  "
      ]
     },
     "execution_count": 5,
     "metadata": {},
     "output_type": "execute_result"
    }
   ],
   "source": [
    "# Using describe function to check the levels of the categories in training dataset.\n",
    "training_data.describe(include=[object])\n",
    "  "
   ]
  },
  {
   "cell_type": "code",
   "execution_count": 6,
   "id": "standing-shape",
   "metadata": {},
   "outputs": [
    {
     "data": {
      "text/html": [
       "<div>\n",
       "<style scoped>\n",
       "    .dataframe tbody tr th:only-of-type {\n",
       "        vertical-align: middle;\n",
       "    }\n",
       "\n",
       "    .dataframe tbody tr th {\n",
       "        vertical-align: top;\n",
       "    }\n",
       "\n",
       "    .dataframe thead th {\n",
       "        text-align: right;\n",
       "    }\n",
       "</style>\n",
       "<table border=\"1\" class=\"dataframe\">\n",
       "  <thead>\n",
       "    <tr style=\"text-align: right;\">\n",
       "      <th></th>\n",
       "      <th>cat0</th>\n",
       "      <th>cat1</th>\n",
       "      <th>cat2</th>\n",
       "      <th>cat3</th>\n",
       "      <th>cat4</th>\n",
       "      <th>cat5</th>\n",
       "      <th>cat6</th>\n",
       "      <th>cat7</th>\n",
       "      <th>cat8</th>\n",
       "      <th>cat9</th>\n",
       "      <th>cat10</th>\n",
       "      <th>cat11</th>\n",
       "      <th>cat12</th>\n",
       "      <th>cat13</th>\n",
       "      <th>cat14</th>\n",
       "      <th>cat15</th>\n",
       "      <th>cat16</th>\n",
       "      <th>cat17</th>\n",
       "      <th>cat18</th>\n",
       "    </tr>\n",
       "  </thead>\n",
       "  <tbody>\n",
       "    <tr>\n",
       "      <th>count</th>\n",
       "      <td>200000</td>\n",
       "      <td>200000</td>\n",
       "      <td>200000</td>\n",
       "      <td>200000</td>\n",
       "      <td>200000</td>\n",
       "      <td>200000</td>\n",
       "      <td>200000</td>\n",
       "      <td>200000</td>\n",
       "      <td>200000</td>\n",
       "      <td>200000</td>\n",
       "      <td>200000</td>\n",
       "      <td>200000</td>\n",
       "      <td>200000</td>\n",
       "      <td>200000</td>\n",
       "      <td>200000</td>\n",
       "      <td>200000</td>\n",
       "      <td>200000</td>\n",
       "      <td>200000</td>\n",
       "      <td>200000</td>\n",
       "    </tr>\n",
       "    <tr>\n",
       "      <th>unique</th>\n",
       "      <td>2</td>\n",
       "      <td>15</td>\n",
       "      <td>19</td>\n",
       "      <td>13</td>\n",
       "      <td>20</td>\n",
       "      <td>84</td>\n",
       "      <td>16</td>\n",
       "      <td>51</td>\n",
       "      <td>61</td>\n",
       "      <td>19</td>\n",
       "      <td>295</td>\n",
       "      <td>2</td>\n",
       "      <td>2</td>\n",
       "      <td>2</td>\n",
       "      <td>2</td>\n",
       "      <td>4</td>\n",
       "      <td>4</td>\n",
       "      <td>4</td>\n",
       "      <td>4</td>\n",
       "    </tr>\n",
       "    <tr>\n",
       "      <th>top</th>\n",
       "      <td>A</td>\n",
       "      <td>I</td>\n",
       "      <td>A</td>\n",
       "      <td>A</td>\n",
       "      <td>E</td>\n",
       "      <td>BI</td>\n",
       "      <td>A</td>\n",
       "      <td>AH</td>\n",
       "      <td>BM</td>\n",
       "      <td>A</td>\n",
       "      <td>DJ</td>\n",
       "      <td>A</td>\n",
       "      <td>A</td>\n",
       "      <td>A</td>\n",
       "      <td>A</td>\n",
       "      <td>B</td>\n",
       "      <td>D</td>\n",
       "      <td>D</td>\n",
       "      <td>B</td>\n",
       "    </tr>\n",
       "    <tr>\n",
       "      <th>freq</th>\n",
       "      <td>149023</td>\n",
       "      <td>60152</td>\n",
       "      <td>112465</td>\n",
       "      <td>124506</td>\n",
       "      <td>86073</td>\n",
       "      <td>158916</td>\n",
       "      <td>125098</td>\n",
       "      <td>30593</td>\n",
       "      <td>28368</td>\n",
       "      <td>134223</td>\n",
       "      <td>21166</td>\n",
       "      <td>172586</td>\n",
       "      <td>171098</td>\n",
       "      <td>195016</td>\n",
       "      <td>106607</td>\n",
       "      <td>135542</td>\n",
       "      <td>137908</td>\n",
       "      <td>165066</td>\n",
       "      <td>170068</td>\n",
       "    </tr>\n",
       "  </tbody>\n",
       "</table>\n",
       "</div>"
      ],
      "text/plain": [
       "          cat0    cat1    cat2    cat3    cat4    cat5    cat6    cat7  \\\n",
       "count   200000  200000  200000  200000  200000  200000  200000  200000   \n",
       "unique       2      15      19      13      20      84      16      51   \n",
       "top          A       I       A       A       E      BI       A      AH   \n",
       "freq    149023   60152  112465  124506   86073  158916  125098   30593   \n",
       "\n",
       "          cat8    cat9   cat10   cat11   cat12   cat13   cat14   cat15  \\\n",
       "count   200000  200000  200000  200000  200000  200000  200000  200000   \n",
       "unique      61      19     295       2       2       2       2       4   \n",
       "top         BM       A      DJ       A       A       A       A       B   \n",
       "freq     28368  134223   21166  172586  171098  195016  106607  135542   \n",
       "\n",
       "         cat16   cat17   cat18  \n",
       "count   200000  200000  200000  \n",
       "unique       4       4       4  \n",
       "top          D       D       B  \n",
       "freq    137908  165066  170068  "
      ]
     },
     "execution_count": 6,
     "metadata": {},
     "output_type": "execute_result"
    }
   ],
   "source": [
    "# Using describe function to check the levels of categories in testing dataset.\n",
    "testing_data.describe(include=[object])"
   ]
  },
  {
   "cell_type": "markdown",
   "id": "monthly-condition",
   "metadata": {},
   "source": [
    "From the tabular results displayed above, we can comprehend that column 'cat10' in the testing dataset has 4 extra unique values. For this reason we will need to 1-hot-encode the categorical data for both datasets together and split them again to the beginning states.\n",
    "\n",
    "Before we merge the two datasets and ecnode them, we need to isolate the response in the training dataset alone. Additionally we need to remove the index column from the data, because it should not be used in the training or predicting."
   ]
  },
  {
   "cell_type": "code",
   "execution_count": 7,
   "id": "liberal-trauma",
   "metadata": {},
   "outputs": [],
   "source": [
    "# Getting a copy of data frames to 1-hot-encode\n",
    "\n",
    "## TRAINING DATA\n",
    "train_encoder = training_data.copy()\n",
    "# Need to drop response varibale from training and hold it seperate.\n",
    "trainY_response = training_data['target'].copy()\n",
    "train_encoder.drop('target', axis = 1, inplace = True)\n",
    "# We also need to remove the index variables because they should not be considered in the model training\n",
    "train_encoder.drop('id', axis = 1, inplace = True)\n",
    "\n",
    "## TESTING DATA\n",
    "test_encoder = testing_data.copy()\n",
    "test_encoder.drop('id', axis = 1, inplace = True)\n",
    "\n",
    "## MERGED DATA\n",
    "# This will concatenate the test data rows below the train data\n",
    "# The first 300K rows will be the train.\n",
    "# The last 200K rows will be the testing.\n",
    "merged_encoder = pd.concat([train_encoder, test_encoder])"
   ]
  },
  {
   "cell_type": "code",
   "execution_count": 8,
   "id": "empty-boutique",
   "metadata": {},
   "outputs": [
    {
     "name": "stdout",
     "output_type": "stream",
     "text": [
      "CPU times: user 2 µs, sys: 1 µs, total: 3 µs\n",
      "Wall time: 4.77 µs\n"
     ]
    }
   ],
   "source": [
    "# Using get_dummies() which is the same thing as 1-hot-encoder but ignores numerical values.\n",
    "%time\n",
    "merged_encoder = pd.get_dummies(merged_encoder)"
   ]
  },
  {
   "cell_type": "code",
   "execution_count": 9,
   "id": "approximate-peace",
   "metadata": {},
   "outputs": [
    {
     "name": "stdout",
     "output_type": "stream",
     "text": [
      "<class 'pandas.core.frame.DataFrame'>\n",
      "Int64Index: 500000 entries, 0 to 199999\n",
      "Columns: 642 entries, cont0 to cat18_D\n",
      "dtypes: float64(11), uint8(631)\n",
      "memory usage: 346.7 MB\n"
     ]
    }
   ],
   "source": [
    "# Checking if the one hot encoder worked.\n",
    "merged_encoder.info()"
   ]
  },
  {
   "cell_type": "markdown",
   "id": "magnetic-greek",
   "metadata": {},
   "source": [
    "From the above result we can see that our data has become a large sparse matrix of values (from 30 columns to 642 columns). This is one of the consequences of using the 1-Hot-Encoder technique. \n",
    "\n",
    "The next step is to split the combined dataset back to training and testing."
   ]
  },
  {
   "cell_type": "code",
   "execution_count": 10,
   "id": "distinguished-trading",
   "metadata": {},
   "outputs": [
    {
     "name": "stdout",
     "output_type": "stream",
     "text": [
      "<class 'pandas.core.frame.DataFrame'>\n",
      "Int64Index: 300000 entries, 0 to 299999\n",
      "Columns: 642 entries, cont0 to cat18_D\n",
      "dtypes: float64(11), uint8(631)\n",
      "memory usage: 208.0 MB\n"
     ]
    }
   ],
   "source": [
    "# First 300K rows is our training set.\n",
    "trainingX_data = merged_encoder.iloc[:300000,:].copy()\n",
    "trainingX_data.info()"
   ]
  },
  {
   "cell_type": "code",
   "execution_count": 11,
   "id": "correct-protocol",
   "metadata": {},
   "outputs": [
    {
     "name": "stdout",
     "output_type": "stream",
     "text": [
      "<class 'pandas.core.frame.DataFrame'>\n",
      "Int64Index: 200000 entries, 0 to 199999\n",
      "Columns: 642 entries, cont0 to cat18_D\n",
      "dtypes: float64(11), uint8(631)\n",
      "memory usage: 138.7 MB\n"
     ]
    }
   ],
   "source": [
    "# Last 200K rows is our testing set.\n",
    "testingX_data = merged_encoder.iloc[300000:,:].copy()\n",
    "testingX_data.info()"
   ]
  },
  {
   "cell_type": "markdown",
   "id": "forced-affiliation",
   "metadata": {},
   "source": [
    "### [2.2] Correlation relation with response 'target'\n",
    "This section explores possible correlation relations between the covariates and the response variable. This will help us identify the covariates that influence the response value the most. The covariates that influence the response values the most are also assumed to be the most important covariates to be consider while training our models."
   ]
  },
  {
   "cell_type": "code",
   "execution_count": 12,
   "id": "infinite-inventory",
   "metadata": {},
   "outputs": [],
   "source": [
    "# Merge the trainingX_data with trainY_data to see the correlations\n",
    "training_all = pd.concat([trainingX_data.copy(), trainY_response.copy()], axis=1)"
   ]
  },
  {
   "cell_type": "code",
   "execution_count": 13,
   "id": "pleasant-computer",
   "metadata": {},
   "outputs": [
    {
     "name": "stdout",
     "output_type": "stream",
     "text": [
      "CPU times: user 4min 7s, sys: 1.07 s, total: 4min 8s\n",
      "Wall time: 4min 15s\n"
     ]
    }
   ],
   "source": [
    "%%time\n",
    "# Computing correlation relations.\n",
    "training_corr_influnce = training_all.corr()"
   ]
  },
  {
   "cell_type": "code",
   "execution_count": 14,
   "id": "boring-artwork",
   "metadata": {},
   "outputs": [
    {
     "data": {
      "text/plain": [
       "target     1.000000\n",
       "cat16_B    0.522759\n",
       "cat15_D    0.467675\n",
       "cat14_B    0.302301\n",
       "cat18_D    0.299653\n",
       "cat11_B    0.285503\n",
       "cat0_A     0.268109\n",
       "cat18_C    0.260021\n",
       "cat17_C    0.237540\n",
       "cont5      0.215184\n",
       "cat2_Q     0.213173\n",
       "cat13_B    0.205714\n",
       "cat8_K     0.194427\n",
       "cat1_L     0.190920\n",
       "cont6      0.189832\n",
       "cont8      0.183726\n",
       "cont1      0.164655\n",
       "cat7_AF    0.160744\n",
       "cat9_A     0.156035\n",
       "cat4_H     0.153590\n",
       "Name: target, dtype: float64"
      ]
     },
     "execution_count": 14,
     "metadata": {},
     "output_type": "execute_result"
    }
   ],
   "source": [
    "# Printing the correlation with response in sorted way (20 most positive influential features).\n",
    "training_corr_influnce[\"target\"].sort_values(ascending=False)[:20]"
   ]
  },
  {
   "cell_type": "code",
   "execution_count": 15,
   "id": "mental-repair",
   "metadata": {},
   "outputs": [
    {
     "data": {
      "text/plain": [
       "cat16_D    -0.505020\n",
       "cat15_B    -0.435327\n",
       "cat18_B    -0.409153\n",
       "cat14_A    -0.302301\n",
       "cat11_A    -0.285503\n",
       "cat0_B     -0.268109\n",
       "cat17_D    -0.267343\n",
       "cat13_A    -0.205714\n",
       "cat1_I     -0.198141\n",
       "cat4_E     -0.165314\n",
       "cat6_A     -0.149729\n",
       "cont3      -0.148316\n",
       "cat2_A     -0.141533\n",
       "cat9_E     -0.126067\n",
       "cat10_CR   -0.100503\n",
       "cat1_A     -0.095467\n",
       "cat2_C     -0.093678\n",
       "cat12_B    -0.083143\n",
       "cont4      -0.075585\n",
       "cat7_E     -0.075031\n",
       "Name: target, dtype: float64"
      ]
     },
     "execution_count": 15,
     "metadata": {},
     "output_type": "execute_result"
    }
   ],
   "source": [
    "# Printing the correlation with response in sorted way (20 most negative influential).\n",
    "training_corr_influnce[\"target\"].sort_values(ascending=True)[:20]"
   ]
  },
  {
   "cell_type": "markdown",
   "id": "known-magnet",
   "metadata": {},
   "source": [
    "From the results above we can see some values are close to 0, which indicates that they do not influence the response variable. Following this, further investigation on feature importance is conducted.\n",
    "\n",
    "### [2.3] Feature Visualisation Overview\n",
    "\n",
    "In this section, the visualisation aspects of our covariates is explored. This process will help us identify the key features that help in predicting the response target. We implement a few graphs concerning our top correlated features from the above analysis. For extra insights and visualisation overview you can visit [Full Visualisation Overview](http://localhost:8888/notebooks/EDA.ipynb)\n",
    "\n",
    "We begin by visualizing the proportion that dictates the response target variable, to examine which values are expected to be predicted the most."
   ]
  },
  {
   "cell_type": "code",
   "execution_count": 16,
   "id": "adult-breakfast",
   "metadata": {},
   "outputs": [
    {
     "name": "stdout",
     "output_type": "stream",
     "text": [
      "The subset of the data when target is one(TRUE) is (79461, 32) \n",
      "The subset of the data when target is zero(FALSE) is (220539, 32) \n"
     ]
    },
    {
     "data": {
      "text/plain": [
       "<AxesSubplot:xlabel='target', ylabel='count'>"
      ]
     },
     "execution_count": 16,
     "metadata": {},
     "output_type": "execute_result"
    },
    {
     "data": {
      "image/png": "[encoded data removed]",
      "text/plain": [
       "<Figure size 432x288 with 1 Axes>"
      ]
     },
     "metadata": {
      "needs_background": "light"
     },
     "output_type": "display_data"
    }
   ],
   "source": [
    "data_target_one = training_data[training_data['target'] == 1]\n",
    "print(\"The subset of the data when target is one(TRUE) is {} \".format(data_target_one.shape))\n",
    "data_target_zero = training_data[training_data['target'] == 0]\n",
    "print(\"The subset of the data when target is zero(FALSE) is {} \".format(data_target_zero.shape))\n",
    "\n",
    "sns.countplot(data =training_data, x='target')"
   ]
  },
  {
   "cell_type": "markdown",
   "id": "cooperative-plumbing",
   "metadata": {},
   "source": [
    "From the graph displayed above, it is clear that most of the data is constructed with 0-value responses. There are 220K rows whose response is 0, while the 1-value responses are 80K rows. More than 2/3 of the data is being dictated by 0-value response. \n",
    "\n",
    "By plotting the most influential in terms of correlation features, we can check their relations.The following features will be examined:\n",
    " \n",
    " * cat16\n",
    " * cat15\n",
    " * cat18\n",
    " * cat14\n",
    " * cont5\n",
    " \n",
    "For more visualisations, please visit the attached document provided [EDA](....)"
   ]
  },
  {
   "cell_type": "markdown",
   "id": "appointed-tension",
   "metadata": {},
   "source": [
    "* **cat16**"
   ]
  },
  {
   "cell_type": "code",
   "execution_count": 159,
   "id": "floppy-alias",
   "metadata": {},
   "outputs": [
    {
     "data": {
      "image/png": "[encoded data removed]",
      "text/plain": [
       "<Figure size 432x288 with 1 Axes>"
      ]
     },
     "metadata": {
      "needs_background": "light"
     },
     "output_type": "display_data"
    },
    {
     "data": {
      "image/png": "[encoded data removed]",
      "text/plain": [
       "<Figure size 432x288 with 1 Axes>"
      ]
     },
     "metadata": {
      "needs_background": "light"
     },
     "output_type": "display_data"
    }
   ],
   "source": [
    "# cat16 plots\n",
    "sns.countplot(data =data_target_one, x='cat16').set_title('1-response data')\n",
    "plt.show()\n",
    "sns.countplot(data =data_target_zero, x='cat16').set_title('0-response data')\n",
    "plt.show()\n"
   ]
  },
  {
   "cell_type": "markdown",
   "id": "standing-banking",
   "metadata": {},
   "source": [
    "**cat16 =>** From the two plots displayed above, we observe that level B of cat16 is highly correlated with the repsonse value 1. Since we do not have many response values where 'target=1', cat16 would be beneficial in trying to capture this target."
   ]
  },
  {
   "cell_type": "markdown",
   "id": "employed-spelling",
   "metadata": {},
   "source": [
    "* **cat15**"
   ]
  },
  {
   "cell_type": "code",
   "execution_count": 160,
   "id": "developing-optics",
   "metadata": {},
   "outputs": [
    {
     "data": {
      "image/png": "[encoded data removed]",
      "text/plain": [
       "<Figure size 432x288 with 1 Axes>"
      ]
     },
     "metadata": {
      "needs_background": "light"
     },
     "output_type": "display_data"
    },
    {
     "data": {
      "image/png": "[encoded data removed]",
      "text/plain": [
       "<Figure size 432x288 with 1 Axes>"
      ]
     },
     "metadata": {
      "needs_background": "light"
     },
     "output_type": "display_data"
    }
   ],
   "source": [
    "# cat15 plots\n",
    "sns.countplot(data =data_target_one, x='cat15').set_title('1-response data')\n",
    "plt.show()\n",
    "sns.countplot(data =data_target_zero, x='cat15').set_title('0-response data')\n",
    "plt.show()"
   ]
  },
  {
   "cell_type": "markdown",
   "id": "olympic-haiti",
   "metadata": {},
   "source": [
    "**cat15 =>** From the above data we see that level B is the highest level combined for both responses. However tha majority of its occurence predict the 0-response. The second highest level is 'D' but it seems to predict both values equally."
   ]
  },
  {
   "cell_type": "markdown",
   "id": "spanish-variety",
   "metadata": {},
   "source": [
    "* **cat18**"
   ]
  },
  {
   "cell_type": "code",
   "execution_count": 161,
   "id": "wrapped-division",
   "metadata": {},
   "outputs": [
    {
     "data": {
      "image/png": "[encoded data removed]",
      "text/plain": [
       "<Figure size 432x288 with 1 Axes>"
      ]
     },
     "metadata": {
      "needs_background": "light"
     },
     "output_type": "display_data"
    },
    {
     "data": {
      "image/png": "[encoded data removed]",
      "text/plain": [
       "<Figure size 432x288 with 1 Axes>"
      ]
     },
     "metadata": {
      "needs_background": "light"
     },
     "output_type": "display_data"
    }
   ],
   "source": [
    "#cat18\n",
    "sns.countplot(data =data_target_one, x='cat18').set_title('1-response data')\n",
    "plt.show()\n",
    "sns.countplot(data =data_target_zero, x='cat18').set_title('0-response data')\n",
    "plt.show()"
   ]
  },
  {
   "cell_type": "markdown",
   "id": "elder-cooking",
   "metadata": {},
   "source": [
    "**cat18 =>** From the above two plots we can observe the same phenomenon as with the other features. Level 'B' dictates the occurence frequency, however it predicts response value 0 more than it predicts response value 1."
   ]
  },
  {
   "cell_type": "markdown",
   "id": "coupled-estonia",
   "metadata": {},
   "source": [
    "* **cat14**"
   ]
  },
  {
   "cell_type": "code",
   "execution_count": 162,
   "id": "strong-antarctica",
   "metadata": {
    "scrolled": true
   },
   "outputs": [
    {
     "data": {
      "image/png": "[encoded data removed]",
      "text/plain": [
       "<Figure size 432x288 with 1 Axes>"
      ]
     },
     "metadata": {
      "needs_background": "light"
     },
     "output_type": "display_data"
    },
    {
     "data": {
      "image/png": "[encoded data removed]",
      "text/plain": [
       "<Figure size 432x288 with 1 Axes>"
      ]
     },
     "metadata": {
      "needs_background": "light"
     },
     "output_type": "display_data"
    }
   ],
   "source": [
    "#cat14 \n",
    "sns.countplot(data =data_target_one, x='cat14').set_title('1-response data')\n",
    "plt.show()\n",
    "sns.countplot(data =data_target_zero, x='cat14').set_title('0-response data')\n",
    "plt.show()"
   ]
  },
  {
   "cell_type": "markdown",
   "id": "smaller-cement",
   "metadata": {},
   "source": [
    "**cat14 =>** From the above plots we can observe that we only have 2 levels for this feature. The differences between them are not significantly large as in other features. Both attributes mostly predict 0-response."
   ]
  },
  {
   "cell_type": "markdown",
   "id": "amended-trademark",
   "metadata": {},
   "source": [
    "* **cont5**"
   ]
  },
  {
   "cell_type": "code",
   "execution_count": 163,
   "id": "ceramic-turning",
   "metadata": {
    "scrolled": true
   },
   "outputs": [
    {
     "data": {
      "image/png": "[encoded data removed]",
      "text/plain": [
       "<Figure size 432x288 with 1 Axes>"
      ]
     },
     "metadata": {
      "needs_background": "light"
     },
     "output_type": "display_data"
    },
    {
     "data": {
      "image/png": "[encoded data removed]",
      "text/plain": [
       "<Figure size 432x288 with 1 Axes>"
      ]
     },
     "metadata": {
      "needs_background": "light"
     },
     "output_type": "display_data"
    }
   ],
   "source": [
    "sns.histplot(data=data_target_one, x=\"cont5\").set_title('1-response data')\n",
    "plt.show()\n",
    "sns.histplot(data=data_target_zero, x=\"cont5\").set_title('0-response data')\n",
    "plt.show()"
   ]
  },
  {
   "cell_type": "markdown",
   "id": "restricted-circumstances",
   "metadata": {},
   "source": [
    "**cont5 =>** From the two plots above, we can observe that the predictions are more or less the same (Note: axes have different scales). In both cases, it appears that the data is being distributed the same. However, most values lie in the response-1 value."
   ]
  },
  {
   "cell_type": "markdown",
   "id": "prospective-geology",
   "metadata": {},
   "source": [
    "**One-Hot-Encoding** and **Correlation analysis of the response** (as an indication of what features will be valuable in our training) has now been completed.\n",
    "\n",
    "A brief summary of the dataframes available at this point:   \n",
    " 1. Before One-Hot-Encoding the Datasets\n",
    "  * **training_data** = Full training dataset\n",
    "  * **testing_data** = Full testing dataset\n",
    " 2. After One-Hot-Encoding the Datasets\n",
    "  * **merged_encoder** = Both (training and testing) datasets merged and encoded\n",
    "  * **trainingX_data** = Training dataset explanatory variables (values used for training)\n",
    "  * **trainY_response** = Training dataset response variable (value used to train models under construction)\n",
    "  * **testingX_data** = Testing dataset explanatory variables (values used for predictions)\n",
    " 3. Other Datasets (created during analysis)\n",
    "  * **training_corr_influnce** = Holds correlation values between variables\n",
    "  * **training_all** = Holds the 1-Hot-Encoded explanatory variables with the response, to calculate correlations\n",
    " "
   ]
  },
  {
   "cell_type": "markdown",
   "id": "elect-insert",
   "metadata": {},
   "source": [
    "## [3] Explore candidate models\n",
    "\n",
    "To check the accuracy score of our candidate models we will be modifying the 'target' column with the predicted probabilities produced by our candiated models, as per the requirements. \n",
    "\n",
    "Note: The prediction results must be in probability format, because the evaluation metric is done by a ROC CURVE with a threshold. For this reason the function '.predict_prob()' is used to predict the response target."
   ]
  },
  {
   "cell_type": "code",
   "execution_count": 58,
   "id": "silver-membrane",
   "metadata": {},
   "outputs": [],
   "source": [
    "# Reading in the submittion structure csv, to modify and submit\n",
    "# informing index column to keep correct structure.\n",
    "submit_file = pd.read_csv(\"data/sample_submission.csv\", index_col='id')"
   ]
  },
  {
   "cell_type": "markdown",
   "id": "accurate-reason",
   "metadata": {},
   "source": [
    "### [3.1] Fit candidate models on the full dataset\n",
    "\n",
    "Based on our research, the following three models were chosen for this dataset.\n",
    "\n",
    " * **Random Forest**\n",
    " \n",
    "*Random forest is one of the three models that were handpicked to be used for this dataset. This model is a commonly used classification algorithm that can be used for both classification and regression tasks. It also works well with large data sets similar to the one we are using. As the name suggests, the random forest algorithm is a collection of decision trees. It has access to all the hyperparameters available for a decision tree model and bagging classifier, giving more control over the model creation. Given that the model merges multiple decision trees and works to produce the average of the result obtained, it generates stable and accurate results through cross validation.*\n",
    " \n",
    " \n",
    "In the following section, the Random Forest model is fitted using the full dataset consisting of 300K rows and 642 columns. The test dataset will be used to check the accuracy score of this model."
   ]
  },
  {
   "cell_type": "code",
   "execution_count": 51,
   "id": "leading-lucas",
   "metadata": {},
   "outputs": [
    {
     "name": "stdout",
     "output_type": "stream",
     "text": [
      "CPU times: user 3min 53s, sys: 12.4 s, total: 4min 5s\n",
      "Wall time: 4min 9s\n"
     ]
    },
    {
     "data": {
      "text/plain": [
       "RandomForestClassifier(oob_score=True, random_state=42)"
      ]
     },
     "execution_count": 51,
     "metadata": {},
     "output_type": "execute_result"
    }
   ],
   "source": [
    "%%time\n",
    "# Instantiate model with 100 decision trees \n",
    "# oob_score needs to be true to consider out of bag sampling.\n",
    "Random_forest_model = RandomForestClassifier(n_estimators = 100, random_state = 42, oob_score=True)\n",
    "Random_forest_model.fit(trainingX_data, trainY_response)"
   ]
  },
  {
   "cell_type": "code",
   "execution_count": 59,
   "id": "occasional-transfer",
   "metadata": {},
   "outputs": [],
   "source": [
    "# Predicting values using the test X matrix\n",
    "# we choose the 2nd column of results which is the prob predicted.\n",
    "y_predicted = Random_forest_model.predict_proba(testingX_data)[:,1]\n",
    "# Calling function to write the csv file\n",
    "submit_file['target'] = y_predicted\n",
    "submit_file.to_csv('full-forest.csv')"
   ]
  },
  {
   "cell_type": "markdown",
   "id": "nervous-amsterdam",
   "metadata": {},
   "source": [
    "<font color=\"blue\"> The random forest model has resulted in an accuracy score of **88.22%** on the test data.<font>"
   ]
  },
  {
   "cell_type": "markdown",
   "id": "outdoor-rider",
   "metadata": {},
   "source": [
    "This will now be compared with the out of bag error produced from the model fitting."
   ]
  },
  {
   "cell_type": "code",
   "execution_count": 60,
   "id": "statutory-turner",
   "metadata": {},
   "outputs": [
    {
     "name": "stdout",
     "output_type": "stream",
     "text": [
      "Accuracy score using the training data for prediction is  0.8458966666666666\n"
     ]
    }
   ],
   "source": [
    "# Calculating the accuracy for training with considering the OOB sample\n",
    "print(\"Accuracy score using the training data for prediction is \", \n",
    "      Random_forest_model.oob_score_)"
   ]
  },
  {
   "cell_type": "markdown",
   "id": "industrial-advertiser",
   "metadata": {},
   "source": [
    "<font color=\"blue\"> Results from the above cell states that the training set prediction has an accuracy score of **84.5%** which is **4% lower** than the test dataset accuracy score. <font>"
   ]
  },
  {
   "cell_type": "markdown",
   "id": "curious-attempt",
   "metadata": {},
   "source": [
    " * **Logistic Regression**\n",
    " \n",
    "*This model is often used in dealing with supervised classification by generating probabilities efficiently. Results of this model are easy to interpret. Moreover, it has the advantages of being less inclined to overfitting and limits multicollinearity while fitting the classifier. Unfortunately, it does not perform well when the feature space is large, notably across extremely large datasets, particularly if categorical variables are numerous. Additionally, the violation of underlying assumptions, especially linearity on the link scale and independence of observations, might be cause of concern.*\n",
    "\n",
    "In the following section, the Logistic Regression model is fitted using the full dataset consisting of 300K rows and 642 columns. The test dataset will be used to check the accuracy score of this model."
   ]
  },
  {
   "cell_type": "code",
   "execution_count": 61,
   "id": "rough-latex",
   "metadata": {},
   "outputs": [
    {
     "name": "stdout",
     "output_type": "stream",
     "text": [
      "CPU times: user 5min 5s, sys: 3.44 s, total: 5min 9s\n",
      "Wall time: 5min 18s\n"
     ]
    },
    {
     "data": {
      "text/plain": [
       "LogisticRegression(max_iter=1000, random_state=42, solver='saga')"
      ]
     },
     "execution_count": 61,
     "metadata": {},
     "output_type": "execute_result"
    }
   ],
   "source": [
    "%%time\n",
    "# Constructing a logistic regression.\n",
    "log_reg = LogisticRegression(solver=\"saga\", max_iter= 1000, random_state=42)\n",
    "# Fitting the logistic regression\n",
    "log_reg.fit(trainingX_data, trainY_response)"
   ]
  },
  {
   "cell_type": "code",
   "execution_count": 62,
   "id": "assisted-birthday",
   "metadata": {},
   "outputs": [],
   "source": [
    "# Predicting values using the test X matrix\n",
    "# we choose the 2nd column of results which is the prob predicted.\n",
    "y_predicted = log_reg.predict_proba(testingX_data)[:,1]\n",
    "# Calling function to write the csv file\n",
    "submit_file['target'] = y_predicted\n",
    "submit_file.to_csv('full-logistic.csv')"
   ]
  },
  {
   "cell_type": "markdown",
   "id": "colored-demand",
   "metadata": {},
   "source": [
    "<font color=\"blue\"> The logistic regression model has resulted in an accuracy score of **87.736%** on the test data.<font>"
   ]
  },
  {
   "cell_type": "markdown",
   "id": "incorporated-vatican",
   "metadata": {},
   "source": [
    " This will now be compared with the accuracy of the training data predictions."
   ]
  },
  {
   "cell_type": "code",
   "execution_count": 44,
   "id": "later-functionality",
   "metadata": {},
   "outputs": [
    {
     "name": "stdout",
     "output_type": "stream",
     "text": [
      "Accuracy score using the training data for prediction is 0.8450233333333333 %\n"
     ]
    }
   ],
   "source": [
    "# We will see how it performs with training data\n",
    "train_predicted = log_reg.predict(trainingX_data)\n",
    "# Calculating the accuracy\n",
    "print(\"Accuracy score using the training data for prediction is {} %\".format(accuracy_score(trainY_response, train_predicted, normalize=True)))"
   ]
  },
  {
   "cell_type": "markdown",
   "id": "supported-vampire",
   "metadata": {},
   "source": [
    "<font color=\"blue\"> Results from the above cell states that the training set prediction has an accuracy score of **84.5%** which is **3.5% lower** than the test dataset accuracy score. <font> However, it is important to note that the threshold used might be different."
   ]
  },
  {
   "cell_type": "markdown",
   "id": "literary-brother",
   "metadata": {},
   "source": [
    " * **XGBClassifier**\n",
    "\n",
    "*XGB (short for eXtreme Gradient Boosting) is a relatively new model optimized for quick interpretations and quality model performance. Due to its high performance results, XGB models have been used recently to win numerous Kaggle competitions. XGB models are able to operate efficiently on large datasets with the only drawback being that due to the complexity of the model, fine tuning for optimal results can be difficult to achieve. Irrespective of that, we chose this model to predict our target response, to ensure that we utilized the foremost technology available to us in this field.*"
   ]
  },
  {
   "cell_type": "markdown",
   "id": "statutory-cabin",
   "metadata": {},
   "source": [
    "In the following section, the XGBClassifier is fitted using the full dataset consisting of 300K rows and 642 columns. The test dataset will be used to check the accuracy score of this model."
   ]
  },
  {
   "cell_type": "code",
   "execution_count": 65,
   "id": "constant-suspect",
   "metadata": {},
   "outputs": [
    {
     "name": "stderr",
     "output_type": "stream",
     "text": [
      "/usr/local/Cellar/jupyterlab/3.0.9/libexec/lib/python3.9/site-packages/xgboost/sklearn.py:1146: UserWarning: The use of label encoder in XGBClassifier is deprecated and will be removed in a future release. To remove this warning, do the following: 1) Pass option use_label_encoder=False when constructing XGBClassifier object; and 2) Encode your labels (y) as integers starting with 0, i.e. 0, 1, 2, ..., [num_class - 1].\n",
      "  warnings.warn(label_encoder_deprecation_msg, UserWarning)\n"
     ]
    },
    {
     "name": "stdout",
     "output_type": "stream",
     "text": [
      "[16:31:04] WARNING: /Users/travis/build/dmlc/xgboost/src/learner.cc:1095: Starting in XGBoost 1.3.0, the default evaluation metric used with the objective 'binary:logistic' was changed from 'error' to 'logloss'. Explicitly set eval_metric if you'd like to restore the old behavior.\n",
      "CPU times: user 26min 19s, sys: 11.6 s, total: 26min 31s\n",
      "Wall time: 8min 8s\n"
     ]
    },
    {
     "data": {
      "text/plain": [
       "XGBClassifier(base_score=0.5, booster='gbtree', colsample_bylevel=1,\n",
       "              colsample_bynode=1, colsample_bytree=1, gamma=0, gpu_id=-1,\n",
       "              importance_type='gain', interaction_constraints='',\n",
       "              learning_rate=0.300000012, max_delta_step=0, max_depth=6,\n",
       "              min_child_weight=1, missing=nan, monotone_constraints='()',\n",
       "              n_estimators=100, n_jobs=4, num_parallel_tree=1, random_state=42,\n",
       "              reg_alpha=0, reg_lambda=1, scale_pos_weight=1, subsample=1,\n",
       "              tree_method='exact', validate_parameters=1, verbosity=None)"
      ]
     },
     "execution_count": 65,
     "metadata": {},
     "output_type": "execute_result"
    }
   ],
   "source": [
    "%%time \n",
    "# Constructing the XGBClassifier \n",
    "xgb_model = XGBClassifier(random_state = 42)\n",
    "# Fitting the XGBClassifier on full dataset.\n",
    "xgb_model.fit(trainingX_data, trainY_response)"
   ]
  },
  {
   "cell_type": "code",
   "execution_count": 66,
   "id": "extended-format",
   "metadata": {},
   "outputs": [
    {
     "name": "stderr",
     "output_type": "stream",
     "text": [
      "/usr/local/Cellar/jupyterlab/3.0.9/libexec/lib/python3.9/site-packages/xgboost/data.py:112: UserWarning: Use subset (sliced data) of np.ndarray is not recommended because it will generate extra copies and increase memory consumption\n",
      "  warnings.warn(\n"
     ]
    }
   ],
   "source": [
    "# Predicting values using the test X matrix\n",
    "# we choose the 2nd column of results which is the prob predicted.\n",
    "y_predicted = xgb_model.predict_proba(testingX_data)[:,1]\n",
    "# Calling function to write the csv file\n",
    "submit_file['target'] = y_predicted\n",
    "submit_file.to_csv('full-xgboost.csv')"
   ]
  },
  {
   "cell_type": "markdown",
   "id": "prescription-needle",
   "metadata": {},
   "source": [
    "<font color=\"blue\"> The XGBoost Classifier has resulted in an accuracy score of **88.56%** on the test data.<font>"
   ]
  },
  {
   "cell_type": "markdown",
   "id": "looking-rogers",
   "metadata": {},
   "source": [
    "### [3.2] Reducing dimensions by exploring feature importance\n",
    "\n",
    "From the data wrangling and convertions applied above, the final dataset used for fitting and making preditions is a large sparse matrix that consists of 300K rows and 642 columns. This can cause issues in terms of time and computational complexity and can be an issue in the overfit/underfit trade-off in our analysis. For this reason, we have chosen to apply feature important analysis and keep the analysis process with only the features that constribute to our response.\n",
    "\n",
    "Our goal for this assessment of the given dataset is to reduce the dimensions and keep a similar (if not the same) percentage of accuracy for all our models. In the case of having multiple different models that have the same predictive power, it is beneficial to proceed with the less complex ones. Reducing dimensions of the training data also reduces the complexity of the model.\n",
    "\n",
    "Feature importance code and idea was inspired by a [youtube](https://www.youtube.com/watch?v=NPdn3YPkg9w) tutorial."
   ]
  },
  {
   "cell_type": "code",
   "execution_count": 34,
   "id": "thirty-auditor",
   "metadata": {
    "scrolled": true
   },
   "outputs": [
    {
     "name": "stdout",
     "output_type": "stream",
     "text": [
      "CPU times: user 34 s, sys: 1.81 s, total: 35.8 s\n",
      "Wall time: 36.9 s\n"
     ]
    },
    {
     "data": {
      "text/plain": [
       "DecisionTreeClassifier(criterion='entropy', random_state=5059)"
      ]
     },
     "execution_count": 34,
     "metadata": {},
     "output_type": "execute_result"
    }
   ],
   "source": [
    "%%time\n",
    "# Fitting a random forest with only 5 trees to get feature importance.\n",
    "DT_feature_importance = DecisionTreeClassifier(criterion='entropy', random_state=5059)\n",
    "DT_feature_importance.fit(trainingX_data, trainY_response)"
   ]
  },
  {
   "cell_type": "code",
   "execution_count": 117,
   "id": "experimental-unemployment",
   "metadata": {},
   "outputs": [
    {
     "data": {
      "text/html": [
       "<div>\n",
       "<style scoped>\n",
       "    .dataframe tbody tr th:only-of-type {\n",
       "        vertical-align: middle;\n",
       "    }\n",
       "\n",
       "    .dataframe tbody tr th {\n",
       "        vertical-align: top;\n",
       "    }\n",
       "\n",
       "    .dataframe thead th {\n",
       "        text-align: right;\n",
       "    }\n",
       "</style>\n",
       "<table border=\"1\" class=\"dataframe\">\n",
       "  <thead>\n",
       "    <tr style=\"text-align: right;\">\n",
       "      <th></th>\n",
       "      <th>index</th>\n",
       "      <th>Feature</th>\n",
       "      <th>Feature Score</th>\n",
       "    </tr>\n",
       "  </thead>\n",
       "  <tbody>\n",
       "    <tr>\n",
       "      <th>0</th>\n",
       "      <td>631</td>\n",
       "      <td>cat16_B</td>\n",
       "      <td>0.222815</td>\n",
       "    </tr>\n",
       "    <tr>\n",
       "      <th>1</th>\n",
       "      <td>5</td>\n",
       "      <td>cont5</td>\n",
       "      <td>0.068603</td>\n",
       "    </tr>\n",
       "    <tr>\n",
       "      <th>2</th>\n",
       "      <td>1</td>\n",
       "      <td>cont1</td>\n",
       "      <td>0.051586</td>\n",
       "    </tr>\n",
       "    <tr>\n",
       "      <th>3</th>\n",
       "      <td>6</td>\n",
       "      <td>cont6</td>\n",
       "      <td>0.049698</td>\n",
       "    </tr>\n",
       "    <tr>\n",
       "      <th>4</th>\n",
       "      <td>4</td>\n",
       "      <td>cont4</td>\n",
       "      <td>0.046975</td>\n",
       "    </tr>\n",
       "    <tr>\n",
       "      <th>...</th>\n",
       "      <td>...</td>\n",
       "      <td>...</td>\n",
       "      <td>...</td>\n",
       "    </tr>\n",
       "    <tr>\n",
       "      <th>637</th>\n",
       "      <td>392</td>\n",
       "      <td>cat10_DR</td>\n",
       "      <td>0.000000</td>\n",
       "    </tr>\n",
       "    <tr>\n",
       "      <th>638</th>\n",
       "      <td>388</td>\n",
       "      <td>cat10_DN</td>\n",
       "      <td>0.000000</td>\n",
       "    </tr>\n",
       "    <tr>\n",
       "      <th>639</th>\n",
       "      <td>387</td>\n",
       "      <td>cat10_DM</td>\n",
       "      <td>0.000000</td>\n",
       "    </tr>\n",
       "    <tr>\n",
       "      <th>640</th>\n",
       "      <td>386</td>\n",
       "      <td>cat10_DL</td>\n",
       "      <td>0.000000</td>\n",
       "    </tr>\n",
       "    <tr>\n",
       "      <th>641</th>\n",
       "      <td>321</td>\n",
       "      <td>cat10_AL</td>\n",
       "      <td>0.000000</td>\n",
       "    </tr>\n",
       "  </tbody>\n",
       "</table>\n",
       "<p>642 rows × 3 columns</p>\n",
       "</div>"
      ],
      "text/plain": [
       "     index   Feature  Feature Score\n",
       "0      631   cat16_B       0.222815\n",
       "1        5     cont5       0.068603\n",
       "2        1     cont1       0.051586\n",
       "3        6     cont6       0.049698\n",
       "4        4     cont4       0.046975\n",
       "..     ...       ...            ...\n",
       "637    392  cat10_DR       0.000000\n",
       "638    388  cat10_DN       0.000000\n",
       "639    387  cat10_DM       0.000000\n",
       "640    386  cat10_DL       0.000000\n",
       "641    321  cat10_AL       0.000000\n",
       "\n",
       "[642 rows x 3 columns]"
      ]
     },
     "execution_count": 117,
     "metadata": {},
     "output_type": "execute_result"
    }
   ],
   "source": [
    "# Finding the features that are important.\n",
    "features = []\n",
    "feature_score = []\n",
    "# Appenind all scores in arrays to create a data frame.\n",
    "for i, column in enumerate(trainingX_data):\n",
    "    features.append(column)\n",
    "    feature_score.append(DT_feature_importance.feature_importances_[i])\n",
    "    \n",
    "# Create a dataframe with these arrays.\n",
    "feature_score_df = zip(features, feature_score)\n",
    "feature_score_df = pd.DataFrame(feature_score_df, columns = ['Feature', 'Feature Score'])\n",
    "\n",
    "# Sort the data frame according to feature score.\n",
    "feature_score_df = feature_score_df.sort_values('Feature Score', ascending=False).reset_index()\n",
    "feature_score_df"
   ]
  },
  {
   "cell_type": "code",
   "execution_count": 96,
   "id": "educational-thirty",
   "metadata": {},
   "outputs": [
    {
     "name": "stdout",
     "output_type": "stream",
     "text": [
      "Number of features that have an impact on Y variables is (434,)\n"
     ]
    }
   ],
   "source": [
    "# Removing all features that 0 influence on the response.\n",
    "feature_keeping = feature_score_df[feature_score_df['Feature Score'] > 0.0]\n",
    "# Keeping the columns that we constribute to the result.\n",
    "feature_keeping = feature_keeping['Feature'].copy()\n",
    "print(\"Number of features that have an impact on Y variables is {}\".format(feature_keeping.shape))"
   ]
  },
  {
   "cell_type": "markdown",
   "id": "aerial-directive",
   "metadata": {},
   "source": [
    "From the code executed in the aboe cells, it can be observed that over 200 features did not constribute in the decision tree classification while predicting the Y variable. For this reason we will use the above result to reduce the dimensions of the training set that will be used to construct the model.\n",
    "\n",
    "**NOTE** :\n",
    "The changes in the training data dimensions will be implemented on the test data dimensions as well to maintain consistency."
   ]
  },
  {
   "cell_type": "code",
   "execution_count": 97,
   "id": "precise-nashville",
   "metadata": {},
   "outputs": [
    {
     "name": "stdout",
     "output_type": "stream",
     "text": [
      "The initial structure of the data was (300000, 642)\n",
      "The new dimensions of our training data is (300000, 434)\n",
      "The new dimensions of our testing data is (200000, 434)\n",
      "We will now check if all the covariates (full columns) have a level that constributes even the slightest in our model\n"
     ]
    }
   ],
   "source": [
    "# Showing the initial dimension state.\n",
    "print(\"The initial structure of the data was {}\".format(trainingX_data.shape))\n",
    "# Reducing the dimensions of the data.\n",
    "reducedX_training = trainingX_data[feature_keeping]\n",
    "reducedX_testing = testingX_data[feature_keeping]\n",
    "\n",
    "# Showing the new dimension state of our data.\n",
    "print(\"The new dimensions of our training data is {}\".format(reducedX_training.shape))\n",
    "print(\"The new dimensions of our testing data is {}\".format(reducedX_testing.shape))\n",
    "print(\"We will now check if all the covariates (full columns) have a level that constributes even the slightest in our model\")"
   ]
  },
  {
   "cell_type": "code",
   "execution_count": 88,
   "id": "unnecessary-reply",
   "metadata": {},
   "outputs": [
    {
     "name": "stdout",
     "output_type": "stream",
     "text": [
      "Number of covariates left in the data is 30 \n"
     ]
    }
   ],
   "source": [
    "# Creating a dictionary\n",
    "useful_cov = {}\n",
    "# looping through all the columns that offer some importance.\n",
    "for column in reducedX_training.columns :\n",
    "    col = column.split('_')[0]\n",
    "    # Putting them in the list with the number of occurence.\n",
    "    # If column occurs more than once, that means that they have more than 1 level as a whole covariate.\n",
    "    if col in useful_cov:\n",
    "        useful_cov[col] += 1\n",
    "    else:\n",
    "        useful_cov[col] = 1\n",
    "    \n",
    "print(\"Number of covariates left in the data is {} \".format(len(useful_cov.keys())))"
   ]
  },
  {
   "cell_type": "markdown",
   "id": "separated-judgment",
   "metadata": {},
   "source": [
    "The above result states that the final dataset after the dimension changes will be using atleast one level from the all feature columns in the original dataset."
   ]
  },
  {
   "cell_type": "markdown",
   "id": "blank-broadcast",
   "metadata": {},
   "source": [
    "### [3.3] Reduced dimension fitting\n",
    "\n",
    "From the above analysis, we have conlcuded that at least 200 features have been scored 0 for feature importance. This indicates that these features do not constribute to predicting our response value 'target'. \n",
    "\n",
    "In the following cells the dataset with the reduced dimensions will be fit on the 3 candidate models. We will then examine if the perfomance has increased or decreased.\n",
    "\n",
    "Datasets used henceforth:\n",
    " \n",
    " * **reducedX_training** = Training dataset that consists of only the influential features\n",
    " * **reducedX_testing** = Testing dataset that consists of only the influential features"
   ]
  },
  {
   "cell_type": "markdown",
   "id": "imposed-trainer",
   "metadata": {},
   "source": [
    "We begin by fitting the dataset with reduced dimensions on the three models."
   ]
  },
  {
   "cell_type": "markdown",
   "id": "major-crawford",
   "metadata": {},
   "source": [
    "* **Random Forest**"
   ]
  },
  {
   "cell_type": "code",
   "execution_count": 63,
   "id": "organized-process",
   "metadata": {},
   "outputs": [
    {
     "name": "stdout",
     "output_type": "stream",
     "text": [
      "CPU times: user 3min 9s, sys: 8.03 s, total: 3min 17s\n",
      "Wall time: 3min 21s\n"
     ]
    },
    {
     "data": {
      "text/plain": [
       "RandomForestClassifier(oob_score=True, random_state=42)"
      ]
     },
     "execution_count": 63,
     "metadata": {},
     "output_type": "execute_result"
    }
   ],
   "source": [
    "%%time\n",
    "# Instantiate model with 100 decision trees \n",
    "# oob_score needs to be true to consider out of bag sampling.\n",
    "Random_forest_model = RandomForestClassifier(n_estimators = 100, random_state = 42, oob_score=True)\n",
    "Random_forest_model.fit(reducedX_training, trainY_response)"
   ]
  },
  {
   "cell_type": "code",
   "execution_count": 64,
   "id": "tough-heart",
   "metadata": {},
   "outputs": [],
   "source": [
    "# Predicting values using the test X matrix\n",
    "# we choose the 2nd column of results which is the prob predicted.\n",
    "y_predicted = Random_forest_model.predict_proba(reducedX_testing)[:,1]\n",
    "# Calling function to write the csv file\n",
    "submit_file['target'] = y_predicted\n",
    "submit_file.to_csv('reduced-forest.csv')"
   ]
  },
  {
   "cell_type": "markdown",
   "id": "hollywood-tomorrow",
   "metadata": {},
   "source": [
    "After reducing the dimensions by 200 features we see a small decrease in the perfomance of the **Random Forest** model. \n",
    "\n",
    "<font color=\"blue\"> The new **accuracy score is 88.15%** which has a **0.07% decrease** compared to the full dimension dataset. </font>"
   ]
  },
  {
   "cell_type": "code",
   "execution_count": 67,
   "id": "trying-nylon",
   "metadata": {},
   "outputs": [
    {
     "name": "stdout",
     "output_type": "stream",
     "text": [
      "The out of bag error produced while training is 0.8459033333333333\n"
     ]
    }
   ],
   "source": [
    "# Printing out of bag sample error during training\n",
    "print(\"The out of bag error produced while training is {}\".format(Random_forest_model.oob_score_))"
   ]
  },
  {
   "cell_type": "markdown",
   "id": "nervous-enzyme",
   "metadata": {},
   "source": [
    "By running the **Random Forest** on the **reduced dimensions dataset** we see a minor difference in the training and testing prediction scores."
   ]
  },
  {
   "cell_type": "markdown",
   "id": "convertible-manner",
   "metadata": {},
   "source": [
    " * **Logistic Regression**"
   ]
  },
  {
   "cell_type": "code",
   "execution_count": 68,
   "id": "diagnostic-leather",
   "metadata": {},
   "outputs": [
    {
     "name": "stdout",
     "output_type": "stream",
     "text": [
      "CPU times: user 3min 44s, sys: 1.83 s, total: 3min 46s\n",
      "Wall time: 3min 52s\n"
     ]
    },
    {
     "data": {
      "text/plain": [
       "LogisticRegression(max_iter=1000, random_state=123, solver='saga')"
      ]
     },
     "execution_count": 68,
     "metadata": {},
     "output_type": "execute_result"
    }
   ],
   "source": [
    "%%time\n",
    "# Constructing a logistic regression.\n",
    "log_reg = LogisticRegression(solver=\"saga\", max_iter= 1000, random_state=123)\n",
    "# Fitting the logistic regression\n",
    "log_reg.fit(reducedX_training, trainY_response)"
   ]
  },
  {
   "cell_type": "code",
   "execution_count": 70,
   "id": "operating-cross",
   "metadata": {},
   "outputs": [],
   "source": [
    "# Predicting values using the test X matrix\n",
    "# we choose the 2nd column of results which is the prob predicted.\n",
    "y_predicted = log_reg.predict_proba(reducedX_testing)[:,1]\n",
    "# Calling function to write the csv file\n",
    "submit_file['target'] = y_predicted\n",
    "submit_file.to_csv('reduced-logistic.csv')"
   ]
  },
  {
   "cell_type": "markdown",
   "id": "killing-citizenship",
   "metadata": {},
   "source": [
    "After reducing the dimensions by 200 features we see a minor decrease in the perfomance of the **Logistic Regression** model. \n",
    "\n",
    "<font color=\"blue\"> The new **accuracy score is 87.715%** which has a **0.01% decrease** compared to the full dimension dataset. </font>"
   ]
  },
  {
   "cell_type": "code",
   "execution_count": 74,
   "id": "powerful-colleague",
   "metadata": {},
   "outputs": [
    {
     "name": "stdout",
     "output_type": "stream",
     "text": [
      "Accuracy score using the training data for prediction is 0.8447133333333333 %\n"
     ]
    }
   ],
   "source": [
    "# We will see how it performs with training data\n",
    "train_predicted = log_reg.predict(reducedX_training)\n",
    "# Calculating the accuracy\n",
    "print(\"Accuracy score using the training data for prediction is {} %\".format(accuracy_score(trainY_response, train_predicted, normalize=True)))"
   ]
  },
  {
   "cell_type": "markdown",
   "id": "together-reverse",
   "metadata": {},
   "source": [
    "By running the **Logistic Regression** model on the **reduced dimensions dataset** we can observe that both errors in [testing, training] have reduced by **0.01% and 0.1% respectively**. This is assumed to be the cost of reducing 200 features to reduce the model complexity"
   ]
  },
  {
   "cell_type": "markdown",
   "id": "heated-settle",
   "metadata": {},
   "source": [
    "* **XGBClassifier**"
   ]
  },
  {
   "cell_type": "code",
   "execution_count": 106,
   "id": "reliable-spare",
   "metadata": {},
   "outputs": [
    {
     "name": "stderr",
     "output_type": "stream",
     "text": [
      "/usr/local/Cellar/jupyterlab/3.0.9/libexec/lib/python3.9/site-packages/xgboost/sklearn.py:1146: UserWarning: The use of label encoder in XGBClassifier is deprecated and will be removed in a future release. To remove this warning, do the following: 1) Pass option use_label_encoder=False when constructing XGBClassifier object; and 2) Encode your labels (y) as integers starting with 0, i.e. 0, 1, 2, ..., [num_class - 1].\n",
      "  warnings.warn(label_encoder_deprecation_msg, UserWarning)\n"
     ]
    },
    {
     "name": "stdout",
     "output_type": "stream",
     "text": [
      "[18:09:55] WARNING: /Users/travis/build/dmlc/xgboost/src/learner.cc:1095: Starting in XGBoost 1.3.0, the default evaluation metric used with the objective 'binary:logistic' was changed from 'error' to 'logloss'. Explicitly set eval_metric if you'd like to restore the old behavior.\n",
      "CPU times: user 18min 46s, sys: 4.66 s, total: 18min 51s\n",
      "Wall time: 5min 4s\n"
     ]
    },
    {
     "data": {
      "text/plain": [
       "XGBClassifier(base_score=0.5, booster='gbtree', colsample_bylevel=1,\n",
       "              colsample_bynode=1, colsample_bytree=1, gamma=0, gpu_id=-1,\n",
       "              importance_type='gain', interaction_constraints='',\n",
       "              learning_rate=0.300000012, max_delta_step=0, max_depth=6,\n",
       "              min_child_weight=1, missing=nan, monotone_constraints='()',\n",
       "              n_estimators=100, n_jobs=4, num_parallel_tree=1, random_state=42,\n",
       "              reg_alpha=0, reg_lambda=1, scale_pos_weight=1, subsample=1,\n",
       "              tree_method='exact', validate_parameters=1, verbosity=None)"
      ]
     },
     "execution_count": 106,
     "metadata": {},
     "output_type": "execute_result"
    }
   ],
   "source": [
    "%%time \n",
    "# Constructing the XGBClassifier \n",
    "xgb_model = XGBClassifier(random_state = 42)\n",
    "# Fitting the XGBClassifier on full dataset.\n",
    "xgb_model.fit(reducedX_training, trainY_response)"
   ]
  },
  {
   "cell_type": "code",
   "execution_count": 110,
   "id": "threaded-albuquerque",
   "metadata": {},
   "outputs": [],
   "source": [
    "# Predicting values using the test X matrix\n",
    "# we choose the 2nd column of results which is the prob predicted.\n",
    "y_predicted = xgb_model.predict_proba(reducedX_testing)[:,1]\n",
    "# Calling function to write the csv file\n",
    "submit_file['target'] = y_predicted\n",
    "submit_file.to_csv('reduced-xgboost.csv')"
   ]
  },
  {
   "cell_type": "markdown",
   "id": "curious-falls",
   "metadata": {},
   "source": [
    "After reducing the dimensions by 200 features we see a minor decrease in the perfomance of the **XGBoost Classifier** model. \n",
    "\n",
    "<font color=\"blue\"> The new **accuracy score is 88.54%** which has a **0.02% decrease** compared to the full dimension dataset. </font>"
   ]
  },
  {
   "cell_type": "markdown",
   "id": "ordered-instruction",
   "metadata": {},
   "source": [
    "### [3.4] Reduced dimension fitting further explored.\n",
    "\n",
    "From the above results we obtained by fitting models using reduced dimensions that consisted of only the covariates that contributed to the response variable, we have managed to keep the accuracy levels high and decrease the dimensions by 200 features. \n",
    "\n",
    "We will now further explore the reduction in dimensions, by keeping only the top features that fill 95% of the feature importance. This means that in a new dataset, we will keep the features that explain 95% of the feature importance and we will examine if our models have the same level of perfomance.\n",
    "\n",
    "We will fit our models on the following datasets:\n",
    " \n",
    " * reduced95_training = Training dataset with 95% of feature importance explained\n",
    " * reduced95_testing = Testing dataset with 95% of feature importance explained"
   ]
  },
  {
   "cell_type": "code",
   "execution_count": 135,
   "id": "ceramic-breach",
   "metadata": {},
   "outputs": [
    {
     "name": "stdout",
     "output_type": "stream",
     "text": [
      "The initial structure of the data was (300000, 642)\n",
      "The new dimensions of our training data is (300000, 312)\n",
      "The new dimensions of our testing data is (200000, 312)\n"
     ]
    }
   ],
   "source": [
    "# Holding the percentage of feature importance being satisfied.\n",
    "variance = 0\n",
    "col_keep = []\n",
    "# Looping through all the scores for all features.\n",
    "for index, row in feature_score_df.iterrows():\n",
    "    expirement_var = variance\n",
    "    row_score = row['Feature Score']\n",
    "    # When variance has reached 95 do not add more scores, columns.\n",
    "    if ((expirement_var + row_score) <= 0.95):\n",
    "        col_keep.append(row['Feature'])\n",
    "        variance = variance + row_score\n",
    "\n",
    "\n",
    "# Showing the initial dimension state.\n",
    "print(\"The initial structure of the data was {}\".format(trainingX_data.shape))\n",
    "# Reducing the dimensions of the data.\n",
    "reduced95_training = trainingX_data[col_keep]\n",
    "reduced95_testing = testingX_data[col_keep]\n",
    "\n",
    "# Showing the new dimension state of our data.\n",
    "print(\"The new dimensions of our training data is {}\".format(reduced95_training.shape))\n",
    "print(\"The new dimensions of our testing data is {}\".format(reduced95_testing.shape))"
   ]
  },
  {
   "cell_type": "markdown",
   "id": "legendary-implement",
   "metadata": {},
   "source": [
    " * **Random Forest**"
   ]
  },
  {
   "cell_type": "code",
   "execution_count": 136,
   "id": "sought-entertainment",
   "metadata": {},
   "outputs": [
    {
     "name": "stdout",
     "output_type": "stream",
     "text": [
      "CPU times: user 2min 26s, sys: 7.06 s, total: 2min 33s\n",
      "Wall time: 2min 46s\n"
     ]
    },
    {
     "data": {
      "text/plain": [
       "RandomForestClassifier(oob_score=True, random_state=42)"
      ]
     },
     "execution_count": 136,
     "metadata": {},
     "output_type": "execute_result"
    }
   ],
   "source": [
    "%%time\n",
    "# Instantiate model with 100 decision trees \n",
    "# oob_score needs to be true to consider out of bag sampling.\n",
    "Random_forest_model = RandomForestClassifier(n_estimators = 100, random_state = 42, oob_score=True)\n",
    "Random_forest_model.fit(reduced95_training, trainY_response)"
   ]
  },
  {
   "cell_type": "code",
   "execution_count": 138,
   "id": "damaged-expert",
   "metadata": {},
   "outputs": [],
   "source": [
    "# Predicting values using the test X matrix\n",
    "# we choose the 2nd column of results which is the prob predicted.\n",
    "y_predicted = Random_forest_model.predict_proba(reduced95_testing)[:,1]\n",
    "# Calling function to write the csv file\n",
    "submit_file['target'] = y_predicted\n",
    "submit_file.to_csv('reduced95-forest.csv')"
   ]
  },
  {
   "cell_type": "markdown",
   "id": "beautiful-hebrew",
   "metadata": {},
   "source": [
    "<font color =\" blue\"> By reducing the dimensions from 642 to 312 and we achieve an accuracy score of **88.14%** that is **0.08% lower** than the original score (when all features were used). </font>"
   ]
  },
  {
   "cell_type": "markdown",
   "id": "identical-clark",
   "metadata": {},
   "source": [
    " * **Logistic Regression**"
   ]
  },
  {
   "cell_type": "code",
   "execution_count": 139,
   "id": "beneficial-feelings",
   "metadata": {},
   "outputs": [
    {
     "name": "stdout",
     "output_type": "stream",
     "text": [
      "CPU times: user 2min 34s, sys: 1.3 s, total: 2min 35s\n",
      "Wall time: 2min 39s\n"
     ]
    },
    {
     "data": {
      "text/plain": [
       "LogisticRegression(max_iter=1000, random_state=123, solver='saga')"
      ]
     },
     "execution_count": 139,
     "metadata": {},
     "output_type": "execute_result"
    }
   ],
   "source": [
    "%%time\n",
    "# Constructing a logistic regression.\n",
    "log_reg = LogisticRegression(solver=\"saga\", max_iter= 1000, random_state=123)\n",
    "# Fitting the logistic regression\n",
    "log_reg.fit(reduced95_training, trainY_response)"
   ]
  },
  {
   "cell_type": "code",
   "execution_count": 141,
   "id": "adult-front",
   "metadata": {},
   "outputs": [],
   "source": [
    "# Predicting values using the test X matrix\n",
    "# we choose the 2nd column of results which is the prob predicted.\n",
    "y_predicted = log_reg.predict_proba(reduced95_testing)[:,1]\n",
    "# Calling function to write the csv file\n",
    "submit_file['target'] = y_predicted\n",
    "submit_file.to_csv('reduced95-logistic.csv')"
   ]
  },
  {
   "cell_type": "markdown",
   "id": "rural-while",
   "metadata": {},
   "source": [
    "<font color =\" blue\"> By reducing the dimensions from 642 to 312 and we achieve an accuracy score of **87.401%** that is **0.3% lower** than the original score (when all features were used). </font>"
   ]
  },
  {
   "cell_type": "markdown",
   "id": "connected-preserve",
   "metadata": {},
   "source": [
    " * **XGDBoost Classifier**"
   ]
  },
  {
   "cell_type": "code",
   "execution_count": 142,
   "id": "structured-joshua",
   "metadata": {},
   "outputs": [
    {
     "name": "stderr",
     "output_type": "stream",
     "text": [
      "/usr/local/Cellar/jupyterlab/3.0.9/libexec/lib/python3.9/site-packages/xgboost/sklearn.py:1146: UserWarning: The use of label encoder in XGBClassifier is deprecated and will be removed in a future release. To remove this warning, do the following: 1) Pass option use_label_encoder=False when constructing XGBClassifier object; and 2) Encode your labels (y) as integers starting with 0, i.e. 0, 1, 2, ..., [num_class - 1].\n",
      "  warnings.warn(label_encoder_deprecation_msg, UserWarning)\n"
     ]
    },
    {
     "name": "stdout",
     "output_type": "stream",
     "text": [
      "[19:59:36] WARNING: /Users/travis/build/dmlc/xgboost/src/learner.cc:1095: Starting in XGBoost 1.3.0, the default evaluation metric used with the objective 'binary:logistic' was changed from 'error' to 'logloss'. Explicitly set eval_metric if you'd like to restore the old behavior.\n",
      "CPU times: user 13min 59s, sys: 3.36 s, total: 14min 2s\n",
      "Wall time: 4min 7s\n"
     ]
    },
    {
     "data": {
      "text/plain": [
       "XGBClassifier(base_score=0.5, booster='gbtree', colsample_bylevel=1,\n",
       "              colsample_bynode=1, colsample_bytree=1, gamma=0, gpu_id=-1,\n",
       "              importance_type='gain', interaction_constraints='',\n",
       "              learning_rate=0.300000012, max_delta_step=0, max_depth=6,\n",
       "              min_child_weight=1, missing=nan, monotone_constraints='()',\n",
       "              n_estimators=100, n_jobs=4, num_parallel_tree=1, random_state=42,\n",
       "              reg_alpha=0, reg_lambda=1, scale_pos_weight=1, subsample=1,\n",
       "              tree_method='exact', validate_parameters=1, verbosity=None)"
      ]
     },
     "execution_count": 142,
     "metadata": {},
     "output_type": "execute_result"
    }
   ],
   "source": [
    "%%time \n",
    "# Constructing the XGBClassifier \n",
    "xgb_model = XGBClassifier(random_state = 42)\n",
    "# Fitting the XGBClassifier on full dataset.\n",
    "xgb_model.fit(reduced95_training, trainY_response)"
   ]
  },
  {
   "cell_type": "code",
   "execution_count": null,
   "id": "ideal-vietnamese",
   "metadata": {},
   "outputs": [],
   "source": [
    "# Predicting values using the test X matrix\n",
    "# we choose the 2nd column of results reduced95_testing is the prob predicted.\n",
    "y_predicted = xgb_model.predict_proba(reduced95_testing)[:,1]\n",
    "# Calling function to write the csv file\n",
    "submit_file['target'] = y_predicted\n",
    "submit_file.to_csv('reduced-95-xgboost.csv')"
   ]
  },
  {
   "cell_type": "markdown",
   "id": "dramatic-italy",
   "metadata": {},
   "source": [
    "<font color =\" blue\"> By reducing the dimensions from 642 to 312 and we achieve an accuracy score of **88.479%** that is **0.09% lower** than the original score (when all features were used). </font>"
   ]
  },
  {
   "cell_type": "markdown",
   "id": "minute-creation",
   "metadata": {},
   "source": [
    "We have seen a minor decrease across all the models in terms of accuracy when the dimensions were reduced in half. However, owing to the reduction of dimensions the computational cost and time complexity for fitting and running the models has increased significantly. \n",
    "\n",
    "Our analysis supports that the fact that the **trade-off between the accuracy and dimension reduction is worth it**."
   ]
  },
  {
   "cell_type": "markdown",
   "id": "crucial-thompson",
   "metadata": {},
   "source": [
    "Our next step is to explore which covariates contributed the most and are the most helpful in predicting the target."
   ]
  },
  {
   "cell_type": "code",
   "execution_count": 143,
   "id": "quarterly-bulgarian",
   "metadata": {},
   "outputs": [
    {
     "name": "stdout",
     "output_type": "stream",
     "text": [
      "Number of covariates left in the data is 30 \n"
     ]
    }
   ],
   "source": [
    "# Creating a dictionary\n",
    "useful_cov = {}\n",
    "# looping through all the columns that offer some importance.\n",
    "for column in reduced95_training.columns :\n",
    "    col = column.split('_')[0]\n",
    "    # Putting them in the list with the number of occurence.\n",
    "    # If column occurs more than once, that means that they have more than 1 level as a whole covariate.\n",
    "    if col in useful_cov:\n",
    "        useful_cov[col] += 1\n",
    "    else:\n",
    "        useful_cov[col] = 1\n",
    "    \n",
    "print(\"Number of covariates left in the data is {} \".format(len(useful_cov.keys())))"
   ]
  },
  {
   "cell_type": "markdown",
   "id": "graduate-asset",
   "metadata": {},
   "source": [
    "The code executed in the above cells states that the new dataset still consists of information across all 30 covariates provided initially. \n",
    "\n",
    "Our task is to explore and find the most 'covariate important' attributes provided in the data. To do this the code below will iterate across the sscores of all the features and sum the feature importance for all the covariates."
   ]
  },
  {
   "cell_type": "code",
   "execution_count": 151,
   "id": "retired-concord",
   "metadata": {},
   "outputs": [
    {
     "data": {
      "text/html": [
       "<div>\n",
       "<style scoped>\n",
       "    .dataframe tbody tr th:only-of-type {\n",
       "        vertical-align: middle;\n",
       "    }\n",
       "\n",
       "    .dataframe tbody tr th {\n",
       "        vertical-align: top;\n",
       "    }\n",
       "\n",
       "    .dataframe thead th {\n",
       "        text-align: right;\n",
       "    }\n",
       "</style>\n",
       "<table border=\"1\" class=\"dataframe\">\n",
       "  <thead>\n",
       "    <tr style=\"text-align: right;\">\n",
       "      <th></th>\n",
       "      <th>index</th>\n",
       "      <th>Feature</th>\n",
       "      <th>Feature Score</th>\n",
       "    </tr>\n",
       "  </thead>\n",
       "  <tbody>\n",
       "    <tr>\n",
       "      <th>0</th>\n",
       "      <td>631</td>\n",
       "      <td>cat16_B</td>\n",
       "      <td>0.222815</td>\n",
       "    </tr>\n",
       "    <tr>\n",
       "      <th>1</th>\n",
       "      <td>5</td>\n",
       "      <td>cont5</td>\n",
       "      <td>0.068603</td>\n",
       "    </tr>\n",
       "    <tr>\n",
       "      <th>2</th>\n",
       "      <td>1</td>\n",
       "      <td>cont1</td>\n",
       "      <td>0.051586</td>\n",
       "    </tr>\n",
       "    <tr>\n",
       "      <th>3</th>\n",
       "      <td>6</td>\n",
       "      <td>cont6</td>\n",
       "      <td>0.049698</td>\n",
       "    </tr>\n",
       "    <tr>\n",
       "      <th>4</th>\n",
       "      <td>4</td>\n",
       "      <td>cont4</td>\n",
       "      <td>0.046975</td>\n",
       "    </tr>\n",
       "    <tr>\n",
       "      <th>...</th>\n",
       "      <td>...</td>\n",
       "      <td>...</td>\n",
       "      <td>...</td>\n",
       "    </tr>\n",
       "    <tr>\n",
       "      <th>637</th>\n",
       "      <td>392</td>\n",
       "      <td>cat10_DR</td>\n",
       "      <td>0.000000</td>\n",
       "    </tr>\n",
       "    <tr>\n",
       "      <th>638</th>\n",
       "      <td>388</td>\n",
       "      <td>cat10_DN</td>\n",
       "      <td>0.000000</td>\n",
       "    </tr>\n",
       "    <tr>\n",
       "      <th>639</th>\n",
       "      <td>387</td>\n",
       "      <td>cat10_DM</td>\n",
       "      <td>0.000000</td>\n",
       "    </tr>\n",
       "    <tr>\n",
       "      <th>640</th>\n",
       "      <td>386</td>\n",
       "      <td>cat10_DL</td>\n",
       "      <td>0.000000</td>\n",
       "    </tr>\n",
       "    <tr>\n",
       "      <th>641</th>\n",
       "      <td>321</td>\n",
       "      <td>cat10_AL</td>\n",
       "      <td>0.000000</td>\n",
       "    </tr>\n",
       "  </tbody>\n",
       "</table>\n",
       "<p>642 rows × 3 columns</p>\n",
       "</div>"
      ],
      "text/plain": [
       "     index   Feature  Feature Score\n",
       "0      631   cat16_B       0.222815\n",
       "1        5     cont5       0.068603\n",
       "2        1     cont1       0.051586\n",
       "3        6     cont6       0.049698\n",
       "4        4     cont4       0.046975\n",
       "..     ...       ...            ...\n",
       "637    392  cat10_DR       0.000000\n",
       "638    388  cat10_DN       0.000000\n",
       "639    387  cat10_DM       0.000000\n",
       "640    386  cat10_DL       0.000000\n",
       "641    321  cat10_AL       0.000000\n",
       "\n",
       "[642 rows x 3 columns]"
      ]
     },
     "execution_count": 151,
     "metadata": {},
     "output_type": "execute_result"
    }
   ],
   "source": [
    "# Printing the feature importance score.\n",
    "feature_score_df"
   ]
  },
  {
   "cell_type": "code",
   "execution_count": 155,
   "id": "swiss-shade",
   "metadata": {},
   "outputs": [
    {
     "name": "stdout",
     "output_type": "stream",
     "text": [
      "('cat16', 0.22508575304504944)\n",
      "('cont5', 0.06860306610077353)\n",
      "('cont1', 0.05158577091656536)\n",
      "('cont6', 0.04969777937909494)\n",
      "('cont4', 0.04697476603494589)\n",
      "('cont2', 0.04658634056428416)\n",
      "('cont3', 0.0458471215180253)\n",
      "('cont8', 0.044787914199695134)\n",
      "('cont9', 0.04331071972551486)\n",
      "('cont10', 0.04256309103089788)\n",
      "('cont0', 0.042238636834348496)\n",
      "('cont7', 0.04177551739735028)\n",
      "('cat7', 0.028737288432072523)\n",
      "('cat10', 0.025988372012843087)\n",
      "('cat8', 0.024132414069392864)\n",
      "('cat1', 0.022723145594999074)\n",
      "('cat18', 0.021319939205017333)\n",
      "('cat2', 0.017420453228149894)\n",
      "('cat0', 0.016912787263963603)\n",
      "('cat15', 0.01569433708682284)\n",
      "('cat14', 0.011948463396334316)\n",
      "('cat4', 0.011683600445999273)\n",
      "('cat6', 0.010804064132678167)\n",
      "('cat9', 0.00930058889952817)\n",
      "('cat3', 0.00899891644705938)\n",
      "('cat11', 0.008875048394768284)\n",
      "('cat17', 0.0069880161011449)\n",
      "('cat5', 0.004632956866702823)\n",
      "('cat12', 0.002495243170243214)\n",
      "('cat13', 0.0022878885057348395)\n"
     ]
    }
   ],
   "source": [
    "# Creating a dictionary to find sum of feature importance scores for each full covariate\n",
    "covariate_importance = {}\n",
    "# Loop through all the features\n",
    "for index, row in feature_score_df.iterrows():\n",
    "    # Capture only covariate name\n",
    "    col = row['Feature'].split('_')[0]\n",
    "    # Capture feature importance score\n",
    "    score = row['Feature Score']\n",
    "    # Add the feature importance score with the name in dictionary and append.\n",
    "    if col in covariate_importance:\n",
    "        covariate_importance[col] += score\n",
    "    else:\n",
    "        covariate_importance[col] = score\n",
    "\n",
    "# Sort the dictionary according to the dictionary values.\n",
    "sorted_by_value = sorted(covariate_importance.items(),key=lambda x: x[1], reverse=True)\n",
    "\n",
    "# Print the dictionary in a presentable way.\n",
    "for covariate in sorted_by_value:\n",
    "    print(covariate)  "
   ]
  },
  {
   "cell_type": "markdown",
   "id": "broke-grass",
   "metadata": {},
   "source": [
    "From the above results we can observe that the most important covariate is **cat16** which has a score of **22%** covariate importance.\n",
    "\n",
    "Additionally covariates **cont5, cont1** have a score of more than **5%** of covariate importance.\n",
    "\n",
    "Additionally covariates **cat9, cat3, cat11, cat17, cat5, cat12, cat13** have less than **1%** of covariate importance. This indicates that they might not be usefeull in predicting the target.\n",
    "\n",
    "\n",
    "**The above information can be useful in data collection, on the basis of gathering more or different data accordingly.**"
   ]
  },
  {
   "cell_type": "markdown",
   "id": "durable-wrong",
   "metadata": {},
   "source": [
    "### [3.5] Tuning the hyperparameters of the candidate models\n",
    "\n",
    "We will apply a selective CV gridsearch on the 3 candidate models that we have chosen, with the goal of improving the perfomance measure (Accuracy). The training of the CV will be with reduced dimensioned data found from **[3.2]** .\n",
    "\n",
    "**NOTE:** \n",
    "Because of the technology available to us, it is too expensive to apply a complete gridsearch that assesses all the best options. For this reason we apply random values for the hyperparameters in hope of improving accuracy perfomance.\n",
    "\n",
    " * **Random Forest**"
   ]
  },
  {
   "cell_type": "code",
   "execution_count": null,
   "id": "allied-nitrogen",
   "metadata": {},
   "outputs": [],
   "source": [
    "# Create example hyperparameters to test.\n",
    "forest_parameters = {\n",
    "    'oob_score': [True],\n",
    "    'max_depth': [10, 15],\n",
    "    'max_features' : ['auto'],\n",
    "    'n_estimators': [100, 155]\n",
    "}\n",
    "# Create a based model\n",
    "base_forest = RandomForestRegressor()\n",
    "\n",
    "# Instantiate the grid search model\n",
    "forest_search = GridSearchCV(estimator = base_forest,\n",
    "                           param_grid = forest_parameters, \n",
    "                           cv = 3, n_jobs = -1, verbose = 2 , random_state = 5059)"
   ]
  },
  {
   "cell_type": "code",
   "execution_count": null,
   "id": "computational-contemporary",
   "metadata": {},
   "outputs": [],
   "source": [
    "%%time\n",
    "# Fit the grid search model to see the best params.\n",
    "forest_search.fit(reducedX_training, trainY_response)"
   ]
  },
  {
   "cell_type": "code",
   "execution_count": null,
   "id": "inside-anderson",
   "metadata": {},
   "outputs": [],
   "source": [
    "# Viewing best parameter values from the CV gridsearch\n",
    "forest_search.best_params_"
   ]
  },
  {
   "cell_type": "code",
   "execution_count": null,
   "id": "bored-memphis",
   "metadata": {},
   "outputs": [],
   "source": [
    "# Viewing the best model obtained from the CV gridsearch\n",
    "# Model with smallest loss value.\n",
    "forest_search.best_estimator_"
   ]
  },
  {
   "cell_type": "markdown",
   "id": "major-patio",
   "metadata": {},
   "source": [
    "The above chunks were run on a different systems and the compilation of the best values are:\n",
    " * oob_score = True\n",
    " * max_depth = 15\n",
    " * max_features = 'auto'\n",
    " * n_estimators = 150\n",
    " \n",
    "We will now fit a random forest with these gridsearch results and obtain its perfomance metrics."
   ]
  },
  {
   "cell_type": "code",
   "execution_count": 166,
   "id": "yellow-medicine",
   "metadata": {},
   "outputs": [
    {
     "name": "stdout",
     "output_type": "stream",
     "text": [
      "CPU times: user 2min 24s, sys: 10.8 s, total: 2min 35s\n",
      "Wall time: 2min 40s\n"
     ]
    },
    {
     "data": {
      "text/plain": [
       "RandomForestClassifier(max_depth=15, n_estimators=150, oob_score=True,\n",
       "                       random_state=42)"
      ]
     },
     "execution_count": 166,
     "metadata": {},
     "output_type": "execute_result"
    }
   ],
   "source": [
    "%%time\n",
    "# Fit best model and obtain results.\n",
    "# Instantiate model with 100 decision trees \n",
    "# oob_score needs to be true to consider out of bag sampling.\n",
    "Random_forest_model = RandomForestClassifier(n_estimators = 150,\n",
    "                                             random_state = 42,\n",
    "                                             oob_score=True,\n",
    "                                             max_depth = 15,\n",
    "                                             max_features = 'auto')\n",
    "\n",
    "Random_forest_model.fit(reducedX_training, trainY_response)"
   ]
  },
  {
   "cell_type": "code",
   "execution_count": 168,
   "id": "driving-fifth",
   "metadata": {},
   "outputs": [],
   "source": [
    "# Predicting values using the test X matrix\n",
    "# we choose the 2nd column of results which is the prob predicted.\n",
    "y_predicted = Random_forest_model.predict_proba(reducedX_testing)[:,1]\n",
    "# Calling function to write the csv file\n",
    "submit_file['target'] = y_predicted\n",
    "submit_file.to_csv('CV-forest.csv')"
   ]
  },
  {
   "cell_type": "markdown",
   "id": "yellow-dispute",
   "metadata": {},
   "source": [
    "<font color=\"blue\">Running the above model with the reduced dimensions of 100% feature importance with 434 columns and best parameters from the grid search, we have achieved an accuracy score of **87.872%** which is **0.05% lower** than the Random Forest model with the full dimensions. <font>"
   ]
  },
  {
   "cell_type": "markdown",
   "id": "harmful-street",
   "metadata": {},
   "source": [
    " * **Logistic Regression**"
   ]
  },
  {
   "cell_type": "code",
   "execution_count": null,
   "id": "occupational-phrase",
   "metadata": {},
   "outputs": [],
   "source": [
    "# Create example hyperparameters to test.\n",
    "logistic_parameters = {\n",
    "    'penalty': ['l2'],\n",
    "    'fit_intercept': [True, False],\n",
    "    'max_iter' : [250, 500, 2000]\n",
    "}\n",
    "# Create a based model\n",
    "base_logistic = LogisticRegression()\n",
    "\n",
    "# Instantiate the grid search model\n",
    "logistic_search = GridSearchCV(estimator = base_logistic,\n",
    "                           param_grid = logistic_parameters, \n",
    "                           cv = 3, n_jobs = -1, verbose = 2 , random_state = 5059)"
   ]
  },
  {
   "cell_type": "code",
   "execution_count": null,
   "id": "ahead-nebraska",
   "metadata": {},
   "outputs": [],
   "source": [
    "%%time\n",
    "# Fit the grid search model to see the best params.\n",
    "logistic_search.fit(reducedX_training, trainY_response)"
   ]
  },
  {
   "cell_type": "code",
   "execution_count": null,
   "id": "spiritual-imaging",
   "metadata": {},
   "outputs": [],
   "source": [
    "# Viewing best parameter values from the CV gridsearch\n",
    "logistic_search.best_params_"
   ]
  },
  {
   "cell_type": "code",
   "execution_count": null,
   "id": "naval-conversion",
   "metadata": {},
   "outputs": [],
   "source": [
    "# Viewing the best model obtained from the CV gridsearch\n",
    "# Model with smallest loss value.\n",
    "logistic_search.best_estimator_"
   ]
  },
  {
   "cell_type": "markdown",
   "id": "guilty-imperial",
   "metadata": {},
   "source": [
    "The above chunks were run on a different systems and a compilation of the best values are:\n",
    " * solver = saga\n",
    " * max_iter = 250\n",
    " * penalty = 'l2'\n",
    " * fit_intercept = False\n",
    " \n",
    "We will now fit a logistic regression model with these results and obtain its perfomance metrics."
   ]
  },
  {
   "cell_type": "code",
   "execution_count": 170,
   "id": "otherwise-guitar",
   "metadata": {},
   "outputs": [
    {
     "name": "stdout",
     "output_type": "stream",
     "text": [
      "CPU times: user 1min 3s, sys: 2.78 s, total: 1min 6s\n",
      "Wall time: 1min 26s\n"
     ]
    },
    {
     "data": {
      "text/plain": [
       "LogisticRegression(fit_intercept=False, max_iter=250, random_state=123,\n",
       "                   solver='saga')"
      ]
     },
     "execution_count": 170,
     "metadata": {},
     "output_type": "execute_result"
    }
   ],
   "source": [
    "%%time\n",
    "# Fit best model and obtain results.\n",
    "# Constructing a logistic regression.\n",
    "log_reg = LogisticRegression(solver=\"saga\",\n",
    "                             max_iter= 250,\n",
    "                             random_state=123,\n",
    "                             penalty = 'l2',\n",
    "                             fit_intercept=False\n",
    "                            )\n",
    "# Fitting the logistic regression\n",
    "log_reg.fit(reducedX_training, trainY_response)"
   ]
  },
  {
   "cell_type": "code",
   "execution_count": 171,
   "id": "simplified-tokyo",
   "metadata": {},
   "outputs": [],
   "source": [
    "# Predicting values using the test X matrix\n",
    "# we choose the 2nd column of results which is the prob predicted.\n",
    "y_predicted = log_reg.predict_proba(reducedX_testing)[:,1]\n",
    "# Calling function to write the csv file\n",
    "submit_file['target'] = y_predicted\n",
    "submit_file.to_csv('CV-logistic.csv')"
   ]
  },
  {
   "cell_type": "markdown",
   "id": "pharmaceutical-cooking",
   "metadata": {},
   "source": [
    "<font color=\"blue\">Running the above model with the reduced dimensions of 100% feature importance with 434 columns and best parameters from the grid search, we have achieved an accuracy score of **87.715%** which is **0.02% lower** than the Logistic Regression model with the full dimensions. <font>"
   ]
  },
  {
   "cell_type": "markdown",
   "id": "together-casting",
   "metadata": {},
   "source": [
    " * **XGBoost Classifier**"
   ]
  },
  {
   "cell_type": "code",
   "execution_count": null,
   "id": "prepared-placement",
   "metadata": {},
   "outputs": [],
   "source": [
    "# Create example hyperparameters to test.\n",
    "xgboost_parameters = {\n",
    "    'max_depth': [1,3,6],\n",
    "    'sampling_method': ['uniform','gradient_based'],\n",
    "    'learning_rate':[0.3,0.5,0.8],\n",
    "    'min_child_weight':[1,2]\n",
    "}\n",
    "\n",
    "# Create a based model\n",
    "base_xgboost = XGBClassifier()\n",
    "\n",
    "# Instantiate the grid search model\n",
    "xgboost_search = GridSearchCV(estimator = base_logistic,\n",
    "                           param_grid = logistic_parameters, \n",
    "                           cv = 3, n_jobs = -1, verbose = 2 ,scoring='roc_auc', random_state = 5059)"
   ]
  },
  {
   "cell_type": "code",
   "execution_count": null,
   "id": "worse-teach",
   "metadata": {},
   "outputs": [],
   "source": [
    "%%time\n",
    "# Fit the grid search model to see the best params.\n",
    "xgboost_search.fit(reducedX_training, trainY_response)"
   ]
  },
  {
   "cell_type": "code",
   "execution_count": null,
   "id": "environmental-procedure",
   "metadata": {},
   "outputs": [],
   "source": [
    "# Viewing best parameter values from the CV gridsearch\n",
    "xgboost_search.best_params_"
   ]
  },
  {
   "cell_type": "code",
   "execution_count": null,
   "id": "instrumental-radiation",
   "metadata": {},
   "outputs": [],
   "source": [
    "# Viewing the best model obtained from the CV gridsearch\n",
    "# Model with smallest loss value.\n",
    "xgboost_search.best_estimator_"
   ]
  },
  {
   "cell_type": "markdown",
   "id": "necessary-messaging",
   "metadata": {},
   "source": [
    "The above chunks were run on a different systems and the compilation of the best values are:\n",
    " * learning_rate = 0.3\n",
    " * max_depth = 6\n",
    " * min_child_weight = 2\n",
    " * sampling_method = unifrom\n",
    " \n",
    "We will now fit a XGBClassifier with these results and obtain its perfomance metrics."
   ]
  },
  {
   "cell_type": "code",
   "execution_count": 175,
   "id": "typical-estate",
   "metadata": {},
   "outputs": [
    {
     "name": "stderr",
     "output_type": "stream",
     "text": [
      "/usr/local/Cellar/jupyterlab/3.0.9/libexec/lib/python3.9/site-packages/xgboost/sklearn.py:1146: UserWarning: The use of label encoder in XGBClassifier is deprecated and will be removed in a future release. To remove this warning, do the following: 1) Pass option use_label_encoder=False when constructing XGBClassifier object; and 2) Encode your labels (y) as integers starting with 0, i.e. 0, 1, 2, ..., [num_class - 1].\n",
      "  warnings.warn(label_encoder_deprecation_msg, UserWarning)\n"
     ]
    },
    {
     "name": "stdout",
     "output_type": "stream",
     "text": [
      "[21:35:24] WARNING: /Users/travis/build/dmlc/xgboost/src/learner.cc:1095: Starting in XGBoost 1.3.0, the default evaluation metric used with the objective 'binary:logistic' was changed from 'error' to 'logloss'. Explicitly set eval_metric if you'd like to restore the old behavior.\n",
      "CPU times: user 18min 23s, sys: 15 s, total: 18min 38s\n",
      "Wall time: 12min 38s\n"
     ]
    },
    {
     "data": {
      "text/plain": [
       "XGBClassifier(base_score=0.5, booster='gbtree', colsample_bylevel=1,\n",
       "              colsample_bynode=1, colsample_bytree=1, gamma=0, gpu_id=-1,\n",
       "              importance_type='gain', interaction_constraints='',\n",
       "              learning_rate=0.3, max_delta_step=0, max_depth=6,\n",
       "              min_child_weight=2, missing=nan, monotone_constraints='()',\n",
       "              n_estimators=100, n_jobs=4, num_parallel_tree=1, random_state=42,\n",
       "              reg_alpha=0, reg_lambda=1, sampling_method='uniform',\n",
       "              scale_pos_weight=1, subsample=1, tree_method='exact',\n",
       "              validate_parameters=1, verbosity=None)"
      ]
     },
     "execution_count": 175,
     "metadata": {},
     "output_type": "execute_result"
    }
   ],
   "source": [
    "%%time \n",
    "# Fit best model and obtain results.\n",
    "# Constructing the XGBClassifier \n",
    "xgb_model = XGBClassifier(learning_rate = 0.3,\n",
    "                          random_state = 42,\n",
    "                          max_depth = 6,\n",
    "                          min_child_weight = 2,\n",
    "                          sampling_method = 'uniform'\n",
    "                         )\n",
    "# Fitting the XGBClassifier on full dataset.\n",
    "xgb_model.fit(reducedX_training, trainY_response)"
   ]
  },
  {
   "cell_type": "code",
   "execution_count": 176,
   "id": "obvious-latter",
   "metadata": {},
   "outputs": [
    {
     "name": "stderr",
     "output_type": "stream",
     "text": [
      "/usr/local/Cellar/jupyterlab/3.0.9/libexec/lib/python3.9/site-packages/xgboost/data.py:112: UserWarning: Use subset (sliced data) of np.ndarray is not recommended because it will generate extra copies and increase memory consumption\n",
      "  warnings.warn(\n"
     ]
    }
   ],
   "source": [
    "# Predicting values using the test X matrix\n",
    "# we choose the 2nd column of results reducedX_testing is the prob predicted.\n",
    "y_predicted = xgb_model.predict_proba(reducedX_testing)[:,1]\n",
    "# Calling function to write the csv file\n",
    "submit_file['target'] = y_predicted\n",
    "submit_file.to_csv('CV-xgboost.csv')"
   ]
  },
  {
   "cell_type": "markdown",
   "id": "sapphire-malaysia",
   "metadata": {},
   "source": [
    "<font color=\"blue\">Running the above model with the reduced dimensions of 100% feature importance with 434 columns and best parameters from the grid search, we have achieved an accuracy score of **88.521%** which is **0.04% lower** than the XGB Classifier with the full dimensions. <font>"
   ]
  },
  {
   "cell_type": "markdown",
   "id": "cathedral-salon",
   "metadata": {},
   "source": [
    "## [4] Best Model Achieved\n",
    "\n",
    "The best model we have managed to achieve is the **XGBoost Classifier** using the full dimensions of the data provided with an <font color=\"blue\"> **accuracy score of 88.56%** </font>. \n",
    "\n",
    "However, after reducing the dimensions we have managed to get very close accuracy score with the added benefit of decreasing the computational complexity. This being said it would be worth exploring the importance and influence of each covariate with our predicting target more in depth."
   ]
  },
  {
   "cell_type": "markdown",
   "id": "spatial-wholesale",
   "metadata": {},
   "source": [
    "## [5] Exploring Covariate Importance \n",
    "\n",
    "Even thought by decreasing the dimensions of the dataset we achieve a lower accuracy score. We manage to decrease the computational complexity in a large scale. This could be beneficial in terms of computational cost and in data collection cost. If it's expensice to collect all these dimensions of data, it might be worth reducing the dimensions in the data collection for a small cost of accuracy.\n",
    "We will explore this in more detail now, we will read in the data in again of its beginning state and create a function that wrangles the data in the appropriate structure to train our classifier.\n",
    "\n",
    "### Data Wrangle "
   ]
  },
  {
   "cell_type": "code",
   "execution_count": 13,
   "id": "sweet-business",
   "metadata": {},
   "outputs": [],
   "source": [
    "# Reading in the training and testing set already provided.\n",
    "training_data = pd.read_csv(\"data/train.csv\")\n",
    "testing_data = pd.read_csv(\"data/test.csv\")\n",
    "submit_file = pd.read_csv(\"data/sample_submission.csv\", index_col='id')\n",
    "\n",
    "# Isolating the response value.\n",
    "trainY_response = training_data['target'].copy()\n",
    "\n",
    "# Dropping the values not needed in the datasets\n",
    "# From training = [targer, id]\n",
    "# From tesitng = [id]\n",
    "training_data.drop('target', axis = 1, inplace = True)\n",
    "testing_data.drop('id', axis = 1, inplace = True)"
   ]
  },
  {
   "cell_type": "code",
   "execution_count": 14,
   "id": "thrown-philadelphia",
   "metadata": {},
   "outputs": [],
   "source": [
    "### FUNCTION that one hot encodes the 2 datasets together.\n",
    "## Merged dataset will be send and it will be returned 1-Hot-Encoded\n",
    "def find_one_encoder(train, test):\n",
    "    ## MERGED DATA\n",
    "    # This will concatenate the test data rows below the train data\n",
    "    # The first 300K rows will be the train.\n",
    "    # The last 200K rows will be the testing.\n",
    "    merged_encoder = pd.concat([train, test])\n",
    "\n",
    "\n",
    "    # Using get_dummies() which is the same thing as 1-hot-encoder but ignores numerical values.\n",
    "    merged_encoder = pd.get_dummies(merged_encoder)\n",
    "    return(merged_encoder)"
   ]
  },
  {
   "cell_type": "markdown",
   "id": "solar-flash",
   "metadata": {},
   "source": [
    "From the above results in [3.4] we obtained the whole covariate importance and produced a sorted table with them. Below we are creating filter sets, that will allow us to subsample our full data into smaller chunks. Each subsample chunk will hold the N most important covariates. These chunks will then be used in association with our best classifying model 'XGBoost Classifier' to predict our desired target."
   ]
  },
  {
   "cell_type": "code",
   "execution_count": 15,
   "id": "graduate-concrete",
   "metadata": {},
   "outputs": [],
   "source": [
    "# Taking the top most important covariates in arrays.\n",
    "top5 = ['cat16','cont5', 'cont1', 'cont6', 'cont4']\n",
    "top10 = ['cat16','cont5', 'cont1', 'cont6', 'cont4', 'cont2', 'cont3','cont8', 'cont9', 'cont10']\n",
    "top15 = ['cat16','cont5', 'cont1', 'cont6', 'cont4', 'cont2', 'cont3','cont8', 'cont9', 'cont10', 'cont0', 'cont7',\n",
    "        'cat7','cat10', 'cat8' ] \n",
    "top20 = ['cat16','cont5', 'cont1', 'cont6', 'cont4', 'cont2', 'cont3','cont8', 'cont9', 'cont10', 'cont0', 'cont7',\n",
    "        'cat7','cat10', 'cat8', 'cat1','cat18','cat2','cat0','cat15'] \n",
    "top25 = ['cat16','cont5', 'cont1', 'cont6', 'cont4', 'cont2', 'cont3','cont8', 'cont9', 'cont10', 'cont0', 'cont7',\n",
    "        'cat7','cat10', 'cat8', 'cat1','cat18','cat2','cat0','cat15','cat14','cat4', 'cat6','cat9', 'cat3']"
   ]
  },
  {
   "cell_type": "markdown",
   "id": "dated-bargain",
   "metadata": {},
   "source": [
    "We will now subset our full data into the smaller chunks using the above filter sets."
   ]
  },
  {
   "cell_type": "code",
   "execution_count": 16,
   "id": "hourly-durham",
   "metadata": {},
   "outputs": [],
   "source": [
    "# Subseting data to top5 cov\n",
    "training_5 = training_data[top5].copy()\n",
    "testing_5 = testing_data[top5].copy()\n",
    "\n",
    "# Subseting data to top10 cov\n",
    "training_10 = training_data[top10].copy()\n",
    "testing_10 = testing_data[top10].copy()\n",
    "\n",
    "# Subseting data to top15 cov\n",
    "training_15 = training_data[top15].copy()\n",
    "testing_15 = testing_data[top15].copy()\n",
    "\n",
    "# Subseting data to top20 cov\n",
    "training_20 = training_data[top20].copy()\n",
    "testing_20 = testing_data[top20].copy()\n",
    "\n",
    "# Subseting to top25 cov\n",
    "training_25 = training_data[top25].copy()\n",
    "testing_25 = testing_data[top25].copy()"
   ]
  },
  {
   "cell_type": "markdown",
   "id": "friendly-nation",
   "metadata": {},
   "source": [
    "###  Start trainign XGBoost with different datasets\n",
    "\n",
    "### For top 5 Covariates"
   ]
  },
  {
   "cell_type": "code",
   "execution_count": 18,
   "id": "gross-point",
   "metadata": {},
   "outputs": [
    {
     "name": "stderr",
     "output_type": "stream",
     "text": [
      "/usr/local/Cellar/jupyterlab/3.0.9/libexec/lib/python3.9/site-packages/xgboost/sklearn.py:1146: UserWarning: The use of label encoder in XGBClassifier is deprecated and will be removed in a future release. To remove this warning, do the following: 1) Pass option use_label_encoder=False when constructing XGBClassifier object; and 2) Encode your labels (y) as integers starting with 0, i.e. 0, 1, 2, ..., [num_class - 1].\n",
      "  warnings.warn(label_encoder_deprecation_msg, UserWarning)\n"
     ]
    },
    {
     "name": "stdout",
     "output_type": "stream",
     "text": [
      "[16:23:02] WARNING: /Users/travis/build/dmlc/xgboost/src/learner.cc:1095: Starting in XGBoost 1.3.0, the default evaluation metric used with the objective 'binary:logistic' was changed from 'error' to 'logloss'. Explicitly set eval_metric if you'd like to restore the old behavior.\n",
      "CPU times: user 1min 6s, sys: 851 ms, total: 1min 7s\n",
      "Wall time: 25.8 s\n"
     ]
    },
    {
     "data": {
      "text/plain": [
       "XGBClassifier(base_score=0.5, booster='gbtree', colsample_bylevel=1,\n",
       "              colsample_bynode=1, colsample_bytree=1, gamma=0, gpu_id=-1,\n",
       "              importance_type='gain', interaction_constraints='',\n",
       "              learning_rate=0.300000012, max_delta_step=0, max_depth=6,\n",
       "              min_child_weight=1, missing=nan, monotone_constraints='()',\n",
       "              n_estimators=100, n_jobs=4, num_parallel_tree=1, random_state=42,\n",
       "              reg_alpha=0, reg_lambda=1, scale_pos_weight=1, subsample=1,\n",
       "              tree_method='exact', validate_parameters=1, verbosity=None)"
      ]
     },
     "execution_count": 18,
     "metadata": {},
     "output_type": "execute_result"
    }
   ],
   "source": [
    "%%time\n",
    "# First 300K rows is our training set.\n",
    "top5_train_X_data = find_one_encoder(training_5,testing_5).iloc[:300000,:]\n",
    "# Last 200K rows is our testing set.\n",
    "top5_test_X_data = find_one_encoder(training_5,testing_5).iloc[300000:,:]\n",
    " \n",
    "# Constructing the XGBClassifier \n",
    "xgb_model = XGBClassifier(random_state = 42)\n",
    "# Fitting the XGBClassifier on full dataset.\n",
    "xgb_model.fit(top5_train_X_data, trainY_response)"
   ]
  },
  {
   "cell_type": "code",
   "execution_count": null,
   "id": "intelligent-patch",
   "metadata": {},
   "outputs": [],
   "source": [
    "# Predicting values using the test X matrix\n",
    "y_predicted = xgb_model.predict_proba(top5_test_X_data)[:,1]\n",
    "# Calling function to write the csv file\n",
    "submit_file['target'] = y_predicted\n",
    "submit_file.to_csv('top5-xgboost.csv')"
   ]
  },
  {
   "cell_type": "markdown",
   "id": "smaller-diamond",
   "metadata": {},
   "source": [
    "**Accuracy Score from Kaggle = 84.741%**\n",
    "### For top 10 Covariates"
   ]
  },
  {
   "cell_type": "code",
   "execution_count": 19,
   "id": "radical-harbor",
   "metadata": {},
   "outputs": [
    {
     "name": "stdout",
     "output_type": "stream",
     "text": [
      "[16:23:44] WARNING: /Users/travis/build/dmlc/xgboost/src/learner.cc:1095: Starting in XGBoost 1.3.0, the default evaluation metric used with the objective 'binary:logistic' was changed from 'error' to 'logloss'. Explicitly set eval_metric if you'd like to restore the old behavior.\n",
      "CPU times: user 2min 5s, sys: 1.41 s, total: 2min 6s\n",
      "Wall time: 47.2 s\n"
     ]
    },
    {
     "data": {
      "text/plain": [
       "XGBClassifier(base_score=0.5, booster='gbtree', colsample_bylevel=1,\n",
       "              colsample_bynode=1, colsample_bytree=1, gamma=0, gpu_id=-1,\n",
       "              importance_type='gain', interaction_constraints='',\n",
       "              learning_rate=0.300000012, max_delta_step=0, max_depth=6,\n",
       "              min_child_weight=1, missing=nan, monotone_constraints='()',\n",
       "              n_estimators=100, n_jobs=4, num_parallel_tree=1, random_state=42,\n",
       "              reg_alpha=0, reg_lambda=1, scale_pos_weight=1, subsample=1,\n",
       "              tree_method='exact', validate_parameters=1, verbosity=None)"
      ]
     },
     "execution_count": 19,
     "metadata": {},
     "output_type": "execute_result"
    }
   ],
   "source": [
    "%%time\n",
    "# First 300K rows is our training set.\n",
    "top10_train_X_data = find_one_encoder(training_10.copy(),testing_10.copy()).iloc[:300000,:]\n",
    "# Last 200K rows is our testing set.\n",
    "top10_test_X_data = find_one_encoder(training_10.copy(),testing_10.copy()).iloc[300000:,:]\n",
    " \n",
    "# Constructing the XGBClassifier \n",
    "xgb_model = XGBClassifier(random_state = 42)\n",
    "# Fitting the XGBClassifier on full dataset.\n",
    "xgb_model.fit(top10_train_X_data, trainY_response)"
   ]
  },
  {
   "cell_type": "code",
   "execution_count": null,
   "id": "analyzed-india",
   "metadata": {},
   "outputs": [],
   "source": [
    "# Predicting values using the test X matrix\n",
    "y_predicted = xgb_model.predict_proba(top10_test_X_data)[:,1]\n",
    "# Calling function to write the csv file\n",
    "submit_file['target'] = y_predicted\n",
    "submit_file.to_csv('top10-xgboost.csv')"
   ]
  },
  {
   "cell_type": "markdown",
   "id": "concrete-format",
   "metadata": {},
   "source": [
    "**Accuracy Score from Kaggle = 85.562%**\n",
    "### For top 15 Covariates"
   ]
  },
  {
   "cell_type": "code",
   "execution_count": 20,
   "id": "female-dispatch",
   "metadata": {},
   "outputs": [
    {
     "name": "stdout",
     "output_type": "stream",
     "text": [
      "[16:24:47] WARNING: /Users/travis/build/dmlc/xgboost/src/learner.cc:1095: Starting in XGBoost 1.3.0, the default evaluation metric used with the objective 'binary:logistic' was changed from 'error' to 'logloss'. Explicitly set eval_metric if you'd like to restore the old behavior.\n",
      "CPU times: user 17min 33s, sys: 10.4 s, total: 17min 43s\n",
      "Wall time: 6min 44s\n"
     ]
    },
    {
     "data": {
      "text/plain": [
       "XGBClassifier(base_score=0.5, booster='gbtree', colsample_bylevel=1,\n",
       "              colsample_bynode=1, colsample_bytree=1, gamma=0, gpu_id=-1,\n",
       "              importance_type='gain', interaction_constraints='',\n",
       "              learning_rate=0.300000012, max_delta_step=0, max_depth=6,\n",
       "              min_child_weight=1, missing=nan, monotone_constraints='()',\n",
       "              n_estimators=100, n_jobs=4, num_parallel_tree=1, random_state=42,\n",
       "              reg_alpha=0, reg_lambda=1, scale_pos_weight=1, subsample=1,\n",
       "              tree_method='exact', validate_parameters=1, verbosity=None)"
      ]
     },
     "execution_count": 20,
     "metadata": {},
     "output_type": "execute_result"
    }
   ],
   "source": [
    "%%time\n",
    "# First 300K rows is our training set.\n",
    "top15_train_X_data = find_one_encoder(training_15.copy(),testing_15.copy()).iloc[:300000,:]\n",
    "# Last 200K rows is our testing set.\n",
    "top15_test_X_data = find_one_encoder(training_15.copy(),testing_15.copy()).iloc[300000:,:]\n",
    " \n",
    "# Constructing the XGBClassifier \n",
    "xgb_model = XGBClassifier(random_state = 42)\n",
    "# Fitting the XGBClassifier on full dataset.\n",
    "xgb_model.fit(top15_train_X_data, trainY_response)"
   ]
  },
  {
   "cell_type": "code",
   "execution_count": null,
   "id": "specialized-pennsylvania",
   "metadata": {},
   "outputs": [],
   "source": [
    "# Predicting values using the test X matrix\n",
    "y_predicted = xgb_model.predict_proba(top15_test_X_data)[:,1]\n",
    "# Calling function to write the csv file\n",
    "submit_file['target'] = y_predicted\n",
    "submit_file.to_csv('top15-xgboost.csv')"
   ]
  },
  {
   "cell_type": "markdown",
   "id": "foreign-theme",
   "metadata": {},
   "source": [
    "**Accuracy Score from Kaggle = 86.683%**\n",
    "### For top 20 Covariates"
   ]
  },
  {
   "cell_type": "code",
   "execution_count": 22,
   "id": "equipped-hobby",
   "metadata": {},
   "outputs": [
    {
     "name": "stdout",
     "output_type": "stream",
     "text": [
      "[16:37:39] WARNING: /Users/travis/build/dmlc/xgboost/src/learner.cc:1095: Starting in XGBoost 1.3.0, the default evaluation metric used with the objective 'binary:logistic' was changed from 'error' to 'logloss'. Explicitly set eval_metric if you'd like to restore the old behavior.\n",
      "CPU times: user 20min 11s, sys: 6.54 s, total: 20min 18s\n",
      "Wall time: 6min 6s\n"
     ]
    },
    {
     "data": {
      "text/plain": [
       "XGBClassifier(base_score=0.5, booster='gbtree', colsample_bylevel=1,\n",
       "              colsample_bynode=1, colsample_bytree=1, gamma=0, gpu_id=-1,\n",
       "              importance_type='gain', interaction_constraints='',\n",
       "              learning_rate=0.300000012, max_delta_step=0, max_depth=6,\n",
       "              min_child_weight=1, missing=nan, monotone_constraints='()',\n",
       "              n_estimators=100, n_jobs=4, num_parallel_tree=1, random_state=42,\n",
       "              reg_alpha=0, reg_lambda=1, scale_pos_weight=1, subsample=1,\n",
       "              tree_method='exact', validate_parameters=1, verbosity=None)"
      ]
     },
     "execution_count": 22,
     "metadata": {},
     "output_type": "execute_result"
    }
   ],
   "source": [
    "%%time\n",
    "# First 300K rows is our training set.\n",
    "top20_train_X_data = find_one_encoder(training_20.copy(),testing_20.copy()).iloc[:300000,:]\n",
    "# Last 200K rows is our testing set.\n",
    "top20_test_X_data = find_one_encoder(training_20.copy(),testing_20.copy()).iloc[300000:,:]\n",
    " \n",
    "# Constructing the XGBClassifier \n",
    "xgb_model = XGBClassifier(random_state = 42)\n",
    "# Fitting the XGBClassifier on full dataset.\n",
    "xgb_model.fit(top20_train_X_data, trainY_response)"
   ]
  },
  {
   "cell_type": "code",
   "execution_count": null,
   "id": "continuous-biology",
   "metadata": {},
   "outputs": [],
   "source": [
    "# Predicting values using the test X matrix\n",
    "y_predicted = xgb_model.predict_proba(top20_test_X_data)[:,1]\n",
    "# Calling function to write the csv file\n",
    "submit_file['target'] = y_predicted\n",
    "submit_file.to_csv('top20-xgboost.csv')"
   ]
  },
  {
   "cell_type": "markdown",
   "id": "working-return",
   "metadata": {},
   "source": [
    "**Accuracy Score from Kaggle = 88.104%**\n",
    "### For top 25 Covariates"
   ]
  },
  {
   "cell_type": "code",
   "execution_count": 23,
   "id": "thrown-overall",
   "metadata": {},
   "outputs": [
    {
     "name": "stdout",
     "output_type": "stream",
     "text": [
      "[16:43:48] WARNING: /Users/travis/build/dmlc/xgboost/src/learner.cc:1095: Starting in XGBoost 1.3.0, the default evaluation metric used with the objective 'binary:logistic' was changed from 'error' to 'logloss'. Explicitly set eval_metric if you'd like to restore the old behavior.\n",
      "CPU times: user 23min 3s, sys: 8.95 s, total: 23min 12s\n",
      "Wall time: 6min 45s\n"
     ]
    },
    {
     "data": {
      "text/plain": [
       "XGBClassifier(base_score=0.5, booster='gbtree', colsample_bylevel=1,\n",
       "              colsample_bynode=1, colsample_bytree=1, gamma=0, gpu_id=-1,\n",
       "              importance_type='gain', interaction_constraints='',\n",
       "              learning_rate=0.300000012, max_delta_step=0, max_depth=6,\n",
       "              min_child_weight=1, missing=nan, monotone_constraints='()',\n",
       "              n_estimators=100, n_jobs=4, num_parallel_tree=1, random_state=42,\n",
       "              reg_alpha=0, reg_lambda=1, scale_pos_weight=1, subsample=1,\n",
       "              tree_method='exact', validate_parameters=1, verbosity=None)"
      ]
     },
     "execution_count": 23,
     "metadata": {},
     "output_type": "execute_result"
    }
   ],
   "source": [
    "%%time\n",
    "# First 300K rows is our training set.\n",
    "top25_train_X_data = find_one_encoder(training_25.copy(),testing_25.copy()).iloc[:300000,:]\n",
    "# Last 200K rows is our testing set.\n",
    "top25_test_X_data = find_one_encoder(training_25.copy(),testing_25.copy()).iloc[300000:,:]\n",
    " \n",
    "# Constructing the XGBClassifier \n",
    "xgb_model = XGBClassifier(random_state = 42)\n",
    "# Fitting the XGBClassifier on full dataset.\n",
    "xgb_model.fit(top25_train_X_data, trainY_response)"
   ]
  },
  {
   "cell_type": "code",
   "execution_count": null,
   "id": "serial-vinyl",
   "metadata": {},
   "outputs": [],
   "source": [
    "# Predicting values using the test X matrix\n",
    "y_predicted = xgb_model.predict_proba(top25_test_X_data)[:,1]\n",
    "# Calling function to write the csv file\n",
    "submit_file['target'] = y_predicted\n",
    "submit_file.to_csv('top25-xgboost.csv')"
   ]
  },
  {
   "cell_type": "markdown",
   "id": "large-understanding",
   "metadata": {},
   "source": [
    "**Accuracy Score from Kaggle = 88.357%**\n",
    "### For top 30 Covariates"
   ]
  },
  {
   "cell_type": "code",
   "execution_count": null,
   "id": "broadband-fitting",
   "metadata": {},
   "outputs": [],
   "source": [
    "%%time \n",
    "# Constructing the XGBClassifier \n",
    "xgb_model = XGBClassifier(random_state = 42)\n",
    "# Fitting the XGBClassifier on full dataset.\n",
    "xgb_model.fit(full_train_X_data, trainY_response)"
   ]
  },
  {
   "cell_type": "code",
   "execution_count": null,
   "id": "industrial-blame",
   "metadata": {},
   "outputs": [],
   "source": [
    "# Predicting values using the test X matrix\n",
    "y_predicted = xgb_model.predict_proba(full_test_X_data)[:,1]\n",
    "# Calling function to write the csv file\n",
    "submit_file['target'] = y_predicted\n",
    "submit_file.to_csv('top30-xgboost.csv')"
   ]
  },
  {
   "cell_type": "markdown",
   "id": "palestinian-passenger",
   "metadata": {},
   "source": [
    "**Accuracy Score from Kaggle = 88.564%**\n",
    "### Plotting the results"
   ]
  },
  {
   "cell_type": "code",
   "execution_count": 24,
   "id": "synthetic-terror",
   "metadata": {},
   "outputs": [
    {
     "data": {
      "image/png": "[encoded data removed]",
      "text/plain": [
       "<Figure size 432x288 with 1 Axes>"
      ]
     },
     "metadata": {
      "needs_background": "light"
     },
     "output_type": "display_data"
    }
   ],
   "source": [
    "# Putting results in data frame to plot the trade-off.\n",
    "data = {'Number Of Covariates':  [5, 10, 15, 20, 25, 30],\n",
    "        'Accuracy Score': [84.741, 85.562, 86.683, 88.104, 88.357,88.564]\n",
    "        }\n",
    "\n",
    "trade_off = pd.DataFrame (data, columns = ['Number Of Covariates','Accuracy Score'])\n",
    "\n",
    "# Plotting data\n",
    "trade_off_plot = sns.lineplot(data=trade_off, x=\"Number Of Covariates\", y=\"Accuracy Score\")\n",
    "trade_off_plot.set_title(\"Number covariate-accuracy tradeoff\")\n",
    "# Saving plot (IF you want to save, uncomment the next two lines.)\n",
    "# figure_save = trade_off_plot.get_figure()\n",
    "# figure_save.savefig(\"trade-off.png\")\n",
    "\n",
    "# Previewing plot\n",
    "plt.show()"
   ]
  },
  {
   "cell_type": "markdown",
   "id": "breathing-victory",
   "metadata": {},
   "source": [
    "From the above plot, we can conclude that every single covariate has information to offer that allows us to predict with higher accuracy. However the final 10 covariates bring only an extra of 0.4% accuracy. If the following covariates are very expensive to collect:\n",
    " \n",
    " 1. cat14\n",
    " 2. cat4\n",
    " 3. cat6\n",
    " 4. cat9\n",
    " 5. cat3\n",
    " 6. cat11\n",
    " 7. cat17\n",
    " 8. cat5\n",
    " 9. cat12\n",
    " 10. cat13\n",
    " \n",
    "From the result table obtained in [3.4] we see the last 7 important covariates [cat9 - cat13] do not constribute even 1% in our prediction importance. With all these being said, by ommiting these dimensios from the data collection could benefit in the financial cost of the company.\n",
    " "
   ]
  }
 ],
 "metadata": {
  "kernelspec": {
   "display_name": "Python 3",
   "language": "python",
   "name": "python3"
  },
  "language_info": {
   "codemirror_mode": {
    "name": "ipython",
    "version": 3
   },
   "file_extension": ".py",
   "mimetype": "text/x-python",
   "name": "python",
   "nbconvert_exporter": "python",
   "pygments_lexer": "ipython3",
   "version": "3.9.2"
  }
 },
 "nbformat": 4,
 "nbformat_minor": 5
}

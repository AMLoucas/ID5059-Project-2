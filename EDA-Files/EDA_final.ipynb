{
 "cells": [
  {
   "cell_type": "markdown",
   "id": "corrected-jefferson",
   "metadata": {},
   "source": [
    "# Exploratory Data Analysis"
   ]
  },
  {
   "cell_type": "code",
   "execution_count": 1,
   "id": "coupled-witch",
   "metadata": {},
   "outputs": [],
   "source": [
    "#Importing relevant libraries\n",
    "import pandas as pd\n",
    "import numpy as np\n",
    "import matplotlib.pyplot as plt\n",
    "import seaborn as sns"
   ]
  },
  {
   "cell_type": "code",
   "execution_count": 2,
   "id": "official-luther",
   "metadata": {
    "scrolled": true
   },
   "outputs": [],
   "source": [
    "#Importing the training dataset on which performing EDA\n",
    "train_set = pd.read_csv(\"/Users/fede.dicerbo/Desktop/practical2/train.csv\", header=0)"
   ]
  },
  {
   "cell_type": "code",
   "execution_count": 3,
   "id": "offensive-greene",
   "metadata": {},
   "outputs": [
    {
     "data": {
      "text/html": [
       "<div>\n",
       "<style scoped>\n",
       "    .dataframe tbody tr th:only-of-type {\n",
       "        vertical-align: middle;\n",
       "    }\n",
       "\n",
       "    .dataframe tbody tr th {\n",
       "        vertical-align: top;\n",
       "    }\n",
       "\n",
       "    .dataframe thead th {\n",
       "        text-align: right;\n",
       "    }\n",
       "</style>\n",
       "<table border=\"1\" class=\"dataframe\">\n",
       "  <thead>\n",
       "    <tr style=\"text-align: right;\">\n",
       "      <th></th>\n",
       "      <th>id</th>\n",
       "      <th>cat0</th>\n",
       "      <th>cat1</th>\n",
       "      <th>cat2</th>\n",
       "      <th>cat3</th>\n",
       "      <th>cat4</th>\n",
       "      <th>cat5</th>\n",
       "      <th>cat6</th>\n",
       "      <th>cat7</th>\n",
       "      <th>cat8</th>\n",
       "      <th>...</th>\n",
       "      <th>cont2</th>\n",
       "      <th>cont3</th>\n",
       "      <th>cont4</th>\n",
       "      <th>cont5</th>\n",
       "      <th>cont6</th>\n",
       "      <th>cont7</th>\n",
       "      <th>cont8</th>\n",
       "      <th>cont9</th>\n",
       "      <th>cont10</th>\n",
       "      <th>target</th>\n",
       "    </tr>\n",
       "  </thead>\n",
       "  <tbody>\n",
       "    <tr>\n",
       "      <th>0</th>\n",
       "      <td>0</td>\n",
       "      <td>A</td>\n",
       "      <td>I</td>\n",
       "      <td>A</td>\n",
       "      <td>B</td>\n",
       "      <td>B</td>\n",
       "      <td>BI</td>\n",
       "      <td>A</td>\n",
       "      <td>S</td>\n",
       "      <td>Q</td>\n",
       "      <td>...</td>\n",
       "      <td>0.759439</td>\n",
       "      <td>0.795549</td>\n",
       "      <td>0.681917</td>\n",
       "      <td>0.621672</td>\n",
       "      <td>0.592184</td>\n",
       "      <td>0.791921</td>\n",
       "      <td>0.815254</td>\n",
       "      <td>0.965006</td>\n",
       "      <td>0.665915</td>\n",
       "      <td>0</td>\n",
       "    </tr>\n",
       "    <tr>\n",
       "      <th>1</th>\n",
       "      <td>1</td>\n",
       "      <td>A</td>\n",
       "      <td>I</td>\n",
       "      <td>A</td>\n",
       "      <td>A</td>\n",
       "      <td>E</td>\n",
       "      <td>BI</td>\n",
       "      <td>K</td>\n",
       "      <td>W</td>\n",
       "      <td>AD</td>\n",
       "      <td>...</td>\n",
       "      <td>0.386385</td>\n",
       "      <td>0.541366</td>\n",
       "      <td>0.388982</td>\n",
       "      <td>0.357778</td>\n",
       "      <td>0.600044</td>\n",
       "      <td>0.408701</td>\n",
       "      <td>0.399353</td>\n",
       "      <td>0.927406</td>\n",
       "      <td>0.493729</td>\n",
       "      <td>0</td>\n",
       "    </tr>\n",
       "    <tr>\n",
       "      <th>2</th>\n",
       "      <td>2</td>\n",
       "      <td>A</td>\n",
       "      <td>K</td>\n",
       "      <td>A</td>\n",
       "      <td>A</td>\n",
       "      <td>E</td>\n",
       "      <td>BI</td>\n",
       "      <td>A</td>\n",
       "      <td>E</td>\n",
       "      <td>BM</td>\n",
       "      <td>...</td>\n",
       "      <td>0.343255</td>\n",
       "      <td>0.616352</td>\n",
       "      <td>0.793687</td>\n",
       "      <td>0.552877</td>\n",
       "      <td>0.352113</td>\n",
       "      <td>0.388835</td>\n",
       "      <td>0.412303</td>\n",
       "      <td>0.292696</td>\n",
       "      <td>0.549452</td>\n",
       "      <td>0</td>\n",
       "    </tr>\n",
       "    <tr>\n",
       "      <th>3</th>\n",
       "      <td>3</td>\n",
       "      <td>A</td>\n",
       "      <td>K</td>\n",
       "      <td>A</td>\n",
       "      <td>C</td>\n",
       "      <td>E</td>\n",
       "      <td>BI</td>\n",
       "      <td>A</td>\n",
       "      <td>Y</td>\n",
       "      <td>AD</td>\n",
       "      <td>...</td>\n",
       "      <td>0.831147</td>\n",
       "      <td>0.807807</td>\n",
       "      <td>0.800032</td>\n",
       "      <td>0.619147</td>\n",
       "      <td>0.221789</td>\n",
       "      <td>0.897617</td>\n",
       "      <td>0.633669</td>\n",
       "      <td>0.760318</td>\n",
       "      <td>0.934242</td>\n",
       "      <td>0</td>\n",
       "    </tr>\n",
       "    <tr>\n",
       "      <th>4</th>\n",
       "      <td>4</td>\n",
       "      <td>A</td>\n",
       "      <td>I</td>\n",
       "      <td>G</td>\n",
       "      <td>B</td>\n",
       "      <td>E</td>\n",
       "      <td>BI</td>\n",
       "      <td>C</td>\n",
       "      <td>G</td>\n",
       "      <td>Q</td>\n",
       "      <td>...</td>\n",
       "      <td>0.338818</td>\n",
       "      <td>0.277308</td>\n",
       "      <td>0.610578</td>\n",
       "      <td>0.128291</td>\n",
       "      <td>0.578764</td>\n",
       "      <td>0.279167</td>\n",
       "      <td>0.351103</td>\n",
       "      <td>0.357084</td>\n",
       "      <td>0.328960</td>\n",
       "      <td>1</td>\n",
       "    </tr>\n",
       "  </tbody>\n",
       "</table>\n",
       "<p>5 rows × 32 columns</p>\n",
       "</div>"
      ],
      "text/plain": [
       "   id cat0 cat1 cat2 cat3 cat4 cat5 cat6 cat7 cat8  ...     cont2     cont3  \\\n",
       "0   0    A    I    A    B    B   BI    A    S    Q  ...  0.759439  0.795549   \n",
       "1   1    A    I    A    A    E   BI    K    W   AD  ...  0.386385  0.541366   \n",
       "2   2    A    K    A    A    E   BI    A    E   BM  ...  0.343255  0.616352   \n",
       "3   3    A    K    A    C    E   BI    A    Y   AD  ...  0.831147  0.807807   \n",
       "4   4    A    I    G    B    E   BI    C    G    Q  ...  0.338818  0.277308   \n",
       "\n",
       "      cont4     cont5     cont6     cont7     cont8     cont9    cont10 target  \n",
       "0  0.681917  0.621672  0.592184  0.791921  0.815254  0.965006  0.665915      0  \n",
       "1  0.388982  0.357778  0.600044  0.408701  0.399353  0.927406  0.493729      0  \n",
       "2  0.793687  0.552877  0.352113  0.388835  0.412303  0.292696  0.549452      0  \n",
       "3  0.800032  0.619147  0.221789  0.897617  0.633669  0.760318  0.934242      0  \n",
       "4  0.610578  0.128291  0.578764  0.279167  0.351103  0.357084  0.328960      1  \n",
       "\n",
       "[5 rows x 32 columns]"
      ]
     },
     "execution_count": 3,
     "metadata": {},
     "output_type": "execute_result"
    }
   ],
   "source": [
    "train_set.head()"
   ]
  },
  {
   "cell_type": "code",
   "execution_count": 4,
   "id": "noticed-macro",
   "metadata": {
    "scrolled": true
   },
   "outputs": [
    {
     "data": {
      "text/plain": [
       "300000"
      ]
     },
     "execution_count": 4,
     "metadata": {},
     "output_type": "execute_result"
    }
   ],
   "source": [
    "len(train_set)"
   ]
  },
  {
   "cell_type": "markdown",
   "id": "loose-adobe",
   "metadata": {},
   "source": [
    "### EDA for continuous variables"
   ]
  },
  {
   "cell_type": "code",
   "execution_count": 5,
   "id": "concrete-digest",
   "metadata": {
    "scrolled": false
   },
   "outputs": [
    {
     "data": {
      "text/html": [
       "<div>\n",
       "<style scoped>\n",
       "    .dataframe tbody tr th:only-of-type {\n",
       "        vertical-align: middle;\n",
       "    }\n",
       "\n",
       "    .dataframe tbody tr th {\n",
       "        vertical-align: top;\n",
       "    }\n",
       "\n",
       "    .dataframe thead th {\n",
       "        text-align: right;\n",
       "    }\n",
       "</style>\n",
       "<table border=\"1\" class=\"dataframe\">\n",
       "  <thead>\n",
       "    <tr style=\"text-align: right;\">\n",
       "      <th></th>\n",
       "      <th>cont0</th>\n",
       "      <th>cont1</th>\n",
       "      <th>cont2</th>\n",
       "      <th>cont3</th>\n",
       "      <th>cont4</th>\n",
       "      <th>cont5</th>\n",
       "      <th>cont6</th>\n",
       "      <th>cont7</th>\n",
       "      <th>cont8</th>\n",
       "      <th>cont9</th>\n",
       "      <th>cont10</th>\n",
       "    </tr>\n",
       "  </thead>\n",
       "  <tbody>\n",
       "    <tr>\n",
       "      <th>0</th>\n",
       "      <td>0.629858</td>\n",
       "      <td>0.855349</td>\n",
       "      <td>0.759439</td>\n",
       "      <td>0.795549</td>\n",
       "      <td>0.681917</td>\n",
       "      <td>0.621672</td>\n",
       "      <td>0.592184</td>\n",
       "      <td>0.791921</td>\n",
       "      <td>0.815254</td>\n",
       "      <td>0.965006</td>\n",
       "      <td>0.665915</td>\n",
       "    </tr>\n",
       "    <tr>\n",
       "      <th>1</th>\n",
       "      <td>0.370727</td>\n",
       "      <td>0.328929</td>\n",
       "      <td>0.386385</td>\n",
       "      <td>0.541366</td>\n",
       "      <td>0.388982</td>\n",
       "      <td>0.357778</td>\n",
       "      <td>0.600044</td>\n",
       "      <td>0.408701</td>\n",
       "      <td>0.399353</td>\n",
       "      <td>0.927406</td>\n",
       "      <td>0.493729</td>\n",
       "    </tr>\n",
       "    <tr>\n",
       "      <th>2</th>\n",
       "      <td>0.502272</td>\n",
       "      <td>0.322749</td>\n",
       "      <td>0.343255</td>\n",
       "      <td>0.616352</td>\n",
       "      <td>0.793687</td>\n",
       "      <td>0.552877</td>\n",
       "      <td>0.352113</td>\n",
       "      <td>0.388835</td>\n",
       "      <td>0.412303</td>\n",
       "      <td>0.292696</td>\n",
       "      <td>0.549452</td>\n",
       "    </tr>\n",
       "    <tr>\n",
       "      <th>3</th>\n",
       "      <td>0.934242</td>\n",
       "      <td>0.707663</td>\n",
       "      <td>0.831147</td>\n",
       "      <td>0.807807</td>\n",
       "      <td>0.800032</td>\n",
       "      <td>0.619147</td>\n",
       "      <td>0.221789</td>\n",
       "      <td>0.897617</td>\n",
       "      <td>0.633669</td>\n",
       "      <td>0.760318</td>\n",
       "      <td>0.934242</td>\n",
       "    </tr>\n",
       "    <tr>\n",
       "      <th>4</th>\n",
       "      <td>0.254427</td>\n",
       "      <td>0.274514</td>\n",
       "      <td>0.338818</td>\n",
       "      <td>0.277308</td>\n",
       "      <td>0.610578</td>\n",
       "      <td>0.128291</td>\n",
       "      <td>0.578764</td>\n",
       "      <td>0.279167</td>\n",
       "      <td>0.351103</td>\n",
       "      <td>0.357084</td>\n",
       "      <td>0.328960</td>\n",
       "    </tr>\n",
       "  </tbody>\n",
       "</table>\n",
       "</div>"
      ],
      "text/plain": [
       "      cont0     cont1     cont2     cont3     cont4     cont5     cont6  \\\n",
       "0  0.629858  0.855349  0.759439  0.795549  0.681917  0.621672  0.592184   \n",
       "1  0.370727  0.328929  0.386385  0.541366  0.388982  0.357778  0.600044   \n",
       "2  0.502272  0.322749  0.343255  0.616352  0.793687  0.552877  0.352113   \n",
       "3  0.934242  0.707663  0.831147  0.807807  0.800032  0.619147  0.221789   \n",
       "4  0.254427  0.274514  0.338818  0.277308  0.610578  0.128291  0.578764   \n",
       "\n",
       "      cont7     cont8     cont9    cont10  \n",
       "0  0.791921  0.815254  0.965006  0.665915  \n",
       "1  0.408701  0.399353  0.927406  0.493729  \n",
       "2  0.388835  0.412303  0.292696  0.549452  \n",
       "3  0.897617  0.633669  0.760318  0.934242  \n",
       "4  0.279167  0.351103  0.357084  0.328960  "
      ]
     },
     "execution_count": 5,
     "metadata": {},
     "output_type": "execute_result"
    }
   ],
   "source": [
    "#Selecting the relevant columns\n",
    "X_train_cont= train_set[train_set.columns[20:31]]\n",
    "X_train_cont.head()"
   ]
  },
  {
   "cell_type": "code",
   "execution_count": 6,
   "id": "artistic-lawrence",
   "metadata": {},
   "outputs": [
    {
     "data": {
      "image/png": "[encoded data removed]",
      "text/plain": [
       "<Figure size 1152x1440 with 12 Axes>"
      ]
     },
     "metadata": {
      "needs_background": "light"
     },
     "output_type": "display_data"
    }
   ],
   "source": [
    "#A complete overview of the distribution of numerical training features\n",
    "X_train_cont.hist(figsize=(16, 20), bins=50, xlabelsize=8, ylabelsize=8);"
   ]
  },
  {
   "cell_type": "markdown",
   "id": "environmental-monthly",
   "metadata": {},
   "source": [
    "The histograms above show a non-linear distribution for all continuous features. In assessing model fitting, any classifier that relies on linear decision surfaces (i.e. logistic regression classifiers) to get predictions needs to be examined further."
   ]
  },
  {
   "cell_type": "code",
   "execution_count": 7,
   "id": "talented-concert",
   "metadata": {},
   "outputs": [
    {
     "data": {
      "text/plain": [
       "<AxesSubplot:>"
      ]
     },
     "execution_count": 7,
     "metadata": {},
     "output_type": "execute_result"
    },
    {
     "data": {
      "image/png": "[encoded data removed]",
      "text/plain": [
       "<Figure size 648x576 with 1 Axes>"
      ]
     },
     "metadata": {
      "needs_background": "light"
     },
     "output_type": "display_data"
    }
   ],
   "source": [
    "#Checking the incidence of extreme values (outliers)\n",
    "plt.figure(figsize=(9, 8))\n",
    "sns.boxplot(data=X_train_cont, orient=\"h\", palette=\"Set2\")"
   ]
  },
  {
   "cell_type": "markdown",
   "id": "therapeutic-chrome",
   "metadata": {},
   "source": [
    "Summary statistics are used to produce boxplots which help clearly visualize the mean as well as all other relevant percentiles. Any assumption of normality can be ruled out by simply noticing the discrepancy between the mean and the 50th-percentile (median). Variables \"cont8\", \"cont9\" and \"cont10\" are more influenced by outliers than other continuous features. This issue might contribute to biased predictions and negatively affect final remarks."
   ]
  },
  {
   "cell_type": "code",
   "execution_count": 8,
   "id": "induced-gnome",
   "metadata": {},
   "outputs": [
    {
     "data": {
      "text/html": [
       "<div>\n",
       "<style scoped>\n",
       "    .dataframe tbody tr th:only-of-type {\n",
       "        vertical-align: middle;\n",
       "    }\n",
       "\n",
       "    .dataframe tbody tr th {\n",
       "        vertical-align: top;\n",
       "    }\n",
       "\n",
       "    .dataframe thead th {\n",
       "        text-align: right;\n",
       "    }\n",
       "</style>\n",
       "<table border=\"1\" class=\"dataframe\">\n",
       "  <thead>\n",
       "    <tr style=\"text-align: right;\">\n",
       "      <th></th>\n",
       "      <th>cont0</th>\n",
       "      <th>cont1</th>\n",
       "      <th>cont2</th>\n",
       "      <th>cont3</th>\n",
       "      <th>cont4</th>\n",
       "      <th>cont5</th>\n",
       "      <th>cont6</th>\n",
       "      <th>cont7</th>\n",
       "      <th>cont8</th>\n",
       "      <th>cont9</th>\n",
       "      <th>cont10</th>\n",
       "    </tr>\n",
       "  </thead>\n",
       "  <tbody>\n",
       "    <tr>\n",
       "      <th>cont0</th>\n",
       "      <td>1.000</td>\n",
       "      <td>0.474</td>\n",
       "      <td>0.495</td>\n",
       "      <td>0.549</td>\n",
       "      <td>0.156</td>\n",
       "      <td>-0.169</td>\n",
       "      <td>-0.437</td>\n",
       "      <td>0.740</td>\n",
       "      <td>0.368</td>\n",
       "      <td>0.415</td>\n",
       "      <td>0.808</td>\n",
       "    </tr>\n",
       "    <tr>\n",
       "      <th>cont1</th>\n",
       "      <td>0.474</td>\n",
       "      <td>1.000</td>\n",
       "      <td>0.862</td>\n",
       "      <td>0.257</td>\n",
       "      <td>0.134</td>\n",
       "      <td>0.186</td>\n",
       "      <td>0.116</td>\n",
       "      <td>0.581</td>\n",
       "      <td>0.673</td>\n",
       "      <td>0.393</td>\n",
       "      <td>0.471</td>\n",
       "    </tr>\n",
       "    <tr>\n",
       "      <th>cont2</th>\n",
       "      <td>0.495</td>\n",
       "      <td>0.862</td>\n",
       "      <td>1.000</td>\n",
       "      <td>0.287</td>\n",
       "      <td>0.159</td>\n",
       "      <td>0.158</td>\n",
       "      <td>0.067</td>\n",
       "      <td>0.606</td>\n",
       "      <td>0.663</td>\n",
       "      <td>0.399</td>\n",
       "      <td>0.507</td>\n",
       "    </tr>\n",
       "    <tr>\n",
       "      <th>cont3</th>\n",
       "      <td>0.549</td>\n",
       "      <td>0.257</td>\n",
       "      <td>0.287</td>\n",
       "      <td>1.000</td>\n",
       "      <td>0.223</td>\n",
       "      <td>-0.069</td>\n",
       "      <td>-0.430</td>\n",
       "      <td>0.642</td>\n",
       "      <td>0.189</td>\n",
       "      <td>0.383</td>\n",
       "      <td>0.611</td>\n",
       "    </tr>\n",
       "    <tr>\n",
       "      <th>cont4</th>\n",
       "      <td>0.156</td>\n",
       "      <td>0.134</td>\n",
       "      <td>0.159</td>\n",
       "      <td>0.223</td>\n",
       "      <td>1.000</td>\n",
       "      <td>0.038</td>\n",
       "      <td>-0.081</td>\n",
       "      <td>0.232</td>\n",
       "      <td>0.065</td>\n",
       "      <td>0.161</td>\n",
       "      <td>0.208</td>\n",
       "    </tr>\n",
       "    <tr>\n",
       "      <th>cont5</th>\n",
       "      <td>-0.169</td>\n",
       "      <td>0.186</td>\n",
       "      <td>0.158</td>\n",
       "      <td>-0.069</td>\n",
       "      <td>0.038</td>\n",
       "      <td>1.000</td>\n",
       "      <td>0.439</td>\n",
       "      <td>-0.094</td>\n",
       "      <td>0.141</td>\n",
       "      <td>0.121</td>\n",
       "      <td>-0.161</td>\n",
       "    </tr>\n",
       "    <tr>\n",
       "      <th>cont6</th>\n",
       "      <td>-0.437</td>\n",
       "      <td>0.116</td>\n",
       "      <td>0.067</td>\n",
       "      <td>-0.430</td>\n",
       "      <td>-0.081</td>\n",
       "      <td>0.439</td>\n",
       "      <td>1.000</td>\n",
       "      <td>-0.362</td>\n",
       "      <td>0.123</td>\n",
       "      <td>-0.126</td>\n",
       "      <td>-0.443</td>\n",
       "    </tr>\n",
       "    <tr>\n",
       "      <th>cont7</th>\n",
       "      <td>0.740</td>\n",
       "      <td>0.581</td>\n",
       "      <td>0.606</td>\n",
       "      <td>0.642</td>\n",
       "      <td>0.232</td>\n",
       "      <td>-0.094</td>\n",
       "      <td>-0.362</td>\n",
       "      <td>1.000</td>\n",
       "      <td>0.479</td>\n",
       "      <td>0.443</td>\n",
       "      <td>0.775</td>\n",
       "    </tr>\n",
       "    <tr>\n",
       "      <th>cont8</th>\n",
       "      <td>0.368</td>\n",
       "      <td>0.673</td>\n",
       "      <td>0.663</td>\n",
       "      <td>0.189</td>\n",
       "      <td>0.065</td>\n",
       "      <td>0.141</td>\n",
       "      <td>0.123</td>\n",
       "      <td>0.479</td>\n",
       "      <td>1.000</td>\n",
       "      <td>0.293</td>\n",
       "      <td>0.382</td>\n",
       "    </tr>\n",
       "    <tr>\n",
       "      <th>cont9</th>\n",
       "      <td>0.415</td>\n",
       "      <td>0.393</td>\n",
       "      <td>0.399</td>\n",
       "      <td>0.383</td>\n",
       "      <td>0.161</td>\n",
       "      <td>0.121</td>\n",
       "      <td>-0.126</td>\n",
       "      <td>0.443</td>\n",
       "      <td>0.293</td>\n",
       "      <td>1.000</td>\n",
       "      <td>0.453</td>\n",
       "    </tr>\n",
       "    <tr>\n",
       "      <th>cont10</th>\n",
       "      <td>0.808</td>\n",
       "      <td>0.471</td>\n",
       "      <td>0.507</td>\n",
       "      <td>0.611</td>\n",
       "      <td>0.208</td>\n",
       "      <td>-0.161</td>\n",
       "      <td>-0.443</td>\n",
       "      <td>0.775</td>\n",
       "      <td>0.382</td>\n",
       "      <td>0.453</td>\n",
       "      <td>1.000</td>\n",
       "    </tr>\n",
       "  </tbody>\n",
       "</table>\n",
       "</div>"
      ],
      "text/plain": [
       "        cont0  cont1  cont2  cont3  cont4  cont5  cont6  cont7  cont8  cont9  \\\n",
       "cont0   1.000  0.474  0.495  0.549  0.156 -0.169 -0.437  0.740  0.368  0.415   \n",
       "cont1   0.474  1.000  0.862  0.257  0.134  0.186  0.116  0.581  0.673  0.393   \n",
       "cont2   0.495  0.862  1.000  0.287  0.159  0.158  0.067  0.606  0.663  0.399   \n",
       "cont3   0.549  0.257  0.287  1.000  0.223 -0.069 -0.430  0.642  0.189  0.383   \n",
       "cont4   0.156  0.134  0.159  0.223  1.000  0.038 -0.081  0.232  0.065  0.161   \n",
       "cont5  -0.169  0.186  0.158 -0.069  0.038  1.000  0.439 -0.094  0.141  0.121   \n",
       "cont6  -0.437  0.116  0.067 -0.430 -0.081  0.439  1.000 -0.362  0.123 -0.126   \n",
       "cont7   0.740  0.581  0.606  0.642  0.232 -0.094 -0.362  1.000  0.479  0.443   \n",
       "cont8   0.368  0.673  0.663  0.189  0.065  0.141  0.123  0.479  1.000  0.293   \n",
       "cont9   0.415  0.393  0.399  0.383  0.161  0.121 -0.126  0.443  0.293  1.000   \n",
       "cont10  0.808  0.471  0.507  0.611  0.208 -0.161 -0.443  0.775  0.382  0.453   \n",
       "\n",
       "        cont10  \n",
       "cont0    0.808  \n",
       "cont1    0.471  \n",
       "cont2    0.507  \n",
       "cont3    0.611  \n",
       "cont4    0.208  \n",
       "cont5   -0.161  \n",
       "cont6   -0.443  \n",
       "cont7    0.775  \n",
       "cont8    0.382  \n",
       "cont9    0.453  \n",
       "cont10   1.000  "
      ]
     },
     "execution_count": 8,
     "metadata": {},
     "output_type": "execute_result"
    }
   ],
   "source": [
    "#Examining correlation coefficients among numerical variables\n",
    "X_train_cont.corr().round(3)"
   ]
  },
  {
   "cell_type": "code",
   "execution_count": 9,
   "id": "original-fireplace",
   "metadata": {},
   "outputs": [
    {
     "data": {
      "text/plain": [
       "<AxesSubplot:>"
      ]
     },
     "execution_count": 9,
     "metadata": {},
     "output_type": "execute_result"
    },
    {
     "data": {
      "image/png": "[encoded data removed]",
      "text/plain": [
       "<Figure size 648x576 with 2 Axes>"
      ]
     },
     "metadata": {
      "needs_background": "light"
     },
     "output_type": "display_data"
    }
   ],
   "source": [
    "#Showing a lower triangular matrix of correlation coefficients\n",
    "corr = X_train_cont.corr()\n",
    "mask = np.triu(np.ones_like(corr, dtype=bool))\n",
    "cmap = sns.diverging_palette(230, 20, as_cmap=True)\n",
    "plt.figure(figsize=(9, 8))\n",
    "sns.heatmap(corr, mask=mask, cmap=cmap, vmax=.3, center=0, annot=True,\n",
    "            square=True, linewidths=.5, cbar_kws={\"shrink\": .5})"
   ]
  },
  {
   "cell_type": "markdown",
   "id": "boolean-malawi",
   "metadata": {},
   "source": [
    "Our aim is forecasting potential multicollinearity that could arise in model fitting. In fact, it is highly probable to detect collinearity among two features as they are correlated. In this regard, correlation is significantly high (> 0.6) in the following eight mutual cases: cont0-cont7, cont1-cont2, cont1-cont7, cont2-cont7, cont2-cont8, cont3-cont7, cont3-cont10 and cont7-cont10. "
   ]
  },
  {
   "cell_type": "markdown",
   "id": "confused-makeup",
   "metadata": {},
   "source": [
    "### EDA for categorical variables"
   ]
  },
  {
   "cell_type": "code",
   "execution_count": 10,
   "id": "structural-matter",
   "metadata": {
    "scrolled": false
   },
   "outputs": [
    {
     "data": {
      "text/html": [
       "<div>\n",
       "<style scoped>\n",
       "    .dataframe tbody tr th:only-of-type {\n",
       "        vertical-align: middle;\n",
       "    }\n",
       "\n",
       "    .dataframe tbody tr th {\n",
       "        vertical-align: top;\n",
       "    }\n",
       "\n",
       "    .dataframe thead th {\n",
       "        text-align: right;\n",
       "    }\n",
       "</style>\n",
       "<table border=\"1\" class=\"dataframe\">\n",
       "  <thead>\n",
       "    <tr style=\"text-align: right;\">\n",
       "      <th></th>\n",
       "      <th>cat0</th>\n",
       "      <th>cat1</th>\n",
       "      <th>cat2</th>\n",
       "      <th>cat3</th>\n",
       "      <th>cat4</th>\n",
       "      <th>cat5</th>\n",
       "      <th>cat6</th>\n",
       "      <th>cat7</th>\n",
       "      <th>cat8</th>\n",
       "      <th>cat9</th>\n",
       "      <th>cat10</th>\n",
       "      <th>cat11</th>\n",
       "      <th>cat12</th>\n",
       "      <th>cat13</th>\n",
       "      <th>cat14</th>\n",
       "      <th>cat15</th>\n",
       "      <th>cat16</th>\n",
       "      <th>cat17</th>\n",
       "      <th>cat18</th>\n",
       "    </tr>\n",
       "  </thead>\n",
       "  <tbody>\n",
       "    <tr>\n",
       "      <th>0</th>\n",
       "      <td>A</td>\n",
       "      <td>I</td>\n",
       "      <td>A</td>\n",
       "      <td>B</td>\n",
       "      <td>B</td>\n",
       "      <td>BI</td>\n",
       "      <td>A</td>\n",
       "      <td>S</td>\n",
       "      <td>Q</td>\n",
       "      <td>A</td>\n",
       "      <td>LO</td>\n",
       "      <td>A</td>\n",
       "      <td>A</td>\n",
       "      <td>A</td>\n",
       "      <td>A</td>\n",
       "      <td>B</td>\n",
       "      <td>D</td>\n",
       "      <td>D</td>\n",
       "      <td>B</td>\n",
       "    </tr>\n",
       "    <tr>\n",
       "      <th>1</th>\n",
       "      <td>A</td>\n",
       "      <td>I</td>\n",
       "      <td>A</td>\n",
       "      <td>A</td>\n",
       "      <td>E</td>\n",
       "      <td>BI</td>\n",
       "      <td>K</td>\n",
       "      <td>W</td>\n",
       "      <td>AD</td>\n",
       "      <td>F</td>\n",
       "      <td>HJ</td>\n",
       "      <td>A</td>\n",
       "      <td>B</td>\n",
       "      <td>A</td>\n",
       "      <td>B</td>\n",
       "      <td>D</td>\n",
       "      <td>B</td>\n",
       "      <td>D</td>\n",
       "      <td>B</td>\n",
       "    </tr>\n",
       "    <tr>\n",
       "      <th>2</th>\n",
       "      <td>A</td>\n",
       "      <td>K</td>\n",
       "      <td>A</td>\n",
       "      <td>A</td>\n",
       "      <td>E</td>\n",
       "      <td>BI</td>\n",
       "      <td>A</td>\n",
       "      <td>E</td>\n",
       "      <td>BM</td>\n",
       "      <td>L</td>\n",
       "      <td>DJ</td>\n",
       "      <td>A</td>\n",
       "      <td>B</td>\n",
       "      <td>A</td>\n",
       "      <td>A</td>\n",
       "      <td>B</td>\n",
       "      <td>D</td>\n",
       "      <td>D</td>\n",
       "      <td>B</td>\n",
       "    </tr>\n",
       "    <tr>\n",
       "      <th>3</th>\n",
       "      <td>A</td>\n",
       "      <td>K</td>\n",
       "      <td>A</td>\n",
       "      <td>C</td>\n",
       "      <td>E</td>\n",
       "      <td>BI</td>\n",
       "      <td>A</td>\n",
       "      <td>Y</td>\n",
       "      <td>AD</td>\n",
       "      <td>F</td>\n",
       "      <td>KV</td>\n",
       "      <td>A</td>\n",
       "      <td>A</td>\n",
       "      <td>A</td>\n",
       "      <td>A</td>\n",
       "      <td>B</td>\n",
       "      <td>D</td>\n",
       "      <td>D</td>\n",
       "      <td>B</td>\n",
       "    </tr>\n",
       "    <tr>\n",
       "      <th>4</th>\n",
       "      <td>A</td>\n",
       "      <td>I</td>\n",
       "      <td>G</td>\n",
       "      <td>B</td>\n",
       "      <td>E</td>\n",
       "      <td>BI</td>\n",
       "      <td>C</td>\n",
       "      <td>G</td>\n",
       "      <td>Q</td>\n",
       "      <td>A</td>\n",
       "      <td>DP</td>\n",
       "      <td>A</td>\n",
       "      <td>A</td>\n",
       "      <td>A</td>\n",
       "      <td>B</td>\n",
       "      <td>B</td>\n",
       "      <td>B</td>\n",
       "      <td>D</td>\n",
       "      <td>B</td>\n",
       "    </tr>\n",
       "  </tbody>\n",
       "</table>\n",
       "</div>"
      ],
      "text/plain": [
       "  cat0 cat1 cat2 cat3 cat4 cat5 cat6 cat7 cat8 cat9 cat10 cat11 cat12 cat13  \\\n",
       "0    A    I    A    B    B   BI    A    S    Q    A    LO     A     A     A   \n",
       "1    A    I    A    A    E   BI    K    W   AD    F    HJ     A     B     A   \n",
       "2    A    K    A    A    E   BI    A    E   BM    L    DJ     A     B     A   \n",
       "3    A    K    A    C    E   BI    A    Y   AD    F    KV     A     A     A   \n",
       "4    A    I    G    B    E   BI    C    G    Q    A    DP     A     A     A   \n",
       "\n",
       "  cat14 cat15 cat16 cat17 cat18  \n",
       "0     A     B     D     D     B  \n",
       "1     B     D     B     D     B  \n",
       "2     A     B     D     D     B  \n",
       "3     A     B     D     D     B  \n",
       "4     B     B     B     D     B  "
      ]
     },
     "execution_count": 10,
     "metadata": {},
     "output_type": "execute_result"
    }
   ],
   "source": [
    "#Selecting the relevant columns\n",
    "X_train_cat= train_set[train_set.columns[1:20]]\n",
    "X_train_cat.head()"
   ]
  },
  {
   "cell_type": "markdown",
   "id": "informal-citizenship",
   "metadata": {},
   "source": [
    "We proceed below by exploring 18 categorical features included in the training dataset. \n",
    "Firstly, we display the number of levels (\"unique\") in each column and the \"predominant\" - notably the most frequent -  class together with its frequency to be compared with the total number of observations (300,000)."
   ]
  },
  {
   "cell_type": "code",
   "execution_count": 11,
   "id": "colored-agenda",
   "metadata": {
    "scrolled": false
   },
   "outputs": [
    {
     "name": "stdout",
     "output_type": "stream",
     "text": [
      "          cat0    cat1    cat2    cat3    cat4    cat5    cat6    cat7  \\\n",
      "count   300000  300000  300000  300000  300000  300000  300000  300000   \n",
      "unique       2      15      19      13      20      84      16      51   \n",
      "top          A       I       A       A       E      BI       A      AH   \n",
      "freq    223525   90809  168694  187251  129385  238563  187896   45818   \n",
      "\n",
      "          cat8    cat9   cat10   cat11   cat12   cat13   cat14   cat15  \\\n",
      "count   300000  300000  300000  300000  300000  300000  300000  300000   \n",
      "unique      61      19     299       2       2       2       2       4   \n",
      "top         BM       A      DJ       A       A       A       A       B   \n",
      "freq     42380  201945   31584  258932  257139  292712  160166  203574   \n",
      "\n",
      "         cat16   cat17   cat18  \n",
      "count   300000  300000  300000  \n",
      "unique       4       4       4  \n",
      "top          D       D       B  \n",
      "freq    206906  247125  255482  \n"
     ]
    }
   ],
   "source": [
    "#Summary of categorical features displaying the number of levels (\"unique\") and the mostly present class in the column together with its frequency to be compared with the total number of observations in our training set (300,000)\n",
    "print(X_train_cat.describe())"
   ]
  },
  {
   "cell_type": "markdown",
   "id": "continuous-enforcement",
   "metadata": {},
   "source": [
    "Then, we inspect each categorical variable by counting the number of observations per level."
   ]
  },
  {
   "cell_type": "code",
   "execution_count": 12,
   "id": "deadly-eight",
   "metadata": {},
   "outputs": [
    {
     "data": {
      "text/plain": [
       "0    220539\n",
       "1     79461\n",
       "Name: target, dtype: int64"
      ]
     },
     "execution_count": 12,
     "metadata": {},
     "output_type": "execute_result"
    }
   ],
   "source": [
    "#Quantifying binary values of the response \"target\"\n",
    "train_set['target'].value_counts()"
   ]
  },
  {
   "cell_type": "markdown",
   "id": "enhanced-jacket",
   "metadata": {},
   "source": [
    "As the response \"target\" in the training dataset is represented by 0's in 73.5% of cases, we display how categorical levels in each column contribute in terms of frequency to the final binary outcome."
   ]
  },
  {
   "cell_type": "code",
   "execution_count": 13,
   "id": "tropical-somalia",
   "metadata": {
    "scrolled": true
   },
   "outputs": [
    {
     "data": {
      "text/plain": [
       "A    223525\n",
       "B     76475\n",
       "Name: cat0, dtype: int64"
      ]
     },
     "execution_count": 13,
     "metadata": {},
     "output_type": "execute_result"
    }
   ],
   "source": [
    "X_train_cat['cat0'].value_counts()"
   ]
  },
  {
   "cell_type": "code",
   "execution_count": 14,
   "id": "tight-scenario",
   "metadata": {
    "scrolled": true
   },
   "outputs": [
    {
     "data": {
      "text/plain": [
       "<AxesSubplot:xlabel='cat0', ylabel='count'>"
      ]
     },
     "execution_count": 14,
     "metadata": {},
     "output_type": "execute_result"
    },
    {
     "data": {
      "image/png": "[encoded data removed]",
      "text/plain": [
       "<Figure size 432x288 with 1 Axes>"
      ]
     },
     "metadata": {
      "needs_background": "light"
     },
     "output_type": "display_data"
    }
   ],
   "source": [
    "#Checking which categorical observation corresponds to which response (0,1)\n",
    "sns.countplot(data = train_set, x=\"cat0\", hue=\"target\")"
   ]
  },
  {
   "cell_type": "markdown",
   "id": "advisory-database",
   "metadata": {},
   "source": [
    "In \"cat0\" two-thirds of 0's derive from level \"A\", whereas the proportion increases as we deal with \"target\" 1."
   ]
  },
  {
   "cell_type": "code",
   "execution_count": 15,
   "id": "fiscal-spider",
   "metadata": {},
   "outputs": [
    {
     "data": {
      "text/plain": [
       "I    90809\n",
       "F    43818\n",
       "K    41870\n",
       "L    31891\n",
       "H    17257\n",
       "N    13231\n",
       "M    11354\n",
       "G    11248\n",
       "A    10547\n",
       "J    10036\n",
       "O     8740\n",
       "B     6847\n",
       "C     1703\n",
       "D      414\n",
       "E      235\n",
       "Name: cat1, dtype: int64"
      ]
     },
     "execution_count": 15,
     "metadata": {},
     "output_type": "execute_result"
    }
   ],
   "source": [
    "X_train_cat['cat1'].value_counts()"
   ]
  },
  {
   "cell_type": "code",
   "execution_count": 16,
   "id": "standard-malpractice",
   "metadata": {},
   "outputs": [
    {
     "data": {
      "text/plain": [
       "<AxesSubplot:xlabel='cat1', ylabel='count'>"
      ]
     },
     "execution_count": 16,
     "metadata": {},
     "output_type": "execute_result"
    },
    {
     "data": {
      "image/png": "[encoded data removed]",
      "text/plain": [
       "<Figure size 720x648 with 1 Axes>"
      ]
     },
     "metadata": {
      "needs_background": "light"
     },
     "output_type": "display_data"
    }
   ],
   "source": [
    "plt.figure(figsize = (10,9))\n",
    "sns.countplot(data = train_set, x=\"cat1\", hue=\"target\")"
   ]
  },
  {
   "cell_type": "markdown",
   "id": "alpine-thursday",
   "metadata": {},
   "source": [
    "\"I\", \"K\" and \"F\" categories in \"cat1\" show a clear predominance of 0's in the final training output. This might suggest a higher correlation between these and the \"target\". Curiously, in three cases the opposite trend is spotted (\"L\", \"H\", \"G\")."
   ]
  },
  {
   "cell_type": "code",
   "execution_count": 17,
   "id": "minute-italian",
   "metadata": {
    "scrolled": true
   },
   "outputs": [
    {
     "data": {
      "text/plain": [
       "A    168694\n",
       "C     38875\n",
       "D     22720\n",
       "G     18225\n",
       "Q     10901\n",
       "F      9877\n",
       "J      9102\n",
       "M      8068\n",
       "I      5287\n",
       "L      3997\n",
       "O      2749\n",
       "N       340\n",
       "H       219\n",
       "B       218\n",
       "S       197\n",
       "U       166\n",
       "R       129\n",
       "K       126\n",
       "E       110\n",
       "Name: cat2, dtype: int64"
      ]
     },
     "execution_count": 17,
     "metadata": {},
     "output_type": "execute_result"
    }
   ],
   "source": [
    "X_train_cat['cat2'].value_counts()"
   ]
  },
  {
   "cell_type": "code",
   "execution_count": 18,
   "id": "amateur-accommodation",
   "metadata": {
    "scrolled": true
   },
   "outputs": [
    {
     "data": {
      "text/plain": [
       "<AxesSubplot:xlabel='cat2', ylabel='count'>"
      ]
     },
     "execution_count": 18,
     "metadata": {},
     "output_type": "execute_result"
    },
    {
     "data": {
      "image/png": "[encoded data removed]",
      "text/plain": [
       "<Figure size 720x648 with 1 Axes>"
      ]
     },
     "metadata": {
      "needs_background": "light"
     },
     "output_type": "display_data"
    }
   ],
   "source": [
    "plt.figure(figsize = (10,9))\n",
    "sns.countplot(data = train_set, x=\"cat2\", hue=\"target\")"
   ]
  },
  {
   "cell_type": "markdown",
   "id": "designed-copper",
   "metadata": {},
   "source": [
    "Eight out of nineteen levels in \"cat2\" are less frequent than the remaining ones. Except for classes \"O\", \"Q\" and \"M\", a final 0-label prevails."
   ]
  },
  {
   "cell_type": "code",
   "execution_count": 19,
   "id": "stock-explosion",
   "metadata": {
    "scrolled": true
   },
   "outputs": [
    {
     "data": {
      "text/plain": [
       "A    187251\n",
       "B     79951\n",
       "C     15957\n",
       "D      8676\n",
       "E      3318\n",
       "F      2489\n",
       "K       846\n",
       "G       372\n",
       "L       292\n",
       "J       286\n",
       "H       274\n",
       "I       177\n",
       "N       111\n",
       "Name: cat3, dtype: int64"
      ]
     },
     "execution_count": 19,
     "metadata": {},
     "output_type": "execute_result"
    }
   ],
   "source": [
    "X_train_cat['cat3'].value_counts()"
   ]
  },
  {
   "cell_type": "code",
   "execution_count": 20,
   "id": "academic-history",
   "metadata": {},
   "outputs": [
    {
     "data": {
      "text/plain": [
       "<AxesSubplot:xlabel='cat3', ylabel='count'>"
      ]
     },
     "execution_count": 20,
     "metadata": {},
     "output_type": "execute_result"
    },
    {
     "data": {
      "image/png": "[encoded data removed]",
      "text/plain": [
       "<Figure size 720x648 with 1 Axes>"
      ]
     },
     "metadata": {
      "needs_background": "light"
     },
     "output_type": "display_data"
    }
   ],
   "source": [
    "plt.figure(figsize = (10,9))\n",
    "sns.countplot(data = train_set, x=\"cat3\", hue=\"target\")"
   ]
  },
  {
   "cell_type": "markdown",
   "id": "white-blame",
   "metadata": {},
   "source": [
    "As we consider the most present categorical values (\"B\", \"A\", \"C\", \"D\") in \"cat3\", them all largely promote to 0's in the \"target\"."
   ]
  },
  {
   "cell_type": "code",
   "execution_count": 21,
   "id": "suspended-frontier",
   "metadata": {
    "scrolled": true
   },
   "outputs": [
    {
     "data": {
      "text/plain": [
       "E    129385\n",
       "F     76678\n",
       "G     30754\n",
       "D     27919\n",
       "H     23388\n",
       "J      4307\n",
       "I      3241\n",
       "K      1481\n",
       "M       547\n",
       "C       506\n",
       "O       330\n",
       "B       301\n",
       "S       285\n",
       "T       215\n",
       "L       214\n",
       "Q       117\n",
       "P       100\n",
       "A        92\n",
       "N        81\n",
       "R        59\n",
       "Name: cat4, dtype: int64"
      ]
     },
     "execution_count": 21,
     "metadata": {},
     "output_type": "execute_result"
    }
   ],
   "source": [
    "X_train_cat['cat4'].value_counts()"
   ]
  },
  {
   "cell_type": "code",
   "execution_count": 22,
   "id": "indoor-panic",
   "metadata": {
    "scrolled": false
   },
   "outputs": [
    {
     "data": {
      "text/plain": [
       "<AxesSubplot:xlabel='cat4', ylabel='count'>"
      ]
     },
     "execution_count": 22,
     "metadata": {},
     "output_type": "execute_result"
    },
    {
     "data": {
      "image/png": "[encoded data removed]",
      "text/plain": [
       "<Figure size 720x648 with 1 Axes>"
      ]
     },
     "metadata": {
      "needs_background": "light"
     },
     "output_type": "display_data"
    }
   ],
   "source": [
    "plt.figure(figsize = (10,9))\n",
    "sns.countplot(data = train_set, x=\"cat4\", hue=\"target\")"
   ]
  },
  {
   "cell_type": "markdown",
   "id": "eight-allergy",
   "metadata": {},
   "source": [
    "In \"cat4\", only levels \"I\" and \"J\" contribute more to \"target\" 1."
   ]
  },
  {
   "cell_type": "code",
   "execution_count": 23,
   "id": "wired-symposium",
   "metadata": {
    "scrolled": true
   },
   "outputs": [
    {
     "data": {
      "text/plain": [
       "A    187896\n",
       "C     71427\n",
       "E     16581\n",
       "G     11198\n",
       "I      6648\n",
       "M      2182\n",
       "K      1552\n",
       "O       673\n",
       "S       583\n",
       "F       312\n",
       "D       214\n",
       "Y       212\n",
       "B       172\n",
       "U       155\n",
       "Q       124\n",
       "W        71\n",
       "Name: cat6, dtype: int64"
      ]
     },
     "execution_count": 23,
     "metadata": {},
     "output_type": "execute_result"
    }
   ],
   "source": [
    "X_train_cat['cat6'].value_counts()"
   ]
  },
  {
   "cell_type": "code",
   "execution_count": 24,
   "id": "bored-browse",
   "metadata": {},
   "outputs": [
    {
     "data": {
      "text/plain": [
       "<AxesSubplot:xlabel='cat6', ylabel='count'>"
      ]
     },
     "execution_count": 24,
     "metadata": {},
     "output_type": "execute_result"
    },
    {
     "data": {
      "image/png": "[encoded data removed]",
      "text/plain": [
       "<Figure size 720x648 with 1 Axes>"
      ]
     },
     "metadata": {
      "needs_background": "light"
     },
     "output_type": "display_data"
    }
   ],
   "source": [
    "plt.figure(figsize = (10,9))\n",
    "sns.countplot(data = train_set, x=\"cat6\", hue=\"target\")"
   ]
  },
  {
   "cell_type": "markdown",
   "id": "interesting-douglas",
   "metadata": {},
   "source": [
    "Level \"A\" is by far the most present in \"cat6\" and corresponds to \"target\" 1 only in around 21% of its values."
   ]
  },
  {
   "cell_type": "code",
   "execution_count": 25,
   "id": "rolled-unknown",
   "metadata": {},
   "outputs": [
    {
     "data": {
      "text/plain": [
       "A    201945\n",
       "E     33046\n",
       "C     23360\n",
       "F     14371\n",
       "J      8982\n",
       "I      7931\n",
       "N      4785\n",
       "L      2957\n",
       "R       862\n",
       "V       360\n",
       "B       280\n",
       "G       214\n",
       "Q       211\n",
       "D       189\n",
       "W       125\n",
       "O       122\n",
       "U       101\n",
       "X        99\n",
       "S        60\n",
       "Name: cat9, dtype: int64"
      ]
     },
     "execution_count": 25,
     "metadata": {},
     "output_type": "execute_result"
    }
   ],
   "source": [
    "X_train_cat['cat9'].value_counts()"
   ]
  },
  {
   "cell_type": "code",
   "execution_count": 26,
   "id": "composed-restaurant",
   "metadata": {},
   "outputs": [
    {
     "data": {
      "text/plain": [
       "<AxesSubplot:xlabel='cat9', ylabel='count'>"
      ]
     },
     "execution_count": 26,
     "metadata": {},
     "output_type": "execute_result"
    },
    {
     "data": {
      "image/png": "[encoded data removed]",
      "text/plain": [
       "<Figure size 2160x648 with 1 Axes>"
      ]
     },
     "metadata": {
      "needs_background": "light"
     },
     "output_type": "display_data"
    }
   ],
   "source": [
    "plt.figure(figsize = (30,9))\n",
    "sns.countplot(data = train_set, x=\"cat9\", hue=\"target\")"
   ]
  },
  {
   "cell_type": "markdown",
   "id": "fewer-engagement",
   "metadata": {},
   "source": [
    "As we consider \"cat9\", observations largely belong to class \"A\", which counts six times the values matching the second most frequent level (\"E\")."
   ]
  },
  {
   "cell_type": "code",
   "execution_count": 27,
   "id": "fantastic-digit",
   "metadata": {},
   "outputs": [
    {
     "data": {
      "text/plain": [
       "A    258932\n",
       "B     41068\n",
       "Name: cat11, dtype: int64"
      ]
     },
     "execution_count": 27,
     "metadata": {},
     "output_type": "execute_result"
    }
   ],
   "source": [
    "X_train_cat['cat11'].value_counts()"
   ]
  },
  {
   "cell_type": "code",
   "execution_count": 28,
   "id": "analyzed-honolulu",
   "metadata": {
    "scrolled": true
   },
   "outputs": [
    {
     "data": {
      "text/plain": [
       "<AxesSubplot:xlabel='cat11', ylabel='count'>"
      ]
     },
     "execution_count": 28,
     "metadata": {},
     "output_type": "execute_result"
    },
    {
     "data": {
      "image/png": "[encoded data removed]",
      "text/plain": [
       "<Figure size 432x288 with 1 Axes>"
      ]
     },
     "metadata": {
      "needs_background": "light"
     },
     "output_type": "display_data"
    }
   ],
   "source": [
    "sns.countplot(data = train_set, x=\"cat11\", hue=\"target\")"
   ]
  },
  {
   "cell_type": "markdown",
   "id": "recognized-harvey",
   "metadata": {},
   "source": [
    "Level \"A\" dominates most of observations of \"cat11\" feature. However, compared to the second level \"B\", many more values correspond to 0-label in the \"target\"."
   ]
  },
  {
   "cell_type": "code",
   "execution_count": 29,
   "id": "latin-highway",
   "metadata": {},
   "outputs": [
    {
     "data": {
      "text/plain": [
       "A    257139\n",
       "B     42861\n",
       "Name: cat12, dtype: int64"
      ]
     },
     "execution_count": 29,
     "metadata": {},
     "output_type": "execute_result"
    }
   ],
   "source": [
    "X_train_cat['cat12'].value_counts()"
   ]
  },
  {
   "cell_type": "code",
   "execution_count": 30,
   "id": "incomplete-luxembourg",
   "metadata": {
    "scrolled": true
   },
   "outputs": [
    {
     "data": {
      "text/plain": [
       "<AxesSubplot:xlabel='cat12', ylabel='count'>"
      ]
     },
     "execution_count": 30,
     "metadata": {},
     "output_type": "execute_result"
    },
    {
     "data": {
      "image/png": "[encoded data removed]",
      "text/plain": [
       "<Figure size 432x288 with 1 Axes>"
      ]
     },
     "metadata": {
      "needs_background": "light"
     },
     "output_type": "display_data"
    }
   ],
   "source": [
    "sns.countplot(data = train_set, x=\"cat12\", hue=\"target\")"
   ]
  },
  {
   "cell_type": "markdown",
   "id": "detailed-triple",
   "metadata": {},
   "source": [
    "Although \"B\" accounts for only 14.3% of total observed values in \"cat12\", the proportion of contribution to \"target\" from both categories respectively is quite similar around 72% (0) vs 28% (1)."
   ]
  },
  {
   "cell_type": "code",
   "execution_count": 31,
   "id": "sudden-strip",
   "metadata": {
    "scrolled": true
   },
   "outputs": [
    {
     "data": {
      "text/plain": [
       "A    292712\n",
       "B      7288\n",
       "Name: cat13, dtype: int64"
      ]
     },
     "execution_count": 31,
     "metadata": {},
     "output_type": "execute_result"
    }
   ],
   "source": [
    "X_train_cat['cat13'].value_counts()"
   ]
  },
  {
   "cell_type": "code",
   "execution_count": 32,
   "id": "personal-soundtrack",
   "metadata": {
    "scrolled": true
   },
   "outputs": [
    {
     "data": {
      "text/plain": [
       "<AxesSubplot:xlabel='cat13', ylabel='count'>"
      ]
     },
     "execution_count": 32,
     "metadata": {},
     "output_type": "execute_result"
    },
    {
     "data": {
      "image/png": "[encoded data removed]",
      "text/plain": [
       "<Figure size 432x288 with 1 Axes>"
      ]
     },
     "metadata": {
      "needs_background": "light"
     },
     "output_type": "display_data"
    }
   ],
   "source": [
    "sns.countplot(data = train_set, x=\"cat13\", hue=\"target\")"
   ]
  },
  {
   "cell_type": "markdown",
   "id": "together-heading",
   "metadata": {},
   "source": [
    "Like in \"cat11\", class \"A\" is recorded across the majority of observations of column vector \"cat13\". As a consequence, this feature contributes to the preponderance of 0's in the training \"target\"."
   ]
  },
  {
   "cell_type": "code",
   "execution_count": 33,
   "id": "unlimited-forty",
   "metadata": {},
   "outputs": [
    {
     "data": {
      "text/plain": [
       "A    160166\n",
       "B    139834\n",
       "Name: cat14, dtype: int64"
      ]
     },
     "execution_count": 33,
     "metadata": {},
     "output_type": "execute_result"
    }
   ],
   "source": [
    "X_train_cat['cat14'].value_counts()"
   ]
  },
  {
   "cell_type": "code",
   "execution_count": 34,
   "id": "active-health",
   "metadata": {
    "scrolled": true
   },
   "outputs": [
    {
     "data": {
      "text/plain": [
       "<AxesSubplot:xlabel='cat14', ylabel='count'>"
      ]
     },
     "execution_count": 34,
     "metadata": {},
     "output_type": "execute_result"
    },
    {
     "data": {
      "image/png": "[encoded data removed]",
      "text/plain": [
       "<Figure size 432x288 with 1 Axes>"
      ]
     },
     "metadata": {
      "needs_background": "light"
     },
     "output_type": "display_data"
    }
   ],
   "source": [
    "sns.countplot(data = train_set, x=\"cat14\", hue=\"target\")"
   ]
  },
  {
   "cell_type": "markdown",
   "id": "synthetic-studio",
   "metadata": {},
   "source": [
    "\"cat14\" only includes two levels, \"A\" and \"B\", which both see \"target\" equal to 0 overcoming the 1's."
   ]
  },
  {
   "cell_type": "code",
   "execution_count": 35,
   "id": "rural-specific",
   "metadata": {},
   "outputs": [
    {
     "data": {
      "text/plain": [
       "B    203574\n",
       "D     83188\n",
       "A     11072\n",
       "C      2166\n",
       "Name: cat15, dtype: int64"
      ]
     },
     "execution_count": 35,
     "metadata": {},
     "output_type": "execute_result"
    }
   ],
   "source": [
    "X_train_cat['cat15'].value_counts()"
   ]
  },
  {
   "cell_type": "code",
   "execution_count": 36,
   "id": "hydraulic-pepper",
   "metadata": {
    "scrolled": true
   },
   "outputs": [
    {
     "data": {
      "text/plain": [
       "<AxesSubplot:xlabel='cat15', ylabel='count'>"
      ]
     },
     "execution_count": 36,
     "metadata": {},
     "output_type": "execute_result"
    },
    {
     "data": {
      "image/png": "[encoded data removed]",
      "text/plain": [
       "<Figure size 432x288 with 1 Axes>"
      ]
     },
     "metadata": {
      "needs_background": "light"
     },
     "output_type": "display_data"
    }
   ],
   "source": [
    "sns.countplot(data = train_set, x=\"cat15\", hue=\"target\")"
   ]
  },
  {
   "cell_type": "markdown",
   "id": "powered-generic",
   "metadata": {},
   "source": [
    "Histogram for \"cat15\" shows classes \"A\" and \"C\" as the least frequent values, while the dominant \"B\" with over 200,000 observations leads to a \"target\" 0 in 86% of cases."
   ]
  },
  {
   "cell_type": "code",
   "execution_count": 37,
   "id": "educational-intersection",
   "metadata": {},
   "outputs": [
    {
     "data": {
      "text/plain": [
       "D    206906\n",
       "B     84541\n",
       "C      5369\n",
       "A      3184\n",
       "Name: cat16, dtype: int64"
      ]
     },
     "execution_count": 37,
     "metadata": {},
     "output_type": "execute_result"
    }
   ],
   "source": [
    "X_train_cat['cat16'].value_counts()"
   ]
  },
  {
   "cell_type": "code",
   "execution_count": 38,
   "id": "likely-reach",
   "metadata": {
    "scrolled": true
   },
   "outputs": [
    {
     "data": {
      "text/plain": [
       "<AxesSubplot:xlabel='cat16', ylabel='count'>"
      ]
     },
     "execution_count": 38,
     "metadata": {},
     "output_type": "execute_result"
    },
    {
     "data": {
      "image/png": "[encoded data removed]",
      "text/plain": [
       "<Figure size 432x288 with 1 Axes>"
      ]
     },
     "metadata": {
      "needs_background": "light"
     },
     "output_type": "display_data"
    }
   ],
   "source": [
    "sns.countplot(data = train_set, x=\"cat16\", hue=\"target\")"
   ]
  },
  {
   "cell_type": "markdown",
   "id": "rubber-union",
   "metadata": {},
   "source": [
    "Level \"D\" is the most frequent and it mainly results into a \"target\" 0. On the other hand, for \"B\" in \"cat16\", \"target\" 1 prevails in the training set."
   ]
  },
  {
   "cell_type": "code",
   "execution_count": 39,
   "id": "related-newark",
   "metadata": {
    "scrolled": true
   },
   "outputs": [
    {
     "data": {
      "text/plain": [
       "D    247125\n",
       "B     26136\n",
       "C     25325\n",
       "A      1414\n",
       "Name: cat17, dtype: int64"
      ]
     },
     "execution_count": 39,
     "metadata": {},
     "output_type": "execute_result"
    }
   ],
   "source": [
    "X_train_cat['cat17'].value_counts()"
   ]
  },
  {
   "cell_type": "code",
   "execution_count": 40,
   "id": "possible-purse",
   "metadata": {
    "scrolled": true
   },
   "outputs": [
    {
     "data": {
      "text/plain": [
       "<AxesSubplot:xlabel='cat17', ylabel='count'>"
      ]
     },
     "execution_count": 40,
     "metadata": {},
     "output_type": "execute_result"
    },
    {
     "data": {
      "image/png": "[encoded data removed]",
      "text/plain": [
       "<Figure size 432x288 with 1 Axes>"
      ]
     },
     "metadata": {
      "needs_background": "light"
     },
     "output_type": "display_data"
    }
   ],
   "source": [
    "sns.countplot(data = train_set, x=\"cat17\", hue=\"target\")"
   ]
  },
  {
   "cell_type": "markdown",
   "id": "derived-pakistan",
   "metadata": {},
   "source": [
    "In \"cat17\", class \"A\" is underrepresented, while the dominant \"B\" with a total of around 250,000 observations leads to a \"target\" 0 in around 80% of its values. The probability of getting \"target\" equal to 1 outweights the one for a 0-\"target\" if the subject sampled displays level \"C\"."
   ]
  },
  {
   "cell_type": "code",
   "execution_count": 41,
   "id": "unable-stamp",
   "metadata": {},
   "outputs": [
    {
     "data": {
      "text/plain": [
       "B    255482\n",
       "D     22394\n",
       "C     21414\n",
       "A       710\n",
       "Name: cat18, dtype: int64"
      ]
     },
     "execution_count": 41,
     "metadata": {},
     "output_type": "execute_result"
    }
   ],
   "source": [
    "X_train_cat['cat18'].value_counts()"
   ]
  },
  {
   "cell_type": "code",
   "execution_count": 42,
   "id": "cathedral-torture",
   "metadata": {
    "scrolled": false
   },
   "outputs": [
    {
     "data": {
      "text/plain": [
       "<AxesSubplot:xlabel='cat18', ylabel='count'>"
      ]
     },
     "execution_count": 42,
     "metadata": {},
     "output_type": "execute_result"
    },
    {
     "data": {
      "image/png": "[encoded data removed]",
      "text/plain": [
       "<Figure size 432x288 with 1 Axes>"
      ]
     },
     "metadata": {
      "needs_background": "light"
     },
     "output_type": "display_data"
    }
   ],
   "source": [
    "sns.countplot(data = train_set, x=\"cat18\", hue=\"target\")"
   ]
  },
  {
   "cell_type": "markdown",
   "id": "conscious-smith",
   "metadata": {},
   "source": [
    "Among the four classes in \"cat18\", level \"B\" undoubtedly dominates in counts and mostly generate a 0-\"target\". Contrarily, if a client shows \"C\" or \"D\", it will more probably result into a 1-\"target\"."
   ]
  },
  {
   "cell_type": "markdown",
   "id": "equivalent-belfast",
   "metadata": {},
   "source": [
    "Histograms for \"cat5\", \"cat7\", \"cat8\", \"cat10\" are not included because they account for an extremely high number of categories. "
   ]
  },
  {
   "cell_type": "code",
   "execution_count": 43,
   "id": "postal-fifteen",
   "metadata": {},
   "outputs": [
    {
     "data": {
      "text/plain": [
       "BI    238563\n",
       "AB     41639\n",
       "BU      6740\n",
       "K       2713\n",
       "G        683\n",
       "       ...  \n",
       "ZZ        25\n",
       "B         24\n",
       "AG        19\n",
       "BP        19\n",
       "CB        18\n",
       "Name: cat5, Length: 84, dtype: int64"
      ]
     },
     "execution_count": 43,
     "metadata": {},
     "output_type": "execute_result"
    }
   ],
   "source": [
    "X_train_cat['cat5'].value_counts()"
   ]
  },
  {
   "cell_type": "code",
   "execution_count": 44,
   "id": "liquid-ecology",
   "metadata": {},
   "outputs": [
    {
     "data": {
      "text/plain": [
       "AH    45818\n",
       "E     39601\n",
       "AS    25326\n",
       "J     16135\n",
       "AN    16097\n",
       "U     15674\n",
       "N     14983\n",
       "AF    11455\n",
       "AK     9697\n",
       "AV     7958\n",
       "S      7921\n",
       "AI     7668\n",
       "A      6432\n",
       "K      6264\n",
       "Y      5896\n",
       "G      5656\n",
       "F      5550\n",
       "AW     5322\n",
       "C      4324\n",
       "AA     3692\n",
       "R      2991\n",
       "AX     2635\n",
       "O      2538\n",
       "AP     2311\n",
       "AD     1826\n",
       "V      1798\n",
       "AY     1749\n",
       "AO     1734\n",
       "AG     1706\n",
       "H      1692\n",
       "AL     1572\n",
       "W      1525\n",
       "B      1408\n",
       "Q      1306\n",
       "AM     1183\n",
       "AR     1121\n",
       "L       941\n",
       "AT      918\n",
       "M       907\n",
       "D       835\n",
       "BA      781\n",
       "AU      671\n",
       "X       662\n",
       "AC      660\n",
       "I       640\n",
       "P       611\n",
       "AB      539\n",
       "AE      458\n",
       "T       379\n",
       "AJ      229\n",
       "AQ      205\n",
       "Name: cat7, dtype: int64"
      ]
     },
     "execution_count": 44,
     "metadata": {},
     "output_type": "execute_result"
    }
   ],
   "source": [
    "X_train_cat['cat7'].value_counts()"
   ]
  },
  {
   "cell_type": "code",
   "execution_count": 45,
   "id": "behind-marking",
   "metadata": {},
   "outputs": [
    {
     "data": {
      "text/plain": [
       "BM    42380\n",
       "AE    24442\n",
       "AX    22129\n",
       "Y     20864\n",
       "H     15561\n",
       "      ...  \n",
       "AQ       69\n",
       "T        67\n",
       "B        57\n",
       "AC       57\n",
       "AR       33\n",
       "Name: cat8, Length: 61, dtype: int64"
      ]
     },
     "execution_count": 45,
     "metadata": {},
     "output_type": "execute_result"
    }
   ],
   "source": [
    "X_train_cat['cat8'].value_counts()"
   ]
  },
  {
   "cell_type": "code",
   "execution_count": 46,
   "id": "classified-stewart",
   "metadata": {},
   "outputs": [
    {
     "data": {
      "text/plain": [
       "DJ    31584\n",
       "HK    30998\n",
       "DP    23679\n",
       "GS    16619\n",
       "CR    14382\n",
       "      ...  \n",
       "GH        1\n",
       "ML        1\n",
       "GG        1\n",
       "MW        1\n",
       "BA        1\n",
       "Name: cat10, Length: 299, dtype: int64"
      ]
     },
     "execution_count": 46,
     "metadata": {},
     "output_type": "execute_result"
    }
   ],
   "source": [
    "X_train_cat['cat10'].value_counts()"
   ]
  },
  {
   "cell_type": "markdown",
   "id": "enclosed-reset",
   "metadata": {},
   "source": [
    "To sum up, many classes are rather disproportionate as we compare their densities. This might lead to overfitting as the final training dataset becomes extremely large after converting categorical inputs into binary ones through One-Hot Encoding. "
   ]
  }
 ],
 "metadata": {
  "kernelspec": {
   "display_name": "Python 3",
   "language": "python",
   "name": "python3"
  },
  "language_info": {
   "codemirror_mode": {
    "name": "ipython",
    "version": 3
   },
   "file_extension": ".py",
   "mimetype": "text/x-python",
   "name": "python",
   "nbconvert_exporter": "python",
   "pygments_lexer": "ipython3",
   "version": "3.9.1"
  }
 },
 "nbformat": 4,
 "nbformat_minor": 5
}
